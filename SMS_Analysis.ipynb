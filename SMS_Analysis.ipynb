{
  "cells": [
    {
      "attachments": {},
      "cell_type": "markdown",
      "metadata": {
        "id": "E1iJW-sapoTa"
      },
      "source": [
        "# Final Project-Applied Text Mining\n",
        "\n",
        "Team 6: Lai Leng Chan, Minsu Kim, Christopher Garcia\n",
        "\n",
        "Objective:\n",
        "\n",
        "Webscraping and analysis of product reviews."
      ]
    },
    {
      "cell_type": "code",
      "execution_count": 3,
      "metadata": {
        "id": "oayX4Gp9pnMn"
      },
      "outputs": [
        {
          "name": "stderr",
          "output_type": "stream",
          "text": [
            "[nltk_data] Downloading package punkt to\n",
            "[nltk_data]     /Users/christophergarcia/nltk_data...\n",
            "[nltk_data]   Package punkt is already up-to-date!\n"
          ]
        }
      ],
      "source": [
        "# Import required libraries\n",
        "import pandas as pd\n",
        "import numpy as np\n",
        "import matplotlib.pyplot as plt\n",
        "plt.style.use('ggplot')\n",
        "\n",
        "import os \n",
        "from PIL import Image\n",
        "from IPython.display import IFrame\n",
        "import string\n",
        "from string import punctuation\n",
        "import nltk\n",
        "import re\n",
        "import subprocess\n",
        "from wordcloud import WordCloud\n",
        "from collections import Counter, defaultdict\n",
        "nltk.download('punkt')\n",
        "from nltk.corpus import stopwords\n",
        "stop = stopwords.words(\"english\")\n",
        "\n",
        "import warnings"
      ]
    },
    {
      "cell_type": "code",
      "execution_count": null,
      "metadata": {},
      "outputs": [],
      "source": []
    }
  ],
  "metadata": {
    "colab": {
      "provenance": []
    },
    "kernelspec": {
      "display_name": "base",
      "language": "python",
      "name": "python3"
    },
    "language_info": {
      "codemirror_mode": {
        "name": "ipython",
        "version": 3
      },
      "file_extension": ".py",
      "mimetype": "text/x-python",
      "name": "python",
      "nbconvert_exporter": "python",
      "pygments_lexer": "ipython3",
      "version": "3.9.7"
    },
    "vscode": {
      "interpreter": {
        "hash": "74bb3ebea2e95299603b491995f7eabbf494d5ca9bbb29b7606a69c665068003"
      }
    }
  },
  "nbformat": 4,
  "nbformat_minor": 0
}
