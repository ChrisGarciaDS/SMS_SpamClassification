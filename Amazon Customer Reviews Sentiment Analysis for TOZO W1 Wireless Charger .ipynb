{
 "cells": [
  {
   "cell_type": "markdown",
   "id": "205e4289",
   "metadata": {},
   "source": [
    "# Team 6 - Web Scraping Amazon Reviews on TOZO W1 Wireless Charger\n",
    "\n",
    "Team 6: Lai Leng Chan, Minsu Kim, Christopher Garcia\n",
    "\n",
    "Objective:"
   ]
  },
  {
   "cell_type": "markdown",
   "id": "d6f5623f",
   "metadata": {},
   "source": [
    "## API Scraping & Data Ingestion"
   ]
  },
  {
   "cell_type": "code",
   "execution_count": 2,
   "id": "4651f31d",
   "metadata": {},
   "outputs": [],
   "source": [
    "# Importing necessary libraries\n",
    "import os\n",
    "import pandas as pd\n",
    "import datetime\n",
    "import re\n",
    "import requests\n",
    "import time\n",
    "import emoji\n",
    "\n",
    "from bs4 import BeautifulSoup\n",
    "from collections import defaultdict, Counter\n",
    "import random\n",
    "from urllib.parse import urlencode\n",
    "\n",
    "from collections import Counter, defaultdict\n",
    "from nltk.corpus import stopwords\n",
    "from nltk.tokenize import word_tokenize\n",
    "from string import punctuation\n",
    "from wordcloud import WordCloud \n",
    "\n",
    "from sklearn.feature_extraction.text import TfidfTransformer, CountVectorizer, TfidfVectorizer\n",
    "\n",
    "import warnings\n",
    "warnings.filterwarnings(\"ignore\")"
   ]
  },
  {
   "cell_type": "code",
   "execution_count": 37,
   "id": "447ee001",
   "metadata": {},
   "outputs": [],
   "source": [
    "from matplotlib import pyplot as plt\n",
    "import numpy as np\n",
    "import seaborn as sns\n",
    "from sklearn.model_selection import train_test_split\n",
    "from sklearn.linear_model import LogisticRegression\n",
    "from sklearn.svm import LinearSVC\n",
    "from sklearn.naive_bayes import MultinomialNB\n",
    "from sklearn.pipeline import Pipeline\n",
    "from sklearn import preprocessing\n",
    "from sklearn.metrics import classification_report, accuracy_score"
   ]
  },
  {
   "cell_type": "code",
   "execution_count": null,
   "id": "d766a0b6",
   "metadata": {},
   "outputs": [],
   "source": [
    "# After inspecting the HTML of the review page, we can see that the HTML line which we are trying \n",
    "# to scrape and extract follows the below format:\n",
    "# <span class=\"a-profile-name\">Nick</span>\n",
    "# where span is the tag for the HTML line and the class is \"a-profile-name\"\n",
    "\n",
    "# Define the list of URL that will be scraped\n",
    "\n",
    "# Define the base URL\n",
    "base_url = 'https://www.amazon.com/TOZO-Wireless-Upgraded-Sleep-Friendly-FastCharging/product-reviews/B07FM8R7J1/ref=cm_cr_getr_d_paging_btm_next_{}?ie=UTF8&reviewerType=all_reviews&pageNumber={}'\n",
    "\n",
    "# Set the desired maximum number of pages\n",
    "max_pages = 500  \n",
    "\n",
    "# Generate the list of URLs\n",
    "list_of_urls = [base_url.format(page_number, page_number) for page_number in range(1, max_pages + 1)]"
   ]
  },
  {
   "cell_type": "code",
   "execution_count": null,
   "id": "f4c14d06",
   "metadata": {},
   "outputs": [],
   "source": [
    "# Retrieve each of the url's HTML data and convert the data into a beautiful soup object\n",
    "# Find, extract and store reviewer names and review text into a list\n",
    "\n",
    "# We will extract the data from the webpage via ScrapeAPI\n",
    "\n",
    "reviews = []\n",
    "star_ratings = []\n",
    "data_string = \"\"\n",
    "\n",
    "for url in list_of_urls: \n",
    "    params = {'api_key': \"1327eb1bf20892837140fb2ade3f0714\", 'url': url}\n",
    "    response = requests.get('http://api.scraperapi.com/',   params=urlencode(params))\n",
    "    soup = BeautifulSoup(response.text, 'html.parser')\n",
    "\n",
    "    for item in soup.find_all(\"span\", {\"data-hook\": \"review-body\"}):\n",
    "      data_string = data_string + item.get_text()\n",
    "      reviews.append(data_string)\n",
    "      data_string = \"\"\n",
    "    \n",
    "    for item in soup.find_all(\"i\", {\"data-hook\": \"review-star-rating\"}):\n",
    "      star_ratings.append(item.get_text())"
   ]
  },
  {
   "cell_type": "code",
   "execution_count": null,
   "id": "567d8bae",
   "metadata": {},
   "outputs": [],
   "source": [
    "# Let's set up a dictionary to hold our customer names and reviews\n",
    "reviews_dict = {'Reviews': reviews, 'Star Ratings': star_ratings}\n",
    "\n",
    "# Print the lengths of each list.  \n",
    "print(len(star_ratings), len(reviews))"
   ]
  },
  {
   "cell_type": "code",
   "execution_count": null,
   "id": "f1c5f43e",
   "metadata": {},
   "outputs": [],
   "source": [
    "# Convert the dictionary to a DataFrame\n",
    "reviews_df = pd.DataFrame.from_dict(reviews_dict, orient='index')\n",
    "\n",
    "# Convert dataframe to CSV file for easier assess in the future\n",
    "reviews_df.to_csv('reviews.csv', index=False, header=True)"
   ]
  },
  {
   "cell_type": "code",
   "execution_count": null,
   "id": "2487684c",
   "metadata": {},
   "outputs": [],
   "source": [
    "reviews_df"
   ]
  },
  {
   "cell_type": "markdown",
   "id": "3712a055",
   "metadata": {},
   "source": [
    "## Data Proprocessing"
   ]
  },
  {
   "cell_type": "code",
   "execution_count": 4,
   "id": "17842fe8",
   "metadata": {},
   "outputs": [
    {
     "data": {
      "text/html": [
       "<div>\n",
       "<style scoped>\n",
       "    .dataframe tbody tr th:only-of-type {\n",
       "        vertical-align: middle;\n",
       "    }\n",
       "\n",
       "    .dataframe tbody tr th {\n",
       "        vertical-align: top;\n",
       "    }\n",
       "\n",
       "    .dataframe thead th {\n",
       "        text-align: right;\n",
       "    }\n",
       "</style>\n",
       "<table border=\"1\" class=\"dataframe\">\n",
       "  <thead>\n",
       "    <tr style=\"text-align: right;\">\n",
       "      <th></th>\n",
       "      <th>0</th>\n",
       "      <th>1</th>\n",
       "      <th>2</th>\n",
       "      <th>3</th>\n",
       "      <th>4</th>\n",
       "      <th>5</th>\n",
       "      <th>6</th>\n",
       "      <th>7</th>\n",
       "      <th>8</th>\n",
       "      <th>9</th>\n",
       "      <th>...</th>\n",
       "      <th>4790</th>\n",
       "      <th>4791</th>\n",
       "      <th>4792</th>\n",
       "      <th>4793</th>\n",
       "      <th>4794</th>\n",
       "      <th>4795</th>\n",
       "      <th>4796</th>\n",
       "      <th>4797</th>\n",
       "      <th>4798</th>\n",
       "      <th>4799</th>\n",
       "    </tr>\n",
       "  </thead>\n",
       "  <tbody>\n",
       "    <tr>\n",
       "      <th>0</th>\n",
       "      <td>\\nFirst, this charger looks fantastic. I got t...</td>\n",
       "      <td>\\nUPDATE:  Well...I was wrong about this wirel...</td>\n",
       "      <td>\\nThis works perfectly on the side table while...</td>\n",
       "      <td>\\nI purchased this charger for use in our camp...</td>\n",
       "      <td>\\nGot this for my Samsung Galaxy S23 phone, an...</td>\n",
       "      <td>\\nI ordered this charger after using one at my...</td>\n",
       "      <td>\\nCame here to see if there was any tips on ho...</td>\n",
       "      <td>\\nDevice must be placed carefully or it will f...</td>\n",
       "      <td>\\nCharges like advertised. I did have to take ...</td>\n",
       "      <td>\\nI wanted something to use instead of the typ...</td>\n",
       "      <td>...</td>\n",
       "      <td>\\nEven with Magsafe case on, charging is super...</td>\n",
       "      <td>\\nGreat charger! Able to charge my phone easil...</td>\n",
       "      <td>\\nBought two of these and one was giving me pr...</td>\n",
       "      <td>\\nI saw this on one of my colleagues desk at w...</td>\n",
       "      <td>\\nAn excellent product. It’s in our kitchen as...</td>\n",
       "      <td>\\nIt’s PERFECT for traveling. No more differen...</td>\n",
       "      <td>\\n\\n\\n\\n\\n                    The media could ...</td>\n",
       "      <td>\\nImpressed taking it out of the box.  All met...</td>\n",
       "      <td>\\nI love the design of this charger. Color on ...</td>\n",
       "      <td>\\nkinda finnicky cuz ur phone has to be in the...</td>\n",
       "    </tr>\n",
       "    <tr>\n",
       "      <th>1</th>\n",
       "      <td>4.0 out of 5 stars</td>\n",
       "      <td>5.0 out of 5 stars</td>\n",
       "      <td>5.0 out of 5 stars</td>\n",
       "      <td>5.0 out of 5 stars</td>\n",
       "      <td>5.0 out of 5 stars</td>\n",
       "      <td>4.0 out of 5 stars</td>\n",
       "      <td>5.0 out of 5 stars</td>\n",
       "      <td>4.0 out of 5 stars</td>\n",
       "      <td>5.0 out of 5 stars</td>\n",
       "      <td>5.0 out of 5 stars</td>\n",
       "      <td>...</td>\n",
       "      <td>5.0 out of 5 stars</td>\n",
       "      <td>5.0 out of 5 stars</td>\n",
       "      <td>5.0 out of 5 stars</td>\n",
       "      <td>5.0 out of 5 stars</td>\n",
       "      <td>5.0 out of 5 stars</td>\n",
       "      <td>5.0 out of 5 stars</td>\n",
       "      <td>5.0 out of 5 stars</td>\n",
       "      <td>5.0 out of 5 stars</td>\n",
       "      <td>3.0 out of 5 stars</td>\n",
       "      <td>4.0 out of 5 stars</td>\n",
       "    </tr>\n",
       "  </tbody>\n",
       "</table>\n",
       "<p>2 rows × 4800 columns</p>\n",
       "</div>"
      ],
      "text/plain": [
       "                                                   0  \\\n",
       "0  \\nFirst, this charger looks fantastic. I got t...   \n",
       "1                                 4.0 out of 5 stars   \n",
       "\n",
       "                                                   1  \\\n",
       "0  \\nUPDATE:  Well...I was wrong about this wirel...   \n",
       "1                                 5.0 out of 5 stars   \n",
       "\n",
       "                                                   2  \\\n",
       "0  \\nThis works perfectly on the side table while...   \n",
       "1                                 5.0 out of 5 stars   \n",
       "\n",
       "                                                   3  \\\n",
       "0  \\nI purchased this charger for use in our camp...   \n",
       "1                                 5.0 out of 5 stars   \n",
       "\n",
       "                                                   4  \\\n",
       "0  \\nGot this for my Samsung Galaxy S23 phone, an...   \n",
       "1                                 5.0 out of 5 stars   \n",
       "\n",
       "                                                   5  \\\n",
       "0  \\nI ordered this charger after using one at my...   \n",
       "1                                 4.0 out of 5 stars   \n",
       "\n",
       "                                                   6  \\\n",
       "0  \\nCame here to see if there was any tips on ho...   \n",
       "1                                 5.0 out of 5 stars   \n",
       "\n",
       "                                                   7  \\\n",
       "0  \\nDevice must be placed carefully or it will f...   \n",
       "1                                 4.0 out of 5 stars   \n",
       "\n",
       "                                                   8  \\\n",
       "0  \\nCharges like advertised. I did have to take ...   \n",
       "1                                 5.0 out of 5 stars   \n",
       "\n",
       "                                                   9  ...  \\\n",
       "0  \\nI wanted something to use instead of the typ...  ...   \n",
       "1                                 5.0 out of 5 stars  ...   \n",
       "\n",
       "                                                4790  \\\n",
       "0  \\nEven with Magsafe case on, charging is super...   \n",
       "1                                 5.0 out of 5 stars   \n",
       "\n",
       "                                                4791  \\\n",
       "0  \\nGreat charger! Able to charge my phone easil...   \n",
       "1                                 5.0 out of 5 stars   \n",
       "\n",
       "                                                4792  \\\n",
       "0  \\nBought two of these and one was giving me pr...   \n",
       "1                                 5.0 out of 5 stars   \n",
       "\n",
       "                                                4793  \\\n",
       "0  \\nI saw this on one of my colleagues desk at w...   \n",
       "1                                 5.0 out of 5 stars   \n",
       "\n",
       "                                                4794  \\\n",
       "0  \\nAn excellent product. It’s in our kitchen as...   \n",
       "1                                 5.0 out of 5 stars   \n",
       "\n",
       "                                                4795  \\\n",
       "0  \\nIt’s PERFECT for traveling. No more differen...   \n",
       "1                                 5.0 out of 5 stars   \n",
       "\n",
       "                                                4796  \\\n",
       "0  \\n\\n\\n\\n\\n                    The media could ...   \n",
       "1                                 5.0 out of 5 stars   \n",
       "\n",
       "                                                4797  \\\n",
       "0  \\nImpressed taking it out of the box.  All met...   \n",
       "1                                 5.0 out of 5 stars   \n",
       "\n",
       "                                                4798  \\\n",
       "0  \\nI love the design of this charger. Color on ...   \n",
       "1                                 3.0 out of 5 stars   \n",
       "\n",
       "                                                4799  \n",
       "0  \\nkinda finnicky cuz ur phone has to be in the...  \n",
       "1                                 4.0 out of 5 stars  \n",
       "\n",
       "[2 rows x 4800 columns]"
      ]
     },
     "execution_count": 4,
     "metadata": {},
     "output_type": "execute_result"
    }
   ],
   "source": [
    "# Reading the downloaded raw data into a dataframe\n",
    "reviews_df = pd.read_csv('reviews.csv')\n",
    "reviews_df"
   ]
  },
  {
   "cell_type": "code",
   "execution_count": 5,
   "id": "b4dea219",
   "metadata": {},
   "outputs": [
    {
     "data": {
      "text/html": [
       "<div>\n",
       "<style scoped>\n",
       "    .dataframe tbody tr th:only-of-type {\n",
       "        vertical-align: middle;\n",
       "    }\n",
       "\n",
       "    .dataframe tbody tr th {\n",
       "        vertical-align: top;\n",
       "    }\n",
       "\n",
       "    .dataframe thead th {\n",
       "        text-align: right;\n",
       "    }\n",
       "</style>\n",
       "<table border=\"1\" class=\"dataframe\">\n",
       "  <thead>\n",
       "    <tr style=\"text-align: right;\">\n",
       "      <th></th>\n",
       "      <th>Review</th>\n",
       "      <th>Star Rating</th>\n",
       "    </tr>\n",
       "  </thead>\n",
       "  <tbody>\n",
       "    <tr>\n",
       "      <th>0</th>\n",
       "      <td>\\nFirst, this charger looks fantastic. I got t...</td>\n",
       "      <td>4.0 out of 5 stars</td>\n",
       "    </tr>\n",
       "    <tr>\n",
       "      <th>1</th>\n",
       "      <td>\\nUPDATE:  Well...I was wrong about this wirel...</td>\n",
       "      <td>5.0 out of 5 stars</td>\n",
       "    </tr>\n",
       "    <tr>\n",
       "      <th>2</th>\n",
       "      <td>\\nThis works perfectly on the side table while...</td>\n",
       "      <td>5.0 out of 5 stars</td>\n",
       "    </tr>\n",
       "    <tr>\n",
       "      <th>3</th>\n",
       "      <td>\\nI purchased this charger for use in our camp...</td>\n",
       "      <td>5.0 out of 5 stars</td>\n",
       "    </tr>\n",
       "    <tr>\n",
       "      <th>4</th>\n",
       "      <td>\\nGot this for my Samsung Galaxy S23 phone, an...</td>\n",
       "      <td>5.0 out of 5 stars</td>\n",
       "    </tr>\n",
       "    <tr>\n",
       "      <th>...</th>\n",
       "      <td>...</td>\n",
       "      <td>...</td>\n",
       "    </tr>\n",
       "    <tr>\n",
       "      <th>4795</th>\n",
       "      <td>\\nIt’s PERFECT for traveling. No more differen...</td>\n",
       "      <td>5.0 out of 5 stars</td>\n",
       "    </tr>\n",
       "    <tr>\n",
       "      <th>4796</th>\n",
       "      <td>\\n\\n\\n\\n\\n                    The media could ...</td>\n",
       "      <td>5.0 out of 5 stars</td>\n",
       "    </tr>\n",
       "    <tr>\n",
       "      <th>4797</th>\n",
       "      <td>\\nImpressed taking it out of the box.  All met...</td>\n",
       "      <td>5.0 out of 5 stars</td>\n",
       "    </tr>\n",
       "    <tr>\n",
       "      <th>4798</th>\n",
       "      <td>\\nI love the design of this charger. Color on ...</td>\n",
       "      <td>3.0 out of 5 stars</td>\n",
       "    </tr>\n",
       "    <tr>\n",
       "      <th>4799</th>\n",
       "      <td>\\nkinda finnicky cuz ur phone has to be in the...</td>\n",
       "      <td>4.0 out of 5 stars</td>\n",
       "    </tr>\n",
       "  </tbody>\n",
       "</table>\n",
       "<p>4800 rows × 2 columns</p>\n",
       "</div>"
      ],
      "text/plain": [
       "                                                 Review         Star Rating\n",
       "0     \\nFirst, this charger looks fantastic. I got t...  4.0 out of 5 stars\n",
       "1     \\nUPDATE:  Well...I was wrong about this wirel...  5.0 out of 5 stars\n",
       "2     \\nThis works perfectly on the side table while...  5.0 out of 5 stars\n",
       "3     \\nI purchased this charger for use in our camp...  5.0 out of 5 stars\n",
       "4     \\nGot this for my Samsung Galaxy S23 phone, an...  5.0 out of 5 stars\n",
       "...                                                 ...                 ...\n",
       "4795  \\nIt’s PERFECT for traveling. No more differen...  5.0 out of 5 stars\n",
       "4796  \\n\\n\\n\\n\\n                    The media could ...  5.0 out of 5 stars\n",
       "4797  \\nImpressed taking it out of the box.  All met...  5.0 out of 5 stars\n",
       "4798  \\nI love the design of this charger. Color on ...  3.0 out of 5 stars\n",
       "4799  \\nkinda finnicky cuz ur phone has to be in the...  4.0 out of 5 stars\n",
       "\n",
       "[4800 rows x 2 columns]"
      ]
     },
     "execution_count": 5,
     "metadata": {},
     "output_type": "execute_result"
    }
   ],
   "source": [
    "# Transposing the dataframe for easier visualization\n",
    "reviews_df = reviews_df.transpose()\n",
    "reviews_df = reviews_df.reset_index(drop=True)\n",
    "reviews_df.columns = ['Review', 'Star Rating']\n",
    "reviews_df"
   ]
  },
  {
   "cell_type": "code",
   "execution_count": 6,
   "id": "623f7d21",
   "metadata": {},
   "outputs": [],
   "source": [
    "# Place any addtional functions or constants you need here. \n",
    "\n",
    "# Some punctuation variations\n",
    "punctuation = set(punctuation) # speeds up comparison\n",
    "tw_punct = punctuation - {\"#\"}\n",
    "\n",
    "# Stopwords\n",
    "sw = stopwords.words(\"english\")\n",
    "\n",
    "# Two useful regex\n",
    "whitespace_pattern = re.compile(r\"\\s+\")\n",
    "hashtag_pattern = re.compile(r\"^#[0-9a-zA-Z]+\")\n",
    "\n",
    "# It's handy to have a full set of emojis\n",
    "all_language_emojis = set()\n",
    "\n",
    "for country in emoji.EMOJI_DATA : \n",
    "    for em in emoji.EMOJI_DATA[country] : \n",
    "        all_language_emojis.add(em)"
   ]
  },
  {
   "cell_type": "code",
   "execution_count": 7,
   "id": "101c78a6",
   "metadata": {},
   "outputs": [],
   "source": [
    "# Descriptive Statistics Function\n",
    "\n",
    "def descriptive_stats(tokens, num_tokens = 5, verbose=True) :\n",
    "    \"\"\"\n",
    "        Given a list of tokens, print number of tokens, number of unique tokens, \n",
    "        number of characters, lexical diversity, and num_tokens most common\n",
    "        tokens. Return a list of \n",
    "    \"\"\"\n",
    "    \n",
    "    if verbose :        \n",
    "        print(f\"There are {len(tokens)} tokens in the data.\")\n",
    "        print(f\"There are {len(set(tokens))} unique tokens in the data.\")\n",
    "        print(f\"There are {len(''.join(tokens))} characters in the data.\")\n",
    "        print(f\"The lexical diversity is {len(set(tokens))/len(tokens):.3f} in the data.\")\n",
    "    \n",
    "        # print the five most common tokens\n",
    "        counts = Counter(tokens)\n",
    "        \n",
    "        if num_tokens > 0:\n",
    "            print(counts.most_common(num_tokens))\n",
    "        \n",
    "    return([len(tokens), \n",
    "            len(set(tokens)),\n",
    "            len(\"\".join(tokens)),\n",
    "            len(set(tokens))/len(tokens)])    \n",
    "    \n",
    "    return(0)"
   ]
  },
  {
   "cell_type": "code",
   "execution_count": 8,
   "id": "7ab0d20b",
   "metadata": {},
   "outputs": [],
   "source": [
    "# Data cleaning functions\n",
    "def contains_emoji(s):\n",
    "    \n",
    "    s = str(s)\n",
    "    emojis = [ch for ch in s if emoji.is_emoji(ch)]\n",
    "\n",
    "    return(len(emojis) > 0)\n",
    "\n",
    "\n",
    "def remove_stop(tokens) :\n",
    "    # modify this function to remove stopwords\n",
    "    return(tokens)\n",
    " \n",
    "def remove_punctuation(text, punct_set=tw_punct) : \n",
    "    return(\"\".join([ch for ch in text if ch not in punct_set]))\n",
    "\n",
    "def tokenize(text) : \n",
    "    \"\"\" Splitting on whitespace rather than the book's tokenize function. That \n",
    "        function will drop tokens like '#hashtag' or '2A', which we need for Twitter. \"\"\"\n",
    "    \n",
    "    # modify this function to return tokens\n",
    "    tokens = text.split()\n",
    "    tokens = [token.strip() for token in tokens]\n",
    "    return tokens\n",
    "\n",
    "def prepare(text, pipeline) : \n",
    "    tokens = str(text)\n",
    "    \n",
    "    for transform in pipeline : \n",
    "        tokens = transform(tokens)\n",
    "        \n",
    "    return(tokens)"
   ]
  },
  {
   "cell_type": "code",
   "execution_count": 9,
   "id": "85238e40",
   "metadata": {},
   "outputs": [],
   "source": [
    "# Apply the `pipeline` to the dataframe\n",
    "my_pipeline = [str.lower, remove_punctuation, tokenize, remove_stop]\n",
    "\n",
    "reviews_df[\"tokens\"] = reviews_df[\"Review\"].apply(prepare,pipeline=my_pipeline)\n",
    "reviews_df[\"num_tokens\"] = reviews_df[\"tokens\"].map(len) "
   ]
  },
  {
   "cell_type": "code",
   "execution_count": 10,
   "id": "8496045c",
   "metadata": {},
   "outputs": [
    {
     "data": {
      "text/html": [
       "<div>\n",
       "<style scoped>\n",
       "    .dataframe tbody tr th:only-of-type {\n",
       "        vertical-align: middle;\n",
       "    }\n",
       "\n",
       "    .dataframe tbody tr th {\n",
       "        vertical-align: top;\n",
       "    }\n",
       "\n",
       "    .dataframe thead th {\n",
       "        text-align: right;\n",
       "    }\n",
       "</style>\n",
       "<table border=\"1\" class=\"dataframe\">\n",
       "  <thead>\n",
       "    <tr style=\"text-align: right;\">\n",
       "      <th></th>\n",
       "      <th>Review</th>\n",
       "      <th>Star Rating</th>\n",
       "      <th>tokens</th>\n",
       "      <th>num_tokens</th>\n",
       "    </tr>\n",
       "  </thead>\n",
       "  <tbody>\n",
       "    <tr>\n",
       "      <th>0</th>\n",
       "      <td>\\nFirst, this charger looks fantastic. I got t...</td>\n",
       "      <td>4.0 out of 5 stars</td>\n",
       "      <td>[first, this, charger, looks, fantastic, i, go...</td>\n",
       "      <td>354</td>\n",
       "    </tr>\n",
       "    <tr>\n",
       "      <th>1</th>\n",
       "      <td>\\nUPDATE:  Well...I was wrong about this wirel...</td>\n",
       "      <td>5.0 out of 5 stars</td>\n",
       "      <td>[update, welli, was, wrong, about, this, wirel...</td>\n",
       "      <td>822</td>\n",
       "    </tr>\n",
       "    <tr>\n",
       "      <th>2</th>\n",
       "      <td>\\nThis works perfectly on the side table while...</td>\n",
       "      <td>5.0 out of 5 stars</td>\n",
       "      <td>[this, works, perfectly, on, the, side, table,...</td>\n",
       "      <td>65</td>\n",
       "    </tr>\n",
       "    <tr>\n",
       "      <th>3</th>\n",
       "      <td>\\nI purchased this charger for use in our camp...</td>\n",
       "      <td>5.0 out of 5 stars</td>\n",
       "      <td>[i, purchased, this, charger, for, use, in, ou...</td>\n",
       "      <td>49</td>\n",
       "    </tr>\n",
       "    <tr>\n",
       "      <th>4</th>\n",
       "      <td>\\nGot this for my Samsung Galaxy S23 phone, an...</td>\n",
       "      <td>5.0 out of 5 stars</td>\n",
       "      <td>[got, this, for, my, samsung, galaxy, s23, pho...</td>\n",
       "      <td>154</td>\n",
       "    </tr>\n",
       "    <tr>\n",
       "      <th>...</th>\n",
       "      <td>...</td>\n",
       "      <td>...</td>\n",
       "      <td>...</td>\n",
       "      <td>...</td>\n",
       "    </tr>\n",
       "    <tr>\n",
       "      <th>4795</th>\n",
       "      <td>\\nIt’s PERFECT for traveling. No more differen...</td>\n",
       "      <td>5.0 out of 5 stars</td>\n",
       "      <td>[it’s, perfect, for, traveling, no, more, diff...</td>\n",
       "      <td>22</td>\n",
       "    </tr>\n",
       "    <tr>\n",
       "      <th>4796</th>\n",
       "      <td>\\n\\n\\n\\n\\n                    The media could ...</td>\n",
       "      <td>5.0 out of 5 stars</td>\n",
       "      <td>[the, media, could, not, be, loaded, this, is,...</td>\n",
       "      <td>48</td>\n",
       "    </tr>\n",
       "    <tr>\n",
       "      <th>4797</th>\n",
       "      <td>\\nImpressed taking it out of the box.  All met...</td>\n",
       "      <td>5.0 out of 5 stars</td>\n",
       "      <td>[impressed, taking, it, out, of, the, box, all...</td>\n",
       "      <td>47</td>\n",
       "    </tr>\n",
       "    <tr>\n",
       "      <th>4798</th>\n",
       "      <td>\\nI love the design of this charger. Color on ...</td>\n",
       "      <td>3.0 out of 5 stars</td>\n",
       "      <td>[i, love, the, design, of, this, charger, colo...</td>\n",
       "      <td>47</td>\n",
       "    </tr>\n",
       "    <tr>\n",
       "      <th>4799</th>\n",
       "      <td>\\nkinda finnicky cuz ur phone has to be in the...</td>\n",
       "      <td>4.0 out of 5 stars</td>\n",
       "      <td>[kinda, finnicky, cuz, ur, phone, has, to, be,...</td>\n",
       "      <td>25</td>\n",
       "    </tr>\n",
       "  </tbody>\n",
       "</table>\n",
       "<p>4800 rows × 4 columns</p>\n",
       "</div>"
      ],
      "text/plain": [
       "                                                 Review         Star Rating  \\\n",
       "0     \\nFirst, this charger looks fantastic. I got t...  4.0 out of 5 stars   \n",
       "1     \\nUPDATE:  Well...I was wrong about this wirel...  5.0 out of 5 stars   \n",
       "2     \\nThis works perfectly on the side table while...  5.0 out of 5 stars   \n",
       "3     \\nI purchased this charger for use in our camp...  5.0 out of 5 stars   \n",
       "4     \\nGot this for my Samsung Galaxy S23 phone, an...  5.0 out of 5 stars   \n",
       "...                                                 ...                 ...   \n",
       "4795  \\nIt’s PERFECT for traveling. No more differen...  5.0 out of 5 stars   \n",
       "4796  \\n\\n\\n\\n\\n                    The media could ...  5.0 out of 5 stars   \n",
       "4797  \\nImpressed taking it out of the box.  All met...  5.0 out of 5 stars   \n",
       "4798  \\nI love the design of this charger. Color on ...  3.0 out of 5 stars   \n",
       "4799  \\nkinda finnicky cuz ur phone has to be in the...  4.0 out of 5 stars   \n",
       "\n",
       "                                                 tokens  num_tokens  \n",
       "0     [first, this, charger, looks, fantastic, i, go...         354  \n",
       "1     [update, welli, was, wrong, about, this, wirel...         822  \n",
       "2     [this, works, perfectly, on, the, side, table,...          65  \n",
       "3     [i, purchased, this, charger, for, use, in, ou...          49  \n",
       "4     [got, this, for, my, samsung, galaxy, s23, pho...         154  \n",
       "...                                                 ...         ...  \n",
       "4795  [it’s, perfect, for, traveling, no, more, diff...          22  \n",
       "4796  [the, media, could, not, be, loaded, this, is,...          48  \n",
       "4797  [impressed, taking, it, out, of, the, box, all...          47  \n",
       "4798  [i, love, the, design, of, this, charger, colo...          47  \n",
       "4799  [kinda, finnicky, cuz, ur, phone, has, to, be,...          25  \n",
       "\n",
       "[4800 rows x 4 columns]"
      ]
     },
     "execution_count": 10,
     "metadata": {},
     "output_type": "execute_result"
    }
   ],
   "source": [
    "reviews_df"
   ]
  },
  {
   "cell_type": "code",
   "execution_count": 11,
   "id": "f5ebd4d0",
   "metadata": {},
   "outputs": [
    {
     "name": "stdout",
     "output_type": "stream",
     "text": [
      "There are 4800 tokens in the data.\n",
      "There are 4 unique tokens in the data.\n",
      "There are 33 characters in the data.\n",
      "The lexical diversity is 0.001 in the data.\n",
      "[('Review', 1), ('Star Rating', 1), ('tokens', 1), ('num_tokens', 1)]\n"
     ]
    },
    {
     "data": {
      "text/plain": [
       "[4800, 4, 33, 0.0008333333333333334]"
      ]
     },
     "execution_count": 11,
     "metadata": {},
     "output_type": "execute_result"
    }
   ],
   "source": [
    "# Calls to descriptive_stats\n",
    "descriptive_stats(reviews_df, num_tokens=10)"
   ]
  },
  {
   "cell_type": "code",
   "execution_count": 12,
   "id": "440a476f",
   "metadata": {},
   "outputs": [],
   "source": [
    "# transform data into list of tokens\n",
    "reviews_descs = reviews_df.tokens.to_list()\n",
    "reviews_descs = [item for sublist in reviews_descs for item in sublist]"
   ]
  },
  {
   "cell_type": "code",
   "execution_count": 13,
   "id": "6e400fd0",
   "metadata": {},
   "outputs": [
    {
     "name": "stdout",
     "output_type": "stream",
     "text": [
      "There are 246944 tokens in the data.\n",
      "There are 8290 unique tokens in the data.\n",
      "There are 1027117 characters in the data.\n",
      "The lexical diversity is 0.034 in the data.\n",
      "[('the', 10379), ('it', 9292), ('i', 7803), ('and', 7527), ('to', 7009), ('a', 5860), ('my', 5121), ('is', 4464), ('this', 3721), ('charger', 3544)]\n"
     ]
    },
    {
     "data": {
      "text/plain": [
       "[246944, 8290, 1027117, 0.03357036413113904]"
      ]
     },
     "execution_count": 13,
     "metadata": {},
     "output_type": "execute_result"
    }
   ],
   "source": [
    "descriptive_stats(reviews_descs,num_tokens=10)"
   ]
  },
  {
   "cell_type": "code",
   "execution_count": null,
   "id": "d9049641",
   "metadata": {},
   "outputs": [],
   "source": [
    "## reviews_ct = Counter(reviews_df)\n",
    "## reviews_descs_ct = Counter(reviews_descs)\n",
    "\n",
    "## consideration_tokens = {w for w, c in reviews_df.items() if c >= 5}\n",
    "\n",
    "##for ct in [reviews_desc_ct] :\n",
    "##    consideration_tokens = consideration_tokens.intersection({w for w, c in ct.items if c >= 5})"
   ]
  },
  {
   "cell_type": "code",
   "execution_count": 14,
   "id": "20d34b79",
   "metadata": {},
   "outputs": [],
   "source": [
    "def get_top_tokens(counter,reference_counters,allowed_tokens,top_n=10) :\n",
    "    \"\"\"\n",
    "        Given a counter and a set of allowable tokens, get the top_n tokens\n",
    "        for the counter and print them. \"Top\" here is defined as having the \n",
    "        maximum ratio of presence in a given counter compared to the sum of the\n",
    "        other counters. \n",
    "    \"\"\"\n",
    "    \n",
    "    comparison = Counter()\n",
    "    results = defaultdict(float)\n",
    "    \n",
    "    for ct in reference_counters :\n",
    "        comparison += ct\n",
    "        \n",
    "    for token, count in counter.items() : \n",
    "        if token in allowed_tokens : \n",
    "            results[token] = count/comparison[token]\n",
    "    \n",
    "    # found this nifty trick here: https://stackoverflow.com/questions/11902665/top-values-from-dictionary\n",
    "    results = sorted([(k,v) for k, v in results.items()],key=lambda x: x[1])[-top_n:]\n",
    "    \n",
    "    return(results)"
   ]
  },
  {
   "cell_type": "code",
   "execution_count": 15,
   "id": "ddb5cc8b",
   "metadata": {},
   "outputs": [],
   "source": [
    "# wordclouds\n",
    "\n",
    "def wordcloud(word_freq, title=None, max_words=200, stopwords=None):\n",
    "\n",
    "    wc = WordCloud(width=800, height=400, \n",
    "                   background_color= \"black\", colormap=\"Paired\", \n",
    "                   max_font_size=150, max_words=max_words)\n",
    "    \n",
    "    # convert data frame into dict\n",
    "    if type(word_freq) == pd.Series:\n",
    "        counter = Counter(word_freq.fillna(0).to_dict())\n",
    "    else:\n",
    "        counter = word_freq\n",
    "\n",
    "    # filter stop words in frequency counter\n",
    "    if stopwords is not None:\n",
    "        counter = {token:freq for (token, freq) in counter.items() \n",
    "                              if token not in stopwords}\n",
    "    wc.generate_from_frequencies(counter)\n",
    " \n",
    "    plt.title(title) \n",
    "\n",
    "    plt.imshow(wc, interpolation='bilinear')\n",
    "    plt.axis(\"off\")\n",
    "    \n",
    "    \n",
    "def count_words(df, column='tokens', preprocess=None, min_freq=2):\n",
    "\n",
    "    # process tokens and update counter\n",
    "    def update(doc):\n",
    "        tokens = doc if preprocess is None else preprocess(doc)\n",
    "        counter.update(tokens)\n",
    "\n",
    "    # create counter and run through all data\n",
    "    counter = Counter()\n",
    "    df[column].map(update)\n",
    "\n",
    "    # transform counter into data frame\n",
    "    freq_df = pd.DataFrame.from_dict(counter, orient='index', columns=['freq'])\n",
    "    freq_df = freq_df.query('freq >= @min_freq')\n",
    "    freq_df.index.name = 'token'\n",
    "    \n",
    "    return freq_df.sort_values('freq', ascending=False)"
   ]
  },
  {
   "cell_type": "code",
   "execution_count": 16,
   "id": "34186334",
   "metadata": {},
   "outputs": [
    {
     "data": {
      "image/png": "[encoded data removed]",
      "text/plain": [
       "<Figure size 432x288 with 1 Axes>"
      ]
     },
     "metadata": {
      "needs_background": "light"
     },
     "output_type": "display_data"
    }
   ],
   "source": [
    "word_count = count_words(reviews_df)\n",
    "wordcloud(word_count['freq'], max_words=100, stopwords=None)"
   ]
  },
  {
   "cell_type": "code",
   "execution_count": 17,
   "id": "f36b4c96",
   "metadata": {},
   "outputs": [
    {
     "data": {
      "text/html": [
       "<div>\n",
       "<style scoped>\n",
       "    .dataframe tbody tr th:only-of-type {\n",
       "        vertical-align: middle;\n",
       "    }\n",
       "\n",
       "    .dataframe tbody tr th {\n",
       "        vertical-align: top;\n",
       "    }\n",
       "\n",
       "    .dataframe thead th {\n",
       "        text-align: right;\n",
       "    }\n",
       "</style>\n",
       "<table border=\"1\" class=\"dataframe\">\n",
       "  <thead>\n",
       "    <tr style=\"text-align: right;\">\n",
       "      <th></th>\n",
       "      <th>Review</th>\n",
       "      <th>Star Rating</th>\n",
       "      <th>tokens</th>\n",
       "      <th>num_tokens</th>\n",
       "    </tr>\n",
       "  </thead>\n",
       "  <tbody>\n",
       "    <tr>\n",
       "      <th>0</th>\n",
       "      <td>\\nFirst, this charger looks fantastic. I got t...</td>\n",
       "      <td>3.0</td>\n",
       "      <td>[first, this, charger, looks, fantastic, i, go...</td>\n",
       "      <td>354</td>\n",
       "    </tr>\n",
       "    <tr>\n",
       "      <th>1</th>\n",
       "      <td>\\nUPDATE:  Well...I was wrong about this wirel...</td>\n",
       "      <td>4.0</td>\n",
       "      <td>[update, welli, was, wrong, about, this, wirel...</td>\n",
       "      <td>822</td>\n",
       "    </tr>\n",
       "    <tr>\n",
       "      <th>2</th>\n",
       "      <td>\\nThis works perfectly on the side table while...</td>\n",
       "      <td>4.0</td>\n",
       "      <td>[this, works, perfectly, on, the, side, table,...</td>\n",
       "      <td>65</td>\n",
       "    </tr>\n",
       "    <tr>\n",
       "      <th>3</th>\n",
       "      <td>\\nI purchased this charger for use in our camp...</td>\n",
       "      <td>4.0</td>\n",
       "      <td>[i, purchased, this, charger, for, use, in, ou...</td>\n",
       "      <td>49</td>\n",
       "    </tr>\n",
       "    <tr>\n",
       "      <th>4</th>\n",
       "      <td>\\nGot this for my Samsung Galaxy S23 phone, an...</td>\n",
       "      <td>4.0</td>\n",
       "      <td>[got, this, for, my, samsung, galaxy, s23, pho...</td>\n",
       "      <td>154</td>\n",
       "    </tr>\n",
       "    <tr>\n",
       "      <th>...</th>\n",
       "      <td>...</td>\n",
       "      <td>...</td>\n",
       "      <td>...</td>\n",
       "      <td>...</td>\n",
       "    </tr>\n",
       "    <tr>\n",
       "      <th>4795</th>\n",
       "      <td>\\nIt’s PERFECT for traveling. No more differen...</td>\n",
       "      <td>4.0</td>\n",
       "      <td>[it’s, perfect, for, traveling, no, more, diff...</td>\n",
       "      <td>22</td>\n",
       "    </tr>\n",
       "    <tr>\n",
       "      <th>4796</th>\n",
       "      <td>\\n\\n\\n\\n\\n                    The media could ...</td>\n",
       "      <td>4.0</td>\n",
       "      <td>[the, media, could, not, be, loaded, this, is,...</td>\n",
       "      <td>48</td>\n",
       "    </tr>\n",
       "    <tr>\n",
       "      <th>4797</th>\n",
       "      <td>\\nImpressed taking it out of the box.  All met...</td>\n",
       "      <td>4.0</td>\n",
       "      <td>[impressed, taking, it, out, of, the, box, all...</td>\n",
       "      <td>47</td>\n",
       "    </tr>\n",
       "    <tr>\n",
       "      <th>4798</th>\n",
       "      <td>\\nI love the design of this charger. Color on ...</td>\n",
       "      <td>2.0</td>\n",
       "      <td>[i, love, the, design, of, this, charger, colo...</td>\n",
       "      <td>47</td>\n",
       "    </tr>\n",
       "    <tr>\n",
       "      <th>4799</th>\n",
       "      <td>\\nkinda finnicky cuz ur phone has to be in the...</td>\n",
       "      <td>3.0</td>\n",
       "      <td>[kinda, finnicky, cuz, ur, phone, has, to, be,...</td>\n",
       "      <td>25</td>\n",
       "    </tr>\n",
       "  </tbody>\n",
       "</table>\n",
       "<p>4800 rows × 4 columns</p>\n",
       "</div>"
      ],
      "text/plain": [
       "                                                 Review  Star Rating  \\\n",
       "0     \\nFirst, this charger looks fantastic. I got t...          3.0   \n",
       "1     \\nUPDATE:  Well...I was wrong about this wirel...          4.0   \n",
       "2     \\nThis works perfectly on the side table while...          4.0   \n",
       "3     \\nI purchased this charger for use in our camp...          4.0   \n",
       "4     \\nGot this for my Samsung Galaxy S23 phone, an...          4.0   \n",
       "...                                                 ...          ...   \n",
       "4795  \\nIt’s PERFECT for traveling. No more differen...          4.0   \n",
       "4796  \\n\\n\\n\\n\\n                    The media could ...          4.0   \n",
       "4797  \\nImpressed taking it out of the box.  All met...          4.0   \n",
       "4798  \\nI love the design of this charger. Color on ...          2.0   \n",
       "4799  \\nkinda finnicky cuz ur phone has to be in the...          3.0   \n",
       "\n",
       "                                                 tokens  num_tokens  \n",
       "0     [first, this, charger, looks, fantastic, i, go...         354  \n",
       "1     [update, welli, was, wrong, about, this, wirel...         822  \n",
       "2     [this, works, perfectly, on, the, side, table,...          65  \n",
       "3     [i, purchased, this, charger, for, use, in, ou...          49  \n",
       "4     [got, this, for, my, samsung, galaxy, s23, pho...         154  \n",
       "...                                                 ...         ...  \n",
       "4795  [it’s, perfect, for, traveling, no, more, diff...          22  \n",
       "4796  [the, media, could, not, be, loaded, this, is,...          48  \n",
       "4797  [impressed, taking, it, out, of, the, box, all...          47  \n",
       "4798  [i, love, the, design, of, this, charger, colo...          47  \n",
       "4799  [kinda, finnicky, cuz, ur, phone, has, to, be,...          25  \n",
       "\n",
       "[4800 rows x 4 columns]"
      ]
     },
     "execution_count": 17,
     "metadata": {},
     "output_type": "execute_result"
    }
   ],
   "source": [
    "# converting 'Star Ratings' column to numerical values\n",
    "\n",
    "from sklearn.preprocessing import OrdinalEncoder\n",
    "\n",
    "encoder = OrdinalEncoder()\n",
    "reviews_df[['Star Rating']] = encoder.fit_transform(reviews_df[['Star Rating']])\n",
    "reviews_df"
   ]
  },
  {
   "cell_type": "code",
   "execution_count": 18,
   "id": "7d0efbb3",
   "metadata": {},
   "outputs": [
    {
     "name": "stdout",
     "output_type": "stream",
     "text": [
      "0.0\n",
      "4.0\n"
     ]
    }
   ],
   "source": [
    "# after the ordinal encoding, star ratings are now from 0 to 4 (0 being 1 star, 4 being 5 stars)\n",
    "print(min(reviews_df['Star Rating']))\n",
    "print(max(reviews_df['Star Rating']))"
   ]
  },
  {
   "cell_type": "code",
   "execution_count": 19,
   "id": "b9755272",
   "metadata": {},
   "outputs": [
    {
     "data": {
      "image/png": "[encoded data removed]",
      "text/plain": [
       "<Figure size 432x288 with 1 Axes>"
      ]
     },
     "metadata": {
      "needs_background": "light"
     },
     "output_type": "display_data"
    }
   ],
   "source": [
    "sns.countplot(reviews_df['Star Rating'])\n",
    "reviews_df['Star Rating'].value_counts()\n",
    "plt.title(\"Star Rating Counts\")\n",
    "plt.show()"
   ]
  },
  {
   "cell_type": "code",
   "execution_count": 20,
   "id": "3fd87e33",
   "metadata": {},
   "outputs": [
    {
     "data": {
      "text/html": [
       "<div>\n",
       "<style scoped>\n",
       "    .dataframe tbody tr th:only-of-type {\n",
       "        vertical-align: middle;\n",
       "    }\n",
       "\n",
       "    .dataframe tbody tr th {\n",
       "        vertical-align: top;\n",
       "    }\n",
       "\n",
       "    .dataframe thead th {\n",
       "        text-align: right;\n",
       "    }\n",
       "</style>\n",
       "<table border=\"1\" class=\"dataframe\">\n",
       "  <thead>\n",
       "    <tr style=\"text-align: right;\">\n",
       "      <th></th>\n",
       "      <th>negative</th>\n",
       "      <th>positive</th>\n",
       "      <th>total</th>\n",
       "    </tr>\n",
       "  </thead>\n",
       "  <tbody>\n",
       "    <tr>\n",
       "      <th>the</th>\n",
       "      <td>6838</td>\n",
       "      <td>346</td>\n",
       "      <td>7184</td>\n",
       "    </tr>\n",
       "    <tr>\n",
       "      <th>it</th>\n",
       "      <td>6855</td>\n",
       "      <td>319</td>\n",
       "      <td>7174</td>\n",
       "    </tr>\n",
       "    <tr>\n",
       "      <th>and</th>\n",
       "      <td>5353</td>\n",
       "      <td>200</td>\n",
       "      <td>5553</td>\n",
       "    </tr>\n",
       "    <tr>\n",
       "      <th>to</th>\n",
       "      <td>4409</td>\n",
       "      <td>209</td>\n",
       "      <td>4618</td>\n",
       "    </tr>\n",
       "    <tr>\n",
       "      <th>my</th>\n",
       "      <td>3562</td>\n",
       "      <td>151</td>\n",
       "      <td>3713</td>\n",
       "    </tr>\n",
       "    <tr>\n",
       "      <th>is</th>\n",
       "      <td>3023</td>\n",
       "      <td>103</td>\n",
       "      <td>3126</td>\n",
       "    </tr>\n",
       "    <tr>\n",
       "      <th>this</th>\n",
       "      <td>2677</td>\n",
       "      <td>111</td>\n",
       "      <td>2788</td>\n",
       "    </tr>\n",
       "    <tr>\n",
       "      <th>charger</th>\n",
       "      <td>2503</td>\n",
       "      <td>120</td>\n",
       "      <td>2623</td>\n",
       "    </tr>\n",
       "    <tr>\n",
       "      <th>for</th>\n",
       "      <td>2044</td>\n",
       "      <td>91</td>\n",
       "      <td>2135</td>\n",
       "    </tr>\n",
       "    <tr>\n",
       "      <th>phone</th>\n",
       "      <td>1976</td>\n",
       "      <td>146</td>\n",
       "      <td>2122</td>\n",
       "    </tr>\n",
       "  </tbody>\n",
       "</table>\n",
       "</div>"
      ],
      "text/plain": [
       "         negative  positive  total\n",
       "the          6838       346   7184\n",
       "it           6855       319   7174\n",
       "and          5353       200   5553\n",
       "to           4409       209   4618\n",
       "my           3562       151   3713\n",
       "is           3023       103   3126\n",
       "this         2677       111   2788\n",
       "charger      2503       120   2623\n",
       "for          2044        91   2135\n",
       "phone        1976       146   2122"
      ]
     },
     "execution_count": 20,
     "metadata": {},
     "output_type": "execute_result"
    }
   ],
   "source": [
    "#Identify positive and negative reviews based on star rating\n",
    "#Count frequency of tokens used in each dataset\n",
    "cv = CountVectorizer()\n",
    "cv.fit(reviews_df['Review'].values.astype('U'))\n",
    "neg_doc_matrix = cv.transform(reviews_df[reviews_df['Star Rating'] == 4.0].Review)\n",
    "pos_doc_matrix = cv.transform(reviews_df[reviews_df['Star Rating'] == 0.0].Review)\n",
    "neg_tf = np.sum(neg_doc_matrix,axis=0)\n",
    "pos_tf = np.sum(pos_doc_matrix,axis=0)\n",
    "neg = np.squeeze(np.asarray(neg_tf))\n",
    "pos = np.squeeze(np.asarray(pos_tf))\n",
    "term_freq_df = pd.DataFrame([neg,pos],\n",
    "                            columns=cv.get_feature_names()\n",
    "                           ).transpose()\n",
    "term_freq_df.columns = ['negative', 'positive']\n",
    "term_freq_df['total'] = term_freq_df['negative'] + term_freq_df['positive']\n",
    "term_freq_df.sort_values(by='total', \n",
    "                         ascending=False\n",
    "                        ).iloc[:10]"
   ]
  },
  {
   "cell_type": "markdown",
   "id": "22c83841",
   "metadata": {},
   "source": [
    "## Modeling"
   ]
  },
  {
   "cell_type": "markdown",
   "id": "0cf2a48c",
   "metadata": {},
   "source": [
    "### Train Test Split"
   ]
  },
  {
   "cell_type": "code",
   "execution_count": 21,
   "id": "d946fe94",
   "metadata": {},
   "outputs": [],
   "source": [
    "X_train, X_test, Y_train, Y_test = train_test_split(reviews_df['Review'].values.astype('U'),\n",
    "                                                    reviews_df[['Star Rating']],\n",
    "                                                    test_size=0.2, random_state=42)"
   ]
  },
  {
   "cell_type": "markdown",
   "id": "42813b76",
   "metadata": {},
   "source": [
    "### Classification Model - Logistic Regression"
   ]
  },
  {
   "cell_type": "code",
   "execution_count": null,
   "id": "df427ab9",
   "metadata": {},
   "outputs": [],
   "source": [
    "#LR = LogisticRegression(random_state=42).fit(X_train, Y_train)\n",
    "\n",
    "#LR"
   ]
  },
  {
   "cell_type": "code",
   "execution_count": 22,
   "id": "7325c66f",
   "metadata": {},
   "outputs": [
    {
     "data": {
      "text/plain": [
       "Pipeline(steps=[('cvect', CountVectorizer(min_df=50)),\n",
       "                ('scaler', StandardScaler(with_mean=False)),\n",
       "                ('lr', LogisticRegression())])"
      ]
     },
     "execution_count": 22,
     "metadata": {},
     "output_type": "execute_result"
    }
   ],
   "source": [
    "#logic regression model\n",
    "LR = Pipeline([('cvect', CountVectorizer(min_df = 50)),\n",
    "               (\"scaler\", preprocessing.StandardScaler(with_mean=False)),\n",
    "               ('lr', LogisticRegression())])\n",
    "\n",
    "LR.fit(X_train, Y_train)"
   ]
  },
  {
   "cell_type": "code",
   "execution_count": 23,
   "id": "05e6f71f",
   "metadata": {},
   "outputs": [
    {
     "name": "stdout",
     "output_type": "stream",
     "text": [
      "              precision    recall  f1-score   support\n",
      "\n",
      "         0.0       0.14      0.11      0.12        19\n",
      "         1.0       0.11      0.16      0.13        38\n",
      "         2.0       0.22      0.23      0.23        77\n",
      "         3.0       0.46      0.33      0.38       224\n",
      "         4.0       0.79      0.85      0.82       602\n",
      "\n",
      "    accuracy                           0.64       960\n",
      "   macro avg       0.34      0.34      0.34       960\n",
      "weighted avg       0.63      0.64      0.63       960\n",
      "\n"
     ]
    }
   ],
   "source": [
    "#apply model on test\n",
    "\n",
    "print(classification_report(Y_test, LR.predict(X_test), labels=np.unique(LR.predict(X_test))))"
   ]
  },
  {
   "cell_type": "markdown",
   "id": "c814e9e9",
   "metadata": {},
   "source": [
    "### Classification Model - Support Vector Machines"
   ]
  },
  {
   "cell_type": "code",
   "execution_count": 35,
   "id": "07f2663c",
   "metadata": {},
   "outputs": [
    {
     "data": {
      "text/plain": [
       "Pipeline(steps=[('cvect', CountVectorizer(min_df=50)),\n",
       "                ('scaler', StandardScaler(with_mean=False)),\n",
       "                ('svm', LinearSVC())])"
      ]
     },
     "execution_count": 35,
     "metadata": {},
     "output_type": "execute_result"
    }
   ],
   "source": [
    "SVM = Pipeline([('cvect', CountVectorizer(min_df = 50)),\n",
    "               (\"scaler\", preprocessing.StandardScaler(with_mean=False)),\n",
    "               ('svm', LinearSVC())])\n",
    "\n",
    "SVM.fit(X_train, Y_train)"
   ]
  },
  {
   "cell_type": "markdown",
   "id": "4114fe0c",
   "metadata": {},
   "source": [
    "In a Jupyter environment, please rerun this cell to show the HTML representation or trust the notebook.\n",
    "On GitHub, the HTML representation is unable to render, please try loading this page with nbviewer.org."
   ]
  },
  {
   "cell_type": "code",
   "execution_count": 38,
   "id": "e29c578e",
   "metadata": {},
   "outputs": [
    {
     "name": "stdout",
     "output_type": "stream",
     "text": [
      "Accuracy: 0.64\n",
      "              precision    recall  f1-score   support\n",
      "\n",
      "         0.0       0.10      0.11      0.10        19\n",
      "         1.0       0.10      0.18      0.13        38\n",
      "         2.0       0.25      0.19      0.22        77\n",
      "         3.0       0.47      0.29      0.36       224\n",
      "         4.0       0.77      0.87      0.82       602\n",
      "\n",
      "    accuracy                           0.64       960\n",
      "   macro avg       0.34      0.33      0.33       960\n",
      "weighted avg       0.62      0.64      0.62       960\n",
      "\n"
     ]
    }
   ],
   "source": [
    "# Make predictions on the test set\n",
    "y_pred = SVM.predict(X_test)\n",
    "\n",
    "# Evaluate the model\n",
    "accuracy = accuracy_score(Y_test, y_pred)\n",
    "print('Accuracy:', round(accuracy, 2))\n",
    "\n",
    "# Evaluation Metrics\n",
    "print(classification_report(Y_test, SVM.predict(X_test), labels=np.unique(SVM.predict(X_test))))"
   ]
  },
  {
   "cell_type": "markdown",
   "id": "85b87e05",
   "metadata": {},
   "source": [
    "### Topic Modeling - LDA (Latent Dirichlet Allocation)"
   ]
  },
  {
   "cell_type": "code",
   "execution_count": 24,
   "id": "90acf356",
   "metadata": {},
   "outputs": [],
   "source": [
    "import pyLDAvis.lda_model\n",
    "from tqdm.auto import tqdm\n",
    "\n",
    "import spacy\n",
    "from sklearn.decomposition import LatentDirichletAllocation\n",
    "\n",
    "from spacy.lang.en.stop_words import STOP_WORDS as stopwords"
   ]
  },
  {
   "cell_type": "code",
   "execution_count": 25,
   "id": "9ce02516",
   "metadata": {},
   "outputs": [
    {
     "data": {
      "text/plain": [
       "(4800, 1846)"
      ]
     },
     "execution_count": 25,
     "metadata": {},
     "output_type": "execute_result"
    }
   ],
   "source": [
    "# Count Vectorization\n",
    "count_text_vectorizer = CountVectorizer(stop_words=list(stopwords), min_df=5, max_df=0.7)\n",
    "count_text_vectors = count_text_vectorizer.fit_transform(reviews_df['Review'].values.astype('U'))\n",
    "count_text_vectors.shape"
   ]
  },
  {
   "cell_type": "code",
   "execution_count": 26,
   "id": "4f9acd04",
   "metadata": {},
   "outputs": [
    {
     "data": {
      "text/plain": [
       "(4800, 1846)"
      ]
     },
     "execution_count": 26,
     "metadata": {},
     "output_type": "execute_result"
    }
   ],
   "source": [
    "# TF-IDF\n",
    "tfidf_text_vectorizer = TfidfVectorizer(stop_words=list(stopwords), min_df=5, max_df=0.7)\n",
    "tfidf_text_vectors = tfidf_text_vectorizer.fit_transform(reviews_df['Review'].values.astype('U'))\n",
    "tfidf_text_vectors.shape"
   ]
  },
  {
   "cell_type": "code",
   "execution_count": 27,
   "id": "6474b9a4",
   "metadata": {},
   "outputs": [],
   "source": [
    "lda_model = LatentDirichletAllocation(n_components = 6, random_state=314)\n",
    "W_lda_matrix = lda_model.fit_transform(count_text_vectors)\n",
    "H_lda_matrix = lda_model.components_"
   ]
  },
  {
   "cell_type": "code",
   "execution_count": 28,
   "id": "4099f170",
   "metadata": {},
   "outputs": [],
   "source": [
    "# This function comes from the BTAP repo.\n",
    "\n",
    "def display_topics(model, features, no_top_words=5):\n",
    "    for topic, words in enumerate(model.components_):\n",
    "        total = words.sum()\n",
    "        largest = words.argsort()[::-1] # invert sort order\n",
    "        print(\"\\nTopic %02d\" % topic)\n",
    "        for i in range(0, no_top_words):\n",
    "            print(\"  %s (%2.2f)\" % (features[largest[i]], abs(words[largest[i]]*100.0/total)))"
   ]
  },
  {
   "cell_type": "code",
   "execution_count": 29,
   "id": "2326fe0b",
   "metadata": {},
   "outputs": [
    {
     "name": "stdout",
     "output_type": "stream",
     "text": [
      "\n",
      "Topic 00\n",
      "  phone (5.64)\n",
      "  charging (5.63)\n",
      "  light (3.40)\n",
      "  charger (2.73)\n",
      "  green (2.54)\n",
      "\n",
      "Topic 01\n",
      "  phone (2.72)\n",
      "  great (2.17)\n",
      "  product (1.96)\n",
      "  customer (1.69)\n",
      "  service (1.48)\n",
      "\n",
      "Topic 02\n",
      "  phone (3.87)\n",
      "  charger (3.85)\n",
      "  charge (3.29)\n",
      "  charging (2.77)\n",
      "  case (2.08)\n",
      "\n",
      "Topic 03\n",
      "  phone (5.29)\n",
      "  charge (5.01)\n",
      "  charger (3.74)\n",
      "  use (3.36)\n",
      "  charging (2.98)\n",
      "\n",
      "Topic 04\n",
      "  charger (4.52)\n",
      "  wireless (3.00)\n",
      "  charging (2.84)\n",
      "  great (2.71)\n",
      "  usb (2.31)\n",
      "\n",
      "Topic 05\n",
      "  charger (3.99)\n",
      "  love (3.29)\n",
      "  great (2.53)\n",
      "  wireless (2.33)\n",
      "  use (2.02)\n"
     ]
    }
   ],
   "source": [
    "display_topics(lda_model, count_text_vectorizer.get_feature_names_out())"
   ]
  },
  {
   "cell_type": "code",
   "execution_count": 30,
   "id": "d3beed6a",
   "metadata": {},
   "outputs": [],
   "source": [
    "lda_display = pyLDAvis.lda_model.prepare(lda_model, count_text_vectors, count_text_vectorizer,sort_topics=False)"
   ]
  },
  {
   "cell_type": "code",
   "execution_count": 32,
   "id": "39542ad4",
   "metadata": {},
   "outputs": [
    {
     "data": {
      "text/html": [
       "\n",
       "<link rel=\"stylesheet\" type=\"text/css\" href=\"https://cdn.jsdelivr.net/gh/bmabey/pyLDAvis@3.4.0/pyLDAvis/js/ldavis.v1.0.0.css\">\n",
       "\n",
       "\n",
       "<div id=\"ldavis_el204321785877135024729189173\" style=\"background-color:white;\"></div>\n",
       "<script type=\"text/javascript\">\n",
       "\n",
       "var ldavis_el204321785877135024729189173_data = {\"mdsDat\": {\"x\": [-0.1357944230278882, -0.12073943275646261, -0.02157615778495076, 0.0054250098554281334, 0.11172517393366611, 0.16095982978020731], \"y\": [0.11557132982442929, -0.14078544924332226, -0.05395212005876881, 0.08471032589590907, 0.04134631992082781, -0.046890406339075076], \"topics\": [1, 2, 3, 4, 5, 6], \"cluster\": [1, 1, 1, 1, 1, 1], \"Freq\": [18.70203218453205, 9.259925656675835, 19.044717914843208, 18.346978893972828, 20.83818778769079, 13.808157562285285]}, \"tinfo\": {\"Term\": [\"blue\", \"light\", \"green\", \"phone\", \"charge\", \"love\", \"easy\", \"usb\", \"lights\", \"use\", \"great\", \"charging\", \"product\", \"customer\", \"night\", \"adapter\", \"service\", \"bought\", \"bright\", \"wireless\", \"charges\", \"tozo\", \"gold\", \"looks\", \"working\", \"recommend\", \"pad\", \"quality\", \"fast\", \"update\", \"blue\", \"green\", \"sweet\", \"miss\", \"indicated\", \"coffee\", \"turn\", \"purple\", \"entirely\", \"license\", \"uncharged\", \"happening\", \"overcharge\", \"electricity\", \"woke\", \"angle\", \"body\", \"mornings\", \"1a\", \"turns\", \"wake\", \"indication\", \"blink\", \"points\", \"fiddle\", \"occasion\", \"pc\", \"daylight\", \"guide\", \"remains\", \"light\", \"sleeping\", \"spot\", \"flashing\", \"indicate\", \"sensitive\", \"bright\", \"stays\", \"lights\", \"changes\", \"morning\", \"change\", \"led\", \"indicator\", \"correctly\", \"dark\", \"pad\", \"certain\", \"placed\", \"night\", \"place\", \"fully\", \"charging\", \"plugged\", \"phone\", \"know\", \"bed\", \"charged\", \"let\", \"sleep\", \"charge\", \"charger\", \"like\", \"sure\", \"device\", \"right\", \"doesn\", \"don\", \"thing\", \"plug\", \"charges\", \"iphone\", \"use\", \"works\", \"wireless\", \"customer\", \"service\", \"contacted\", \"reached\", \"sending\", \"kinda\", \"replacement\", \"game\", \"response\", \"2022\", \"sent\", \"changer\", \"sticker\", \"team\", \"shipped\", \"neon\", \"boom\", \"email\", \"calls\", \"alignment\", \"bothered\", \"bothersome\", \"fumbling\", \"ur\", \"latest\", \"initial\", \"receive\", \"habit\", \"pink\", \"send\", \"constant\", \"offered\", \"appreciate\", \"edit\", \"star\", \"replaced\", \"write\", \"review\", \"company\", \"update\", \"warranty\", \"stars\", \"free\", \"working\", \"stand\", \"sleep\", \"night\", \"product\", \"trying\", \"year\", \"great\", \"issue\", \"little\", \"phone\", \"new\", \"bright\", \"lights\", \"works\", \"like\", \"bought\", \"time\", \"charging\", \"don\", \"charger\", \"light\", \"charge\", \"work\", \"device\", \"good\", \"buds\", \"ear\", \"ended\", \"test\", \"years\", \"5g\", \"initially\", \"w1\", \"figure\", \"lined\", \"quit\", \"decided\", \"yootech\", \"music\", \"consistently\", \"automatically\", \"number\", \"mentioned\", \"dad\", \"writing\", \"term\", \"s22\", \"checked\", \"idk\", \"forgot\", \"emailed\", \"effectively\", \"24\", \"xl\", \"assumed\", \"ago\", \"instructions\", \"tried\", \"maybe\", \"lasted\", \"trouble\", \"worked\", \"mount\", \"disappointed\", \"description\", \"fix\", \"different\", \"stopped\", \"phones\", \"months\", \"case\", \"didn\", \"got\", \"bought\", \"new\", \"tozo\", \"work\", \"working\", \"charge\", \"samsung\", \"phone\", \"iphone\", \"charger\", \"earbuds\", \"purchased\", \"wireless\", \"charging\", \"charged\", \"works\", \"12\", \"pro\", \"ll\", \"fast\", \"ve\", \"product\", \"great\", \"chargers\", \"charges\", \"slower\", \"dislike\", \"general\", \"tear\", \"burned\", \"fe\", \"gets\", \"wood\", \"locate\", \"magnetically\", \"ideal\", \"kindle\", \"average\", \"rely\", \"hunt\", \"leaves\", \"sad\", \"relatively\", \"hot\", \"wired\", \"damage\", \"cracked\", \"technically\", \"vary\", \"disconnecting\", \"forgiving\", \"forever\", \"held\", \"accept\", \"slow\", \"takes\", \"60\", \"wear\", \"otter\", \"slowly\", \"mins\", \"fumble\", \"close\", \"convenient\", \"normal\", \"use\", \"twice\", \"easy\", \"charge\", \"faster\", \"fast\", \"regular\", \"lightning\", \"plate\", \"cord\", \"overnight\", \"speed\", \"longer\", \"charges\", \"phone\", \"don\", \"long\", \"pretty\", \"bit\", \"10\", \"time\", \"lay\", \"doesn\", \"charger\", \"charging\", \"case\", \"plug\", \"super\", \"like\", \"cable\", \"great\", \"good\", \"works\", \"wireless\", \"set\", \"work\", \"iphone\", \"device\", \"performance\", \"w6\", \"construction\", \"ac\", \"provide\", \"lying\", \"5v\", \"vs\", \"micro\", \"reasonable\", \"adaptor\", \"visible\", \"adapter\", \"older\", \"foot\", \"rubberized\", \"constructed\", \"packs\", \"carrying\", \"pd\", \"strength\", \"accent\", \"durability\", \"switches\", \"appear\", \"print\", \"15w\", \"grips\", \"aren\", \"flawless\", \"build\", \"included\", \"type\", \"usb\", \"brick\", \"aluminum\", \"quality\", \"materials\", \"value\", \"finish\", \"wall\", \"sturdy\", \"built\", \"fit\", \"feels\", \"price\", \"design\", \"comes\", \"cable\", \"apple\", \"power\", \"wireless\", \"nice\", \"great\", \"charger\", \"devices\", \"good\", \"looking\", \"tozo\", \"come\", \"product\", \"works\", \"charging\", \"recommend\", \"slim\", \"chargers\", \"fast\", \"sleek\", \"looks\", \"like\", \"plug\", \"use\", \"iphone\", \"thin\", \"charges\", \"gold\", \"rose\", \"de\", \"es\", \"que\", \"el\", \"carga\", \"muy\", \"un\", \"decor\", \"para\", \"lo\", \"pero\", \"la\", \"producto\", \"mi\", \"usar\", \"bien\", \"si\", \"en\", \"trim\", \"transport\", \"cargador\", \"tel\\u00e9fono\", \"funciona\", \"del\", \"furniture\", \"r\\u00e1pida\", \"f\\u00e1cil\", \"cargar\", \"loves\", \"pods\", \"con\", \"love\", \"se\", \"bonus\", \"awesome\", \"white\", \"perfect\", \"bulky\", \"desk\", \"friend\", \"family\", \"friends\", \"home\", \"recommend\", \"highly\", \"color\", \"looks\", \"absolutely\", \"easy\", \"sleek\", \"amazing\", \"great\", \"charges\", \"bought\", \"charger\", \"use\", \"wireless\", \"thin\", \"far\", \"definitely\", \"works\", \"look\", \"iphone\", \"product\", \"quickly\", \"super\", \"perfectly\", \"small\", \"good\", \"like\", \"phone\", \"nice\", \"work\"], \"Freq\": [472.0, 774.0, 484.0, 3304.0, 2201.0, 753.0, 873.0, 590.0, 601.0, 1303.0, 1539.0, 2907.0, 878.0, 158.0, 432.0, 284.0, 137.0, 557.0, 254.0, 1657.0, 997.0, 582.0, 137.0, 599.0, 250.0, 395.0, 405.0, 284.0, 910.0, 148.0, 468.5782931337745, 476.1464943648637, 43.02920542694039, 12.053369731689543, 11.060700902848438, 10.070561255206421, 123.87527141831023, 9.014458815845655, 8.090585976368502, 8.090536416244285, 8.089909525523906, 8.0886550539935, 7.100522669080188, 7.096809280749988, 20.410069755427454, 16.79114198596462, 7.036341608436818, 6.109038899578245, 6.105222329458016, 107.22475028396238, 50.32483987724158, 8.656026742924354, 11.960968392204247, 5.11888056352461, 5.117570916082754, 5.116574206844588, 5.116362448301042, 5.115965550528677, 5.115781583641711, 5.115410799839027, 636.9038079236353, 39.91009224055059, 87.86240399764205, 15.664441639335958, 43.05966041814485, 24.327666939311626, 191.34194234666074, 44.91106534924026, 423.09351246468333, 87.17548597647271, 67.59135739330205, 89.57002467268914, 170.73011337026276, 100.85892119744453, 42.35948356066764, 70.90631603408326, 259.2853411986517, 23.284591403421295, 90.04281960155807, 251.75767495004482, 167.98119458982526, 76.28555183544148, 1054.8935423670166, 132.8619747236237, 1057.3819465980464, 156.14159096628728, 75.41557923543581, 196.4034578346111, 76.46271423852238, 76.96193928846992, 400.3609670471406, 512.1242921568942, 218.35866221546777, 112.11090252893436, 139.39122692835025, 111.79916189334584, 137.5951769434541, 129.35655098042966, 101.8767674397694, 125.86723690934748, 122.1563094653225, 116.33231588028337, 121.3909496803515, 117.2218590378902, 114.40040563306029, 157.21357995915437, 136.90556114891018, 31.874287994870016, 35.56565975537834, 20.52728037435571, 17.613721708314362, 66.09058096445796, 13.736474301326222, 11.797969200766575, 10.828207842938676, 37.43660935231663, 8.888007406317108, 8.886575338016701, 7.919703505180722, 7.91885262795077, 7.916737273257146, 7.915121124805172, 13.672420351233358, 5.979466999583371, 5.978728010475999, 5.977864505083844, 5.9778094047652734, 5.977603146251269, 5.97718842837064, 5.975856300794523, 6.826520546190487, 8.44994372929418, 7.596778663511905, 40.50675557013671, 26.1543535051275, 11.559670817022049, 16.63198907961595, 24.58187007119909, 11.798137408404, 30.663363534163683, 16.399583283765732, 11.006620406320915, 74.44374279136635, 58.56982685536282, 83.95929458434424, 54.691229196574525, 46.50561894521492, 30.90040277507727, 92.85926228394054, 48.658952210174135, 54.22460177202973, 116.5124007705555, 182.306771007461, 40.53388797172397, 39.16867287056416, 201.12882290050783, 57.22773759136427, 77.00207114719086, 252.6929534695399, 61.021051149132056, 57.350564875744546, 83.32164751699914, 110.13303462292835, 96.37315819206076, 74.49715456170097, 70.73641629117411, 131.74621308022773, 69.77235127529393, 116.3880868445131, 68.1628938234601, 82.24291760232872, 64.4837076865713, 53.42387143421875, 49.83593066830366, 122.24832384103203, 112.30283760160714, 29.66342164992993, 23.79100757705458, 40.76224496705291, 20.836564553188076, 20.836003484095716, 58.38022673807808, 14.928932259369489, 12.945100642827327, 11.976508064625223, 52.524820054017724, 11.976216628579808, 11.975459351735015, 11.970548716427931, 10.991365414784372, 10.006880655283904, 10.0041034192635, 9.022443720589976, 9.020903194070817, 9.01731354110655, 17.116860242217005, 9.003898359206538, 8.038520249275097, 8.035494124297879, 8.030724601831434, 8.030634779382389, 8.013757382080827, 7.0537843157474684, 7.052602794289095, 54.3664993979244, 27.265928207961608, 127.99865149074968, 55.972903397578165, 12.951469789344664, 22.24783553544771, 153.51000493734134, 21.286814464324788, 54.3186224150764, 35.29799239812701, 14.98298203952801, 117.87728288506923, 65.99123016892887, 122.18773873348827, 65.87151703509993, 396.8186576311521, 134.7665667730135, 170.5076110793336, 231.55615542352783, 123.66070636948179, 235.67575212547922, 266.28704602672383, 122.99084824617591, 628.1728763308961, 131.4050436216822, 739.6076956901863, 284.7026625059203, 735.3792647766892, 143.12055639235794, 107.22880932373897, 388.3256408964314, 529.2319438399621, 155.59259089842274, 232.31358267217624, 76.86587162549327, 78.5442159570558, 76.54390199917856, 138.62028573597883, 100.0218735702418, 125.40211676663519, 118.94162350524184, 85.1686284415975, 85.74847275040291, 70.26387994843545, 10.953317269173125, 9.991666150468992, 9.00861296717148, 8.026785117818568, 7.992343500776958, 61.7511258856534, 7.042321112507403, 7.041975506966926, 7.041884267418986, 6.061075407504416, 6.060574291558013, 6.059998364105175, 6.058119629814145, 6.057971189924474, 6.056749862456449, 6.054159335535074, 14.687387720642983, 73.19859268178115, 31.809433799392185, 13.663274707839737, 5.077985173031997, 5.077360267539264, 5.076355151852699, 5.076004628407738, 5.075766490802082, 24.537455808584077, 5.073794471666125, 5.070416833788662, 158.25416650593348, 137.62361445033397, 12.182366935264543, 14.429515517743923, 33.534566886387694, 29.005939050040354, 10.515831277885633, 12.026432000264855, 18.53550435470109, 135.20377625811898, 25.026518307488953, 617.9653081400718, 17.438751748925505, 434.385439564488, 921.0078609733421, 77.05494457233068, 402.61445857784184, 52.093022803765365, 28.731202530554437, 43.8961347185522, 166.21759639124394, 74.27052759690268, 75.71043781026641, 76.69312862801404, 391.08062809189147, 973.0725851773078, 204.52917712227494, 95.64653016804192, 123.64742294955578, 71.3809120101419, 76.139126027489, 177.88773116779424, 56.19797586871178, 180.68577300068554, 688.6137097695291, 548.6100372127783, 250.14035228845134, 164.95052485931876, 120.54798762335496, 204.49053120032997, 124.2999009859635, 203.31801318912096, 141.56473794457432, 174.8157834802294, 188.29556646538526, 96.62367675243684, 127.14164333389799, 121.79585349769752, 100.60885437749033, 26.436142728635346, 24.488508517504016, 17.65815351378313, 60.16183070194996, 23.946827651378634, 12.805364308205768, 20.99152200735156, 11.837554946684039, 27.998818137242132, 27.98824848897545, 14.432454597250333, 11.723760728379352, 262.7008554946867, 32.22544374462574, 9.823959388982429, 8.919081482554565, 8.915517095999387, 7.944993476105876, 7.944670113213079, 7.889679100136235, 6.973915169067448, 6.972845932995912, 6.971771264237969, 6.966674909242206, 6.964654366265635, 8.684793418860947, 11.279159504548629, 19.032910991621517, 18.913396926920058, 5.999049414087707, 51.3103068958968, 51.17324583461453, 68.3818325378729, 482.7499083118953, 46.193558634802216, 30.75460272533754, 215.18193341389852, 19.98835925979147, 46.47978738346173, 31.413760381595466, 123.01817602031099, 36.97386265888633, 39.82555848175284, 46.60487300844216, 66.39938962239441, 241.98256129780083, 225.24191487452217, 114.1410560920962, 229.72202263465752, 114.22160215185947, 193.08521065765837, 626.8041329060189, 292.0510577443595, 566.9417868028628, 943.8537069114861, 91.26573514304154, 273.67017018665865, 158.11254505981648, 230.6559937431093, 91.21341645784881, 305.90477081683713, 390.485116412867, 593.9491925986954, 159.21113533104256, 121.05245735387383, 150.50194544039138, 239.5982891107331, 165.64996133377642, 180.69338398877773, 198.8773526780623, 146.65374834794224, 188.7235395744918, 154.26050522842564, 120.85572379012319, 116.26744526185598, 136.16939493867258, 75.08890687161616, 40.58547274307697, 37.62786947354501, 33.68433957268589, 29.74080492998019, 28.754924520898495, 23.82551000185595, 22.83826753330029, 24.737333930886955, 16.924326137885767, 16.92427172884179, 14.952558960070313, 25.798654227486423, 11.009024114507602, 11.009022202349769, 10.023139966041212, 10.023136404403722, 10.023131740077694, 10.023130737988446, 10.020190757151225, 9.993282491154897, 9.037245651387463, 8.051379714176496, 7.065491233499005, 7.065487560689587, 7.063690095783836, 6.079612676632268, 6.079611894451525, 6.079611741832532, 32.795587189482454, 13.66845971059419, 21.087463130621508, 455.7123062144871, 29.137144967680374, 17.42441831992698, 55.92910409648428, 83.73046427940649, 123.47272166398211, 29.713813231286117, 139.6474191260114, 22.131669393653816, 31.396963594412966, 20.605116156260358, 68.61781598493442, 172.7505612988963, 81.54692993015416, 125.17871620817195, 232.48081244526185, 41.363103139909576, 274.324589883173, 174.2391186555061, 57.287864961321326, 350.16989979895203, 257.5388520686737, 171.1318531980011, 552.1795657717314, 279.60475718073565, 322.45174356112733, 132.81610082267846, 114.86718513317577, 93.73696301085121, 244.66255698679066, 99.62810167396209, 184.77802857364782, 184.6523322655888, 97.62807616033851, 107.90731790710096, 79.57906414535887, 93.67320486995568, 132.13862265045492, 137.75188410974275, 202.3410743044217, 118.57984803950451, 118.07076358890377], \"Total\": [472.0, 774.0, 484.0, 3304.0, 2201.0, 753.0, 873.0, 590.0, 601.0, 1303.0, 1539.0, 2907.0, 878.0, 158.0, 432.0, 284.0, 137.0, 557.0, 254.0, 1657.0, 997.0, 582.0, 137.0, 599.0, 250.0, 395.0, 405.0, 284.0, 910.0, 148.0, 472.6599751179229, 484.46856088177225, 45.56419199745108, 12.873002701720742, 11.882002476894527, 10.891026038487913, 135.53647065094248, 9.899633464008135, 8.909075553177962, 8.909095517970231, 8.909090270138188, 8.909056196590127, 7.918129115148045, 7.918087539485021, 22.772763409479044, 18.81100478204866, 7.917722909444599, 6.927137369172462, 6.927080209833626, 121.7913867194269, 57.40030877157813, 9.897321873640356, 13.855253232330933, 5.936168162258527, 5.936154967082689, 5.936114460001738, 5.936123302425919, 5.936127343993222, 5.93611716305448, 5.9361407866991485, 774.7228794029425, 47.41169847140128, 109.82128813754939, 18.803781869128407, 53.35540008248562, 29.637397878124695, 254.3256526516168, 56.34839166285359, 601.1408014637875, 114.66118339150681, 89.03247340169244, 120.64025132268782, 243.51433301145698, 138.0843464955286, 54.38989469630435, 95.63411050011322, 405.7050190279401, 28.674595764289318, 132.47103590534886, 432.03546724904675, 273.46776715760524, 119.60123532312319, 2907.5739176093252, 237.65982213056031, 3304.18532312343, 303.4520103119185, 124.17139874067735, 450.83801011317433, 131.02603884523015, 135.50366436342404, 2201.587089174066, 3548.538626230843, 934.8329708626316, 271.93084946092495, 414.3284204723519, 280.7967842378006, 525.3904537524876, 474.5216218389495, 257.52899783592585, 494.5677604923602, 997.200391798582, 873.1552273897221, 1303.336428995742, 1269.631933212882, 1657.2671586994993, 158.09513061803668, 137.7281621978721, 32.99029659662337, 36.87249541604937, 21.347843565939648, 18.438393739673106, 69.88413156748503, 14.559020026692359, 12.61933279365829, 11.649494527618705, 40.78236455033822, 9.709838226562033, 9.709857684471638, 8.739973351992907, 8.739985185656556, 8.740024547718239, 8.740036671671126, 15.544559425797786, 6.800312878425529, 6.8003229312000615, 6.800330766834762, 6.800341559920087, 6.800333502797134, 6.800346751200399, 6.800363936853904, 7.772012998097467, 9.719384954812963, 8.744519070141136, 46.64315861252422, 30.123496223007045, 13.607529012373158, 20.422464700226808, 32.08615017934558, 14.59024297536815, 42.850806159531196, 21.416138620227773, 13.616074854284326, 125.87855189027468, 96.45422385701293, 148.38087422852735, 98.39486463093479, 90.83488752679244, 54.69118855762011, 250.6199281930506, 106.61187380523116, 135.50366436342404, 432.03546724904675, 878.048454248427, 96.9031937700724, 95.78940116867054, 1539.8889880299496, 186.03048233043052, 354.8737193947617, 3304.18532312343, 251.02691526545465, 254.3256526516168, 601.1408014637875, 1269.631933212882, 934.8329708626316, 557.6039055433772, 485.2185065077477, 2907.5739176093252, 474.5216218389495, 3548.538626230843, 774.7228794029425, 2201.587089174066, 684.6548640005163, 414.3284204723519, 688.4763203492444, 123.06848864817535, 113.22288207707501, 30.518278374077255, 24.61104599021375, 42.325250922418896, 21.657327869707235, 21.657328575550043, 61.04737555977136, 15.749876964832286, 13.780771220758055, 12.79615849223463, 56.12004876670518, 12.79614732160865, 12.796157446852359, 12.796098093844929, 11.811577031962969, 10.82699924179951, 10.827008234584012, 9.842436334777974, 9.84242712015694, 9.842448797709656, 18.694764822241492, 9.842237499044309, 8.857856586975734, 8.857842782016888, 8.857759482975625, 8.857801800083696, 8.85786440072261, 7.873290188960306, 7.873295693899956, 62.96796693249055, 31.506739943968732, 163.46723299997555, 70.90754836436142, 14.750440652295799, 26.580816342470996, 224.08590370028085, 25.568046854083757, 72.67435773764647, 47.31483600805802, 17.695095481541113, 194.9110390157676, 101.87371097535879, 214.51733511335746, 104.30426265439371, 923.6367681600108, 249.43457081164186, 375.8456984252048, 557.6039055433772, 251.02691526545465, 582.6767590255472, 684.6548640005163, 250.6199281930506, 2201.587089174066, 275.87295727819924, 3304.18532312343, 873.1552273897221, 3548.538626230843, 339.9934869206088, 225.81473826212954, 1657.2671586994993, 2907.5739176093252, 450.83801011317433, 1269.631933212882, 143.49828531931652, 151.54646036649302, 160.18217263315557, 910.569969537386, 383.66139314666697, 878.048454248427, 1539.8889880299496, 385.0228205775301, 997.200391798582, 73.7126871230829, 11.795673214206825, 10.81281998839838, 9.829674968034992, 8.846515603575908, 8.846054732946959, 68.7518074822499, 7.863367413996988, 7.8633618914883705, 7.863377315326225, 6.880204195481653, 6.880187287769356, 6.880216980610478, 6.880191059669039, 6.88020593696137, 6.880176683488998, 6.880148378047117, 16.71350957687312, 83.555906510845, 36.33714390951773, 15.730394143644784, 5.897056179171791, 5.897059215236107, 5.897040864952217, 5.897031567894539, 5.897071178665529, 28.51554807717762, 5.897043512790121, 5.896997475294526, 184.76228692327285, 185.10253698620872, 14.747971555625986, 17.706381329581102, 43.226917084005066, 37.37688009041273, 12.78122990873144, 14.750626767325508, 23.627568280587752, 213.3594262341839, 33.441256259915406, 1303.336428995742, 22.616962498403907, 873.5509075870198, 2201.587089174066, 127.51454468796305, 910.569969537386, 83.5130083550146, 41.21994069989237, 68.74829234684965, 337.4200465225534, 129.07742731110176, 134.278058627521, 136.73033266855558, 997.200391798582, 3304.18532312343, 474.5216218389495, 186.78745680991128, 264.14610625058924, 136.98534778897434, 151.34937561356762, 485.2185065077477, 102.38884452349107, 525.3904537524876, 3548.538626230843, 2907.5739176093252, 923.6367681600108, 494.5677604923602, 357.81139648450363, 934.8329708626316, 425.7218777003343, 1539.8889880299496, 688.4763203492444, 1269.631933212882, 1657.2671586994993, 280.3412146185034, 684.6548640005163, 873.1552273897221, 414.3284204723519, 27.258739000443196, 25.312274650304683, 18.499789487524534, 63.291921735464285, 25.310353204368372, 13.63346818578937, 22.40126749402364, 12.6601672188748, 30.20319634315975, 30.19237262729944, 15.58456337680927, 12.66150049880733, 284.4942500880613, 35.06791871364157, 10.714868905676655, 9.740438776168968, 9.740496622354287, 8.767216856235029, 8.767216856368332, 8.767776971075866, 7.793951431960915, 7.793969730096553, 7.793983484337225, 7.794034129486003, 7.794068792732035, 9.74469392338989, 12.66675397698331, 21.429151378964278, 21.43659773885272, 6.8207380654709295, 58.49401995122772, 58.50858298198577, 78.98625613204705, 590.3562733215671, 54.59440190009104, 36.09221846168506, 284.0060226869611, 23.39898441079453, 57.526738258901794, 38.03863076107531, 165.10068929627315, 45.83471088627262, 49.74067002226072, 59.54232538206209, 89.82776189164174, 391.7523839000498, 366.78285590529094, 170.907990297536, 425.7218777003343, 187.7293969054126, 362.00493292024424, 1657.2671586994993, 639.5967860341945, 1539.8889880299496, 3548.538626230843, 155.40809933536715, 688.4763203492444, 327.12535883112724, 582.6767590255472, 158.51091059768532, 878.048454248427, 1269.631933212882, 2907.5739176093252, 395.15616727330183, 265.62610483719317, 385.0228205775301, 910.569969537386, 504.6649687287286, 599.709863791669, 934.8329708626316, 494.5677604923602, 1303.336428995742, 873.1552273897221, 408.85010586020485, 997.200391798582, 137.0330641017513, 75.90840060621184, 41.402493912125436, 38.444844493752484, 34.50131123358198, 30.55777788813686, 29.571894542825614, 24.642477872574798, 23.656584445736307, 25.628142973930007, 17.741294520653494, 17.741294375408675, 15.769527845248092, 27.584141971634377, 11.82599454406992, 11.825994458489507, 10.840111141798996, 10.840111101837842, 10.840111149183487, 10.84011125520442, 10.840086625252296, 10.840029273860386, 9.85422766473133, 8.86834455049508, 7.8824611580097494, 7.882461105885062, 7.88244980817745, 6.896577878413564, 6.896577872861714, 6.896577871772661, 37.396382704323315, 15.753103684897685, 24.628538401066972, 753.2350757085276, 37.426659613423055, 21.702544670003306, 81.5626438920932, 129.97427355199767, 216.4324790607344, 40.289843653897975, 271.09317557105203, 28.551836073063612, 44.32794580936353, 26.592648282875082, 121.92796838609968, 395.15616727330183, 152.8970697261028, 267.26397527553564, 599.709863791669, 65.85810424279863, 873.5509075870198, 504.6649687287286, 106.95414918876997, 1539.8889880299496, 997.200391798582, 557.6039055433772, 3548.538626230843, 1303.336428995742, 1657.2671586994993, 408.85010586020485, 322.99106782704865, 237.42884598156982, 1269.631933212882, 281.7137449827351, 873.1552273897221, 878.048454248427, 275.82952081492243, 357.81139648450363, 189.12512079781393, 282.91779320411604, 688.4763203492444, 934.8329708626316, 3304.18532312343, 639.5967860341945, 684.6548640005163], \"Category\": [\"Default\", \"Default\", \"Default\", \"Default\", \"Default\", \"Default\", \"Default\", \"Default\", \"Default\", \"Default\", \"Default\", \"Default\", \"Default\", \"Default\", \"Default\", \"Default\", \"Default\", \"Default\", \"Default\", \"Default\", \"Default\", \"Default\", \"Default\", \"Default\", \"Default\", \"Default\", \"Default\", \"Default\", \"Default\", \"Default\", \"Topic1\", \"Topic1\", \"Topic1\", \"Topic1\", \"Topic1\", \"Topic1\", \"Topic1\", \"Topic1\", \"Topic1\", \"Topic1\", \"Topic1\", \"Topic1\", \"Topic1\", \"Topic1\", \"Topic1\", \"Topic1\", \"Topic1\", \"Topic1\", \"Topic1\", \"Topic1\", \"Topic1\", \"Topic1\", \"Topic1\", \"Topic1\", \"Topic1\", \"Topic1\", \"Topic1\", \"Topic1\", \"Topic1\", \"Topic1\", \"Topic1\", \"Topic1\", \"Topic1\", \"Topic1\", \"Topic1\", \"Topic1\", \"Topic1\", \"Topic1\", \"Topic1\", \"Topic1\", \"Topic1\", \"Topic1\", \"Topic1\", \"Topic1\", \"Topic1\", \"Topic1\", \"Topic1\", \"Topic1\", \"Topic1\", \"Topic1\", \"Topic1\", \"Topic1\", \"Topic1\", \"Topic1\", \"Topic1\", \"Topic1\", \"Topic1\", \"Topic1\", \"Topic1\", \"Topic1\", \"Topic1\", \"Topic1\", \"Topic1\", \"Topic1\", \"Topic1\", \"Topic1\", \"Topic1\", \"Topic1\", \"Topic1\", \"Topic1\", \"Topic1\", \"Topic1\", \"Topic1\", \"Topic1\", \"Topic1\", \"Topic2\", \"Topic2\", \"Topic2\", \"Topic2\", \"Topic2\", \"Topic2\", \"Topic2\", \"Topic2\", \"Topic2\", \"Topic2\", \"Topic2\", \"Topic2\", \"Topic2\", \"Topic2\", \"Topic2\", \"Topic2\", \"Topic2\", \"Topic2\", \"Topic2\", \"Topic2\", \"Topic2\", \"Topic2\", \"Topic2\", \"Topic2\", \"Topic2\", \"Topic2\", \"Topic2\", \"Topic2\", \"Topic2\", \"Topic2\", \"Topic2\", \"Topic2\", \"Topic2\", \"Topic2\", \"Topic2\", \"Topic2\", \"Topic2\", \"Topic2\", \"Topic2\", \"Topic2\", \"Topic2\", \"Topic2\", \"Topic2\", \"Topic2\", \"Topic2\", \"Topic2\", \"Topic2\", \"Topic2\", \"Topic2\", \"Topic2\", \"Topic2\", \"Topic2\", \"Topic2\", \"Topic2\", \"Topic2\", \"Topic2\", \"Topic2\", \"Topic2\", \"Topic2\", \"Topic2\", \"Topic2\", \"Topic2\", \"Topic2\", \"Topic2\", \"Topic2\", \"Topic2\", \"Topic2\", \"Topic2\", \"Topic2\", \"Topic3\", \"Topic3\", \"Topic3\", \"Topic3\", \"Topic3\", \"Topic3\", \"Topic3\", \"Topic3\", \"Topic3\", \"Topic3\", \"Topic3\", \"Topic3\", \"Topic3\", \"Topic3\", \"Topic3\", \"Topic3\", \"Topic3\", \"Topic3\", \"Topic3\", \"Topic3\", \"Topic3\", \"Topic3\", \"Topic3\", \"Topic3\", \"Topic3\", \"Topic3\", \"Topic3\", \"Topic3\", \"Topic3\", \"Topic3\", \"Topic3\", \"Topic3\", \"Topic3\", \"Topic3\", \"Topic3\", \"Topic3\", \"Topic3\", \"Topic3\", \"Topic3\", \"Topic3\", \"Topic3\", \"Topic3\", \"Topic3\", \"Topic3\", \"Topic3\", \"Topic3\", \"Topic3\", \"Topic3\", \"Topic3\", \"Topic3\", \"Topic3\", \"Topic3\", \"Topic3\", \"Topic3\", \"Topic3\", \"Topic3\", \"Topic3\", \"Topic3\", \"Topic3\", \"Topic3\", \"Topic3\", \"Topic3\", \"Topic3\", \"Topic3\", \"Topic3\", \"Topic3\", \"Topic3\", \"Topic3\", \"Topic3\", \"Topic3\", \"Topic3\", \"Topic3\", \"Topic3\", \"Topic4\", \"Topic4\", \"Topic4\", \"Topic4\", \"Topic4\", \"Topic4\", \"Topic4\", \"Topic4\", \"Topic4\", \"Topic4\", \"Topic4\", \"Topic4\", \"Topic4\", \"Topic4\", \"Topic4\", \"Topic4\", \"Topic4\", \"Topic4\", \"Topic4\", \"Topic4\", \"Topic4\", \"Topic4\", \"Topic4\", \"Topic4\", \"Topic4\", \"Topic4\", \"Topic4\", \"Topic4\", \"Topic4\", \"Topic4\", \"Topic4\", \"Topic4\", \"Topic4\", \"Topic4\", \"Topic4\", \"Topic4\", \"Topic4\", \"Topic4\", \"Topic4\", \"Topic4\", \"Topic4\", \"Topic4\", \"Topic4\", \"Topic4\", \"Topic4\", \"Topic4\", \"Topic4\", \"Topic4\", \"Topic4\", \"Topic4\", \"Topic4\", \"Topic4\", \"Topic4\", \"Topic4\", \"Topic4\", \"Topic4\", \"Topic4\", \"Topic4\", \"Topic4\", \"Topic4\", \"Topic4\", \"Topic4\", \"Topic4\", \"Topic4\", \"Topic4\", \"Topic4\", \"Topic4\", \"Topic4\", \"Topic4\", \"Topic4\", \"Topic4\", \"Topic4\", \"Topic4\", \"Topic4\", \"Topic4\", \"Topic4\", \"Topic4\", \"Topic4\", \"Topic5\", \"Topic5\", \"Topic5\", \"Topic5\", \"Topic5\", \"Topic5\", \"Topic5\", \"Topic5\", \"Topic5\", \"Topic5\", \"Topic5\", \"Topic5\", \"Topic5\", \"Topic5\", \"Topic5\", \"Topic5\", \"Topic5\", \"Topic5\", \"Topic5\", \"Topic5\", \"Topic5\", \"Topic5\", \"Topic5\", \"Topic5\", \"Topic5\", \"Topic5\", \"Topic5\", \"Topic5\", \"Topic5\", \"Topic5\", \"Topic5\", \"Topic5\", \"Topic5\", \"Topic5\", \"Topic5\", \"Topic5\", \"Topic5\", \"Topic5\", \"Topic5\", \"Topic5\", \"Topic5\", \"Topic5\", \"Topic5\", \"Topic5\", \"Topic5\", \"Topic5\", \"Topic5\", \"Topic5\", \"Topic5\", \"Topic5\", \"Topic5\", \"Topic5\", \"Topic5\", \"Topic5\", \"Topic5\", \"Topic5\", \"Topic5\", \"Topic5\", \"Topic5\", \"Topic5\", \"Topic5\", \"Topic5\", \"Topic5\", \"Topic5\", \"Topic5\", \"Topic5\", \"Topic5\", \"Topic5\", \"Topic5\", \"Topic5\", \"Topic5\", \"Topic5\", \"Topic5\", \"Topic5\", \"Topic5\", \"Topic6\", \"Topic6\", \"Topic6\", \"Topic6\", \"Topic6\", \"Topic6\", \"Topic6\", \"Topic6\", \"Topic6\", \"Topic6\", \"Topic6\", \"Topic6\", \"Topic6\", \"Topic6\", \"Topic6\", \"Topic6\", \"Topic6\", \"Topic6\", \"Topic6\", \"Topic6\", \"Topic6\", \"Topic6\", \"Topic6\", \"Topic6\", \"Topic6\", \"Topic6\", \"Topic6\", \"Topic6\", \"Topic6\", \"Topic6\", \"Topic6\", \"Topic6\", \"Topic6\", \"Topic6\", \"Topic6\", \"Topic6\", \"Topic6\", \"Topic6\", \"Topic6\", \"Topic6\", \"Topic6\", \"Topic6\", \"Topic6\", \"Topic6\", \"Topic6\", \"Topic6\", \"Topic6\", \"Topic6\", \"Topic6\", \"Topic6\", \"Topic6\", \"Topic6\", \"Topic6\", \"Topic6\", \"Topic6\", \"Topic6\", \"Topic6\", \"Topic6\", \"Topic6\", \"Topic6\", \"Topic6\", \"Topic6\", \"Topic6\", \"Topic6\", \"Topic6\", \"Topic6\", \"Topic6\", \"Topic6\", \"Topic6\", \"Topic6\", \"Topic6\", \"Topic6\", \"Topic6\", \"Topic6\", \"Topic6\"], \"logprob\": [30.0, 29.0, 28.0, 27.0, 26.0, 25.0, 24.0, 23.0, 22.0, 21.0, 20.0, 19.0, 18.0, 17.0, 16.0, 15.0, 14.0, 13.0, 12.0, 11.0, 10.0, 9.0, 8.0, 7.0, 6.0, 5.0, 4.0, 3.0, 2.0, 1.0, -3.689, -3.673, -6.0769, -7.3494, -7.4353, -7.5291, -5.0195, -7.6399, -7.748, -7.748, -7.7481, -7.7483, -7.8786, -7.8791, -6.8227, -7.0179, -7.8876, -8.029, -8.0296, -5.1638, -5.9202, -7.6805, -7.3571, -8.2058, -8.2061, -8.2062, -8.2063, -8.2064, -8.2064, -8.2065, -3.3821, -6.1521, -5.363, -7.0873, -6.0761, -6.6471, -4.5847, -6.0341, -3.7911, -5.3708, -5.6253, -5.3437, -4.6987, -5.225, -6.0925, -5.5774, -4.2808, -6.6909, -5.3384, -4.3103, -4.7149, -5.5043, -2.8775, -4.9494, -2.8752, -4.788, -5.5157, -4.5586, -5.5019, -5.4954, -3.8464, -3.6002, -4.4526, -5.1192, -4.9015, -5.122, -4.9144, -4.9762, -5.215, -5.0035, -5.0334, -5.0823, -5.0397, -5.0747, -5.099, -4.0782, -4.2165, -5.674, -5.5644, -6.114, -6.2671, -4.9448, -6.5157, -6.6679, -6.7536, -5.5131, -6.9511, -6.9513, -7.0664, -7.0666, -7.0668, -7.067, -6.5204, -7.3475, -7.3476, -7.3477, -7.3477, -7.3478, -7.3478, -7.3481, -7.215, -7.0016, -7.1081, -5.4343, -5.8718, -6.6883, -6.3245, -5.9338, -6.6679, -5.7127, -6.3385, -6.7373, -4.8258, -5.0656, -4.7055, -5.1341, -5.2962, -5.705, -4.6047, -5.251, -5.1427, -4.3778, -3.9301, -5.4337, -5.4679, -3.8319, -5.0888, -4.792, -3.6036, -5.0246, -5.0866, -4.7131, -4.4341, -4.5676, -4.825, -4.8768, -4.2549, -4.8906, -4.3789, -4.9139, -4.7261, -4.9694, -5.1575, -5.2271, -5.0508, -5.1357, -6.467, -6.6876, -6.1491, -6.8202, -6.8202, -5.7899, -7.1536, -7.2962, -7.3739, -5.8956, -7.374, -7.374, -7.3744, -7.4598, -7.5536, -7.5539, -7.6572, -7.6573, -7.6577, -7.0168, -7.6592, -7.7726, -7.773, -7.7736, -7.7736, -7.7757, -7.9033, -7.9035, -5.8611, -6.5513, -5.0049, -5.832, -7.2957, -6.7546, -4.8231, -6.7988, -5.862, -6.2931, -7.15, -5.0872, -5.6674, -5.0513, -5.6692, -3.8734, -4.9533, -4.7181, -4.4121, -5.0394, -4.3944, -4.2723, -5.0448, -3.4141, -4.9786, -3.2508, -4.2054, -3.2565, -4.8932, -5.1819, -3.895, -3.5855, -4.8097, -4.4088, -5.5148, -5.4932, -5.519, -4.9252, -5.2515, -5.0254, -5.0783, -5.4123, -5.4055, -5.5673, -7.4259, -7.5178, -7.6214, -7.7368, -7.7411, -5.6965, -7.8676, -7.8677, -7.8677, -8.0177, -8.0178, -8.0179, -8.0182, -8.0182, -8.0184, -8.0188, -7.1326, -5.5264, -6.3598, -7.2049, -8.1947, -8.1948, -8.195, -8.195, -8.1951, -6.6194, -8.1955, -8.1961, -4.7554, -4.895, -7.3196, -7.1503, -6.307, -6.4521, -7.4667, -7.3325, -6.8999, -4.9128, -6.5996, -3.3931, -6.9609, -3.7456, -2.9941, -5.475, -3.8216, -5.8665, -6.4616, -6.0377, -4.7063, -5.5119, -5.4927, -5.4798, -3.8507, -2.9391, -4.4989, -5.2589, -5.0021, -5.5515, -5.487, -4.6384, -5.7907, -4.6228, -3.2849, -3.5122, -4.2975, -4.7139, -5.0275, -4.499, -4.9969, -4.5048, -4.8668, -4.6558, -4.5816, -5.2487, -4.9743, -5.0172, -5.2083, -6.6722, -6.7487, -7.0757, -5.8499, -6.7711, -7.397, -6.9028, -7.4756, -6.6147, -6.6151, -7.2774, -7.4853, -4.3759, -6.4741, -7.6621, -7.7587, -7.7591, -7.8743, -7.8744, -7.8813, -8.0047, -8.0049, -8.005, -8.0058, -8.006, -7.7853, -7.5239, -7.0007, -7.007, -8.1553, -6.009, -6.0117, -5.7218, -3.7674, -6.114, -6.5209, -4.5754, -6.9517, -6.1079, -6.4996, -5.1346, -6.3367, -6.2624, -6.1052, -5.7512, -4.458, -4.5297, -5.2095, -4.51, -5.2087, -4.6838, -3.5063, -4.27, -3.6066, -3.0969, -5.4331, -4.335, -4.8836, -4.506, -5.4337, -4.2236, -3.9795, -3.5601, -4.8767, -5.1507, -4.9329, -4.4679, -4.837, -4.7501, -4.6542, -4.9588, -4.7066, -4.9082, -5.1523, -5.191, -4.6215, -5.2167, -5.832, -5.9076, -6.0183, -6.1428, -6.1766, -6.3646, -6.4069, -6.327, -6.7066, -6.7066, -6.8305, -6.285, -7.1366, -7.1366, -7.2305, -7.2305, -7.2305, -7.2305, -7.2308, -7.2334, -7.334, -7.4495, -7.5801, -7.5801, -7.5804, -7.7304, -7.7304, -7.7304, -6.0451, -6.9203, -6.4867, -3.4135, -6.1633, -6.6775, -5.5113, -5.1078, -4.7193, -6.1438, -4.5962, -6.4384, -6.0887, -6.5098, -5.3068, -4.3835, -5.1342, -4.7056, -4.0866, -5.813, -3.9211, -4.3749, -5.4873, -3.6769, -3.9842, -4.3929, -3.2215, -3.902, -3.7594, -4.6464, -4.7916, -4.9949, -4.0355, -4.9339, -4.3162, -4.3169, -4.9542, -4.8541, -5.1586, -4.9955, -4.6515, -4.6099, -4.2254, -4.7598, -4.7641], \"loglift\": [30.0, 29.0, 28.0, 27.0, 26.0, 25.0, 24.0, 23.0, 22.0, 21.0, 20.0, 19.0, 18.0, 17.0, 16.0, 15.0, 14.0, 13.0, 12.0, 11.0, 10.0, 9.0, 8.0, 7.0, 6.0, 5.0, 4.0, 3.0, 2.0, 1.0, 1.6679, 1.6592, 1.6193, 1.6107, 1.6049, 1.5982, 1.5866, 1.5829, 1.5802, 1.5802, 1.5801, 1.5799, 1.5676, 1.567, 1.567, 1.5629, 1.5585, 1.5509, 1.5502, 1.5492, 1.545, 1.5425, 1.5295, 1.5284, 1.5282, 1.528, 1.5279, 1.5278, 1.5278, 1.5277, 1.4807, 1.5043, 1.4535, 1.4939, 1.4621, 1.4791, 1.392, 1.4497, 1.3253, 1.4025, 1.401, 1.3787, 1.3214, 1.3624, 1.4266, 1.3774, 1.2288, 1.4683, 1.2905, 1.1365, 1.1892, 1.2269, 0.6627, 1.095, 0.5371, 1.0121, 1.1779, 0.8456, 1.1379, 1.1109, -0.028, -0.2592, 0.2223, 0.7905, 0.5872, 0.7556, 0.3367, 0.3768, 0.7492, 0.3081, -0.4231, -0.3391, -0.6971, -0.7059, -0.9967, 2.3739, 2.3735, 2.3451, 2.3434, 2.3403, 2.3337, 2.3237, 2.3213, 2.3122, 2.3064, 2.2939, 2.291, 2.2909, 2.2809, 2.2808, 2.2805, 2.2803, 2.2511, 2.2508, 2.2507, 2.2506, 2.2506, 2.2505, 2.2505, 2.2502, 2.2498, 2.2395, 2.2388, 2.2384, 2.2382, 2.2164, 2.1742, 2.1131, 2.1671, 2.0448, 2.1126, 2.1667, 1.8542, 1.8806, 1.81, 1.7922, 1.71, 1.8085, 1.3866, 1.5951, 1.4636, 1.069, 0.8075, 1.5079, 1.4852, 0.344, 1.2006, 0.8515, -0.1913, 0.9651, 0.89, 0.4034, -0.0653, 0.1073, 0.3666, 0.4538, -0.7147, 0.4624, -1.0379, -0.0511, -0.9078, 0.017, 0.3311, -0.2463, 1.6517, 1.6502, 1.63, 1.6245, 1.6208, 1.6197, 1.6197, 1.6137, 1.6048, 1.5958, 1.5922, 1.5922, 1.5922, 1.5921, 1.5917, 1.5864, 1.5796, 1.5793, 1.5714, 1.5712, 1.5708, 1.5702, 1.5694, 1.5613, 1.5609, 1.5604, 1.5603, 1.5582, 1.5485, 1.5483, 1.5115, 1.5138, 1.4138, 1.4219, 1.5283, 1.4804, 1.2801, 1.4751, 1.3673, 1.3654, 1.492, 1.1555, 1.2242, 1.0955, 1.1988, 0.8135, 1.0427, 0.868, 0.7796, 0.9504, 0.7532, 0.714, 0.9466, 0.4043, 0.9167, 0.1616, 0.5377, 0.0845, 0.7931, 0.9136, 0.2073, -0.0453, 0.5945, -0.04, 1.0341, 1.0011, 0.9199, -0.224, 0.314, -0.2878, -0.9025, 0.1497, -0.7952, 1.6478, 1.6216, 1.6167, 1.6085, 1.5985, 1.5942, 1.5883, 1.5854, 1.5854, 1.5854, 1.5689, 1.5689, 1.5688, 1.5685, 1.5684, 1.5682, 1.5678, 1.5665, 1.5634, 1.5626, 1.5548, 1.5462, 1.546, 1.5458, 1.5458, 1.5457, 1.5455, 1.5453, 1.5447, 1.5408, 1.3993, 1.5046, 1.4911, 1.4418, 1.4422, 1.5006, 1.4915, 1.453, 1.2395, 1.4059, 0.9495, 1.4357, 0.9971, 0.8242, 1.192, 0.8796, 1.2237, 1.3348, 1.2471, 0.9877, 1.143, 1.1227, 1.1175, 0.7597, 0.4732, 0.8541, 1.0264, 0.9366, 1.0439, 1.0087, 0.6923, 1.0958, 0.6283, 0.0561, 0.028, 0.3894, 0.5977, 0.6077, 0.1759, 0.4646, -0.329, 0.114, -0.287, -0.4792, 0.6305, 0.0121, -0.2741, 0.2803, 1.5377, 1.5353, 1.5218, 1.5177, 1.513, 1.5057, 1.5034, 1.5012, 1.4926, 1.4926, 1.4916, 1.4914, 1.4887, 1.4839, 1.4816, 1.4803, 1.4799, 1.4699, 1.4699, 1.4629, 1.4572, 1.4571, 1.4569, 1.4562, 1.4559, 1.4532, 1.4524, 1.4498, 1.4432, 1.44, 1.4374, 1.4344, 1.4242, 1.3672, 1.4013, 1.4083, 1.2909, 1.4108, 1.3552, 1.377, 1.2742, 1.3536, 1.3461, 1.3234, 1.2662, 1.0866, 1.0808, 1.1647, 0.9515, 1.0715, 0.9399, 0.5961, 0.7845, 0.5692, 0.2441, 1.0361, 0.6458, 0.8413, 0.6417, 1.0158, 0.514, 0.3893, -0.0199, 0.6593, 0.7825, 0.6291, 0.2333, 0.4544, 0.3687, 0.0207, 0.3528, -0.364, -0.1651, 0.3496, -0.5807, 1.9736, 1.9691, 1.96, 1.9584, 1.9559, 1.9528, 1.9519, 1.9462, 1.9447, 1.9445, 1.9328, 1.9328, 1.9267, 1.913, 1.9083, 1.9083, 1.9016, 1.9016, 1.9016, 1.9016, 1.9013, 1.8986, 1.8934, 1.8833, 1.8705, 1.8705, 1.8702, 1.8538, 1.8538, 1.8538, 1.8486, 1.838, 1.8247, 1.4774, 1.7295, 1.7604, 1.6026, 1.5402, 1.4187, 1.6754, 1.3166, 1.7252, 1.635, 1.7248, 1.405, 1.1525, 1.3513, 1.2214, 1.0323, 1.5148, 0.8217, 0.9164, 1.3556, 0.4989, 0.6261, 0.7987, 0.1195, 0.4406, 0.3429, 0.8555, 0.9461, 1.0505, 0.3333, 0.9405, 0.427, 0.4207, 0.9413, 0.7812, 1.1143, 0.8746, 0.3293, 0.065, -0.8131, 0.2947, 0.2223]}, \"token.table\": {\"Topic\": [1, 2, 3, 4, 5, 6, 1, 2, 3, 5, 6, 3, 5, 1, 2, 3, 3, 5, 3, 4, 1, 2, 3, 4, 5, 6, 1, 2, 5, 5, 4, 1, 3, 4, 5, 5, 3, 5, 6, 2, 1, 5, 6, 2, 3, 5, 6, 1, 3, 5, 1, 3, 4, 5, 6, 2, 4, 5, 4, 5, 3, 3, 4, 3, 5, 6, 1, 2, 3, 4, 5, 6, 6, 1, 2, 3, 4, 5, 1, 3, 1, 3, 1, 1, 6, 2, 2, 2, 1, 2, 3, 5, 6, 1, 3, 4, 5, 1, 2, 5, 3, 1, 5, 6, 3, 4, 5, 5, 6, 4, 1, 3, 4, 5, 6, 2, 6, 6, 6, 5, 1, 2, 3, 4, 5, 6, 1, 2, 3, 4, 1, 3, 4, 5, 6, 2, 1, 2, 3, 4, 1, 2, 3, 4, 5, 6, 1, 2, 3, 4, 5, 6, 1, 2, 3, 4, 5, 6, 1, 2, 3, 4, 5, 6, 1, 2, 3, 4, 5, 6, 1, 2, 3, 4, 5, 6, 3, 1, 4, 1, 1, 2, 3, 4, 5, 6, 1, 2, 4, 5, 6, 1, 2, 3, 4, 5, 6, 2, 3, 5, 1, 5, 6, 3, 2, 3, 5, 5, 2, 1, 2, 3, 4, 5, 6, 1, 2, 3, 4, 5, 6, 1, 2, 3, 4, 4, 2, 3, 3, 4, 1, 2, 6, 1, 6, 1, 3, 4, 5, 6, 1, 3, 4, 5, 6, 6, 1, 3, 4, 1, 2, 3, 4, 5, 6, 1, 2, 3, 4, 5, 6, 1, 2, 3, 4, 5, 6, 2, 3, 4, 5, 6, 1, 2, 3, 4, 5, 1, 2, 3, 4, 5, 6, 1, 2, 3, 5, 4, 4, 1, 2, 3, 4, 5, 6, 1, 2, 3, 4, 5, 6, 5, 3, 1, 2, 3, 4, 5, 6, 1, 2, 3, 4, 5, 6, 2, 3, 3, 6, 1, 2, 3, 3, 6, 3, 1, 6, 3, 4, 5, 6, 1, 2, 3, 4, 5, 6, 1, 2, 3, 4, 5, 6, 1, 2, 3, 4, 5, 6, 4, 4, 5, 6, 1, 3, 5, 6, 1, 5, 6, 2, 3, 5, 1, 3, 5, 5, 3, 4, 4, 3, 2, 4, 6, 3, 5, 6, 3, 5, 6, 1, 3, 4, 4, 6, 2, 6, 6, 6, 2, 4, 2, 4, 5, 6, 1, 2, 3, 4, 5, 6, 1, 2, 3, 4, 5, 6, 1, 2, 3, 4, 5, 6, 1, 2, 3, 2, 4, 5, 1, 2, 1, 4, 3, 5, 6, 1, 2, 3, 4, 5, 6, 2, 3, 4, 5, 6, 4, 4, 3, 1, 2, 5, 1, 3, 5, 1, 1, 3, 1, 2, 3, 5, 2, 3, 3, 4, 6, 1, 2, 3, 4, 5, 6, 1, 2, 3, 4, 5, 2, 4, 1, 2, 3, 4, 5, 2, 6, 2, 3, 2, 1, 2, 3, 4, 4, 1, 2, 3, 5, 6, 1, 2, 3, 4, 5, 1, 1, 2, 3, 4, 5, 6, 1, 4, 5, 1, 2, 3, 5, 6, 1, 2, 3, 4, 5, 6, 3, 1, 2, 3, 4, 5, 6, 1, 2, 3, 4, 5, 6, 6, 4, 1, 2, 3, 4, 5, 6, 1, 3, 4, 5, 1, 2, 3, 4, 5, 6, 1, 2, 3, 4, 5, 6, 1, 2, 3, 4, 5, 6, 1, 2, 3, 4, 5, 6, 2, 6, 5, 4, 5, 6, 1, 3, 4, 5, 3, 6, 1, 5, 3, 4, 1, 1, 3, 4, 5, 1, 3, 4, 1, 2, 3, 4, 5, 3, 6, 2, 1, 2, 3, 4, 5, 6, 1, 2, 3, 4, 5, 6, 1, 2, 3, 4, 5, 6, 3, 4, 6, 3, 1, 2, 3, 3, 5, 2, 3, 4, 5, 1, 1, 2, 3, 4, 5, 1, 2, 3, 4, 5, 6, 6, 1, 5, 1, 2, 3, 4, 5, 6, 1, 2, 3, 4, 5, 6, 5, 6, 1, 2, 3, 4, 5, 6, 1, 2, 3, 4, 5, 6, 2, 3, 1, 2, 3, 4, 5, 6, 1, 2, 3, 4, 5, 6, 1, 2, 3, 4, 5, 6, 1, 2, 3, 4, 5, 6, 1, 2, 3, 4, 5, 5, 6, 1, 1, 2, 3, 4, 5, 6, 1, 2, 3, 4, 5, 6, 1, 2, 3, 4, 5, 6, 5, 1, 2, 3, 5, 6, 1, 2, 3, 4, 5, 6, 6, 2, 5, 2, 3, 4, 5, 6, 1, 2, 3, 5, 6, 6, 1, 2, 3, 4, 5, 6, 3, 2, 3, 4, 5, 1, 2, 1, 2, 3, 4, 5, 6, 1, 3, 4, 5, 3, 4, 4, 1, 2, 6, 2, 3, 2, 2, 3, 6, 1, 2, 3, 4, 5, 6, 6, 5, 6, 3, 5, 4, 3, 4, 5, 6, 3, 5, 6, 2, 3, 2, 1, 2, 4, 2, 3, 2, 1, 2, 3, 4, 5, 6, 2, 6, 1, 2, 3, 4, 5, 6, 1, 2, 5, 1, 2, 1, 2, 3, 4, 5, 6, 1, 2, 3, 4, 1, 2, 4, 1, 2, 3, 4, 1, 2, 3, 4, 5, 6, 1, 2, 3, 4, 5, 1, 4, 1, 2, 3, 4, 5, 6, 1, 2, 3, 4, 1, 2, 3, 4, 5, 1, 2, 3, 6, 2, 1, 2, 3, 5, 2, 3, 5, 6, 1, 2, 3, 4, 5, 6, 1, 2, 3, 4, 5, 6, 1, 3, 5, 1, 2, 3, 4, 5, 2, 4, 4, 6, 3, 3, 1, 3, 4, 5, 6, 1, 2, 3, 4, 5, 6, 1, 2, 3, 4, 5, 6, 2, 3, 4, 5, 6, 6, 1, 3, 4, 5, 6, 6, 3, 4, 6, 1, 2, 3, 4, 5, 1, 2, 3, 1, 3, 3, 4, 1, 4, 5, 6, 1, 1, 2, 3, 4, 2, 6, 1, 3, 4, 5, 1, 2, 3, 4, 5, 6, 1, 2, 4, 5, 4, 1, 2, 3, 4, 5, 6, 5, 5, 1, 3, 6, 5, 1, 2, 3, 4, 1, 3, 4, 5, 2, 3, 5, 6, 1, 3, 4, 1, 2, 3, 5, 6, 4, 5, 1, 2, 3, 4, 5, 6, 1, 3, 4, 1, 2, 3, 4, 5, 6, 1, 2, 3, 4, 5, 6, 1, 2, 3, 4, 5, 6, 1, 2, 3, 4, 5, 6, 2, 3, 3, 3, 1, 2, 3, 5, 6, 3, 5, 3], \"Freq\": [0.03303614553895641, 0.046250603754538974, 0.23786024788048615, 0.5021494121921375, 0.06607229107791282, 0.11893012394024308, 0.06271851945807534, 0.013937448768461187, 0.5365917775857557, 0.188155558374226, 0.20209300714268721, 0.07894682424692977, 0.8684150667162274, 0.8661658040977278, 0.9442469777483582, 0.9031522315183977, 0.9696487085728309, 0.9374469549815662, 0.13561186990742802, 0.8136712194445681, 0.07592080059830653, 0.15184160119661305, 0.06073664047864522, 0.015184160119661306, 0.04555248035898392, 0.6225505649061135, 0.031599609320747526, 0.015799804660373763, 0.9479882796224257, 0.8981302522858634, 0.8478891200051386, 0.03866510481879722, 0.014060038115926262, 0.021090057173889395, 0.9244475061221518, 0.8983248142089633, 0.8575789029030377, 0.0635243631780028, 0.0635243631780028, 0.8823110403289587, 0.08312041010127304, 0.8589109043798214, 0.027706803367091012, 0.10284780986463107, 0.130897212554985, 0.22439522152283142, 0.5329386511167247, 0.9037263132388919, 0.05316037136699364, 0.8981188370479224, 0.010653632478283086, 0.2503603632396525, 0.042614529913132346, 0.6072570512621359, 0.09055587606540623, 0.7791523713584355, 0.1558304742716871, 0.062332189708674844, 0.0932983873823925, 0.8863346801327288, 0.8890813037065831, 0.9312896974073163, 0.8720655201585842, 0.06130257384268911, 0.24521029537075645, 0.6865888270381181, 0.604003826651191, 0.18522784017303193, 0.112747380974889, 0.06442707484279371, 0.016106768710698428, 0.02416015306604764, 0.9224997701642182, 0.3942027441006822, 0.014600101633358599, 0.0073000508166792995, 0.5183036079842303, 0.058400406533434396, 0.8660974865474318, 0.07217479054561932, 0.9922566425959597, 0.006347057415325968, 0.8840925705609248, 0.18431018393565138, 0.7833182817265184, 0.9153279672075303, 0.882310023692086, 0.882308623343694, 0.01972726498262356, 0.13271069170128577, 0.4160659523607878, 0.12374375307282051, 0.3066693010935117, 0.018316896333620835, 0.03663379266724167, 0.09158448166810418, 0.8425772313465585, 0.7510056418163911, 0.22412210253159312, 0.019659833555402906, 0.9913179347539571, 0.03419152935065155, 0.8718839984416146, 0.08547882337662888, 0.06031281843725453, 0.12062563687450906, 0.804170912496727, 0.24820150919182127, 0.7446045275754638, 0.904310844912348, 0.09865595873737033, 0.03758322237614108, 0.29126997341509336, 0.540258821657028, 0.03288531957912345, 0.8823123446327628, 0.9806608757515551, 0.913313585417897, 0.8699967014883848, 0.9124902612838827, 0.1028542856617226, 0.019488180441168495, 0.4298226463968829, 0.2706691727940069, 0.08986216536761027, 0.08769681198525822, 0.8021037223702965, 0.06974814977133013, 0.06974814977133013, 0.06974814977133013, 0.7460196660173439, 0.13262571840308338, 0.016578214800385422, 0.04144553700096355, 0.06631285920154169, 0.9268949481959222, 0.7587572134411118, 0.06104943096652624, 0.11337751465212016, 0.06104943096652624, 0.1816871119779602, 0.03724585795548184, 0.28524876580539754, 0.4183345753292534, 0.03997116463515125, 0.03724585795548184, 0.43474595221196616, 0.035489465486691116, 0.34602228849523836, 0.09537793849548237, 0.022180915929181946, 0.06654274778754583, 0.14428474759025856, 0.03268951312591795, 0.20712751851335945, 0.19416443572204714, 0.2660250033695392, 0.1555569934957475, 0.051944972949915576, 0.044153227007428235, 0.22076613503714118, 0.17921015667720874, 0.39218454577186257, 0.11427894048981427, 0.1223425110974505, 0.024067379232285344, 0.08624144224902248, 0.3920977199926487, 0.11632566628937915, 0.2587243267470674, 0.362845461506769, 0.0453986738567711, 0.1819386247744842, 0.1888172117224798, 0.20429403235546995, 0.01685253802258927, 0.9144262166884216, 0.16929376533794097, 0.8041453853552195, 0.9181871354141375, 0.3666786737680114, 0.011224857360245246, 0.033674572080735744, 0.026191333840572244, 0.09354047800204372, 0.4677023900102186, 0.23973113179853817, 0.06308713994698373, 0.10724813790987234, 0.574092973517552, 0.012617427989396746, 0.09361762415054665, 0.07021321811291, 0.04095771056586416, 0.0175533045282275, 0.6670255720726449, 0.11117092867877415, 0.611689127139353, 0.26955792043429117, 0.11404373556835395, 0.04060330270986269, 0.08120660541972538, 0.8526693569071165, 0.9377858712861962, 0.8818647374617793, 0.07348872812181494, 0.9239775289634761, 0.97298404460972, 0.9699821857095784, 0.023434633698873872, 0.014060780219324323, 0.0046869267397747745, 0.6327351098695946, 0.06561697435684684, 0.26246789742738735, 0.1452195875882105, 0.07112796126769494, 0.03852764568666809, 0.4919683987682233, 0.2519115294897529, 0.0029636650528206223, 0.7722022672504602, 0.0367715365357362, 0.12870037787507668, 0.0551573048036043, 0.8478806794583094, 0.9930729642731214, 0.914407743558244, 0.0635711979539946, 0.8899967713559245, 0.7424129280725201, 0.23004344250134426, 0.0313695603410924, 0.8422999895815086, 0.9902785104448126, 0.017818943888610418, 0.9444040260963522, 0.017818943888610418, 0.017818943888610418, 0.975490109659175, 0.01263536445033672, 0.09265933930246929, 0.16004794970426514, 0.3369430520089792, 0.3959080861105506, 0.8880475153596109, 0.2113501988741319, 0.7397256960594616, 0.04227003977482638, 0.1145091689095879, 0.019084861484931315, 0.00817922635068485, 0.09269789864109497, 0.6134419763013638, 0.1499524830958889, 0.040576454854788335, 0.08115290970957667, 0.022132611738975454, 0.17706089391180363, 0.15861705079599075, 0.5164276072427606, 0.33548265851889697, 0.12791784821224128, 0.05068443042371825, 0.24376797489502586, 0.2292867090596778, 0.00965417722356538, 0.02573868425845741, 0.26382151364918843, 0.09008539490460094, 0.5855550668799061, 0.032173355323071764, 0.16036269499389327, 0.16838082974358795, 0.5412240956043898, 0.04810880849816798, 0.0881994822466413, 0.09234982323676323, 0.03591382014763014, 0.6054043967743367, 0.1180025519136419, 0.020522182941502938, 0.12826364338439336, 0.055040046097688956, 0.15136012676864463, 0.7430406223188009, 0.04128003457326672, 0.8478842180906261, 0.9325453325335845, 0.26266179565000636, 0.028550195179348516, 0.14084762955145266, 0.3445056884974721, 0.13704093686087288, 0.08755393188333545, 0.2718527334962663, 0.1475169871685166, 0.04636248168153379, 0.43201403385065573, 0.09272496336306758, 0.010536927654894043, 0.8981286673325889, 0.9891993380256603, 0.0029412328131847654, 0.0029412328131847654, 0.42059629228542145, 0.1441204078460535, 0.17941520160427069, 0.2529460219338898, 0.0904354850002034, 0.002289505949372238, 0.001144752974686119, 0.4968227910137757, 0.09501449689894788, 0.3136623150639966, 0.8224674544665839, 0.137077909077764, 0.9031586143555853, 0.9817467785066465, 0.8840518578625449, 0.9006366546976924, 0.06433118962126375, 0.9031629291104352, 0.9224997571126333, 0.9830174439159225, 0.897960731419133, 0.9884290208580562, 0.2255913243308394, 0.02255913243308394, 0.02255913243308394, 0.6993331054256021, 0.05263303445005159, 0.04334485190004248, 0.1269384948501244, 0.18266759015017903, 0.24149274630023668, 0.356046997750349, 0.05271423570490288, 0.010982132438521433, 0.15265164089544792, 0.44257993727241374, 0.2635711785245144, 0.07797314031350218, 0.04705345586013279, 0.007842242643355465, 0.05489569850348826, 0.6038526835383708, 0.25879400723073037, 0.023526727930066396, 0.9043579586054511, 0.044529663388754546, 0.73473944591445, 0.21151590109658408, 0.8422960700531105, 0.9523883922073374, 0.8149609851814672, 0.1577343842286711, 0.03358955141853641, 0.7893544583356056, 0.16794775709268203, 0.05651283436380233, 0.847692515457035, 0.11302566872760467, 0.8508926614527693, 0.10636158268159616, 0.8796701973316047, 0.9332825336483658, 0.10520576325169938, 0.8767146937641614, 0.8478785228316456, 0.903154435777696, 0.5668189121057376, 0.03656896207133792, 0.3839741017490481, 0.10507205184013582, 0.07004803456009055, 0.7705283801609961, 0.15041751229327122, 0.037604378073317804, 0.7896919395396738, 0.635444941640218, 0.2341112942885014, 0.12541676479741146, 0.8135247531705913, 0.1355874588617652, 0.8823096687143449, 0.8880475094871811, 0.8880487881747151, 0.8699967013510018, 0.9616031830667546, 0.9248281216860639, 0.029090144292080653, 0.9017944730545003, 0.058180288584161306, 0.9924612055599645, 0.06681420789703488, 0.07262413901851618, 0.06681420789703488, 0.20625255481258595, 0.39798028182146866, 0.19172772700888271, 0.10642665372412186, 0.05321332686206093, 0.45497394467062097, 0.1489973152137706, 0.05321332686206093, 0.1835859776741102, 0.06429034870017171, 0.1305288897851971, 0.07727829793252963, 0.1318276847084329, 0.3682083607373471, 0.22728911156626364, 0.9825198958909557, 0.008256469713369376, 0.008256469713369376, 0.04666540369777034, 0.04666540369777034, 0.8866426702576364, 0.8423014341966268, 0.9148587744884271, 0.8979626824064639, 0.847882500638749, 0.01308069542197745, 0.451283992058222, 0.5363085123010755, 0.04100781851926618, 0.10662032815009208, 0.13942658296550503, 0.10662032815009208, 0.04100781851926618, 0.5659078955658733, 0.011968034837491788, 0.08377624386244252, 0.8736665431369006, 0.011968034837491788, 0.011968034837491788, 0.8720669199401738, 0.8720671406729907, 0.9031530282125932, 0.10254905680842318, 0.017091509468070528, 0.871666982871597, 0.8059165507806796, 0.0374844907339851, 0.1499379629359404, 0.925769879394517, 0.9093369009216318, 0.10103743343573687, 0.7314369989307264, 0.050693653391238463, 0.02896780193785055, 0.1882907125960286, 0.9006675621507002, 0.9696486769706153, 0.8569594965399951, 0.031739240612592416, 0.09521772183777724, 0.13285152096813233, 0.012597989057322892, 0.3264024437579113, 0.1397231513630357, 0.1763718468025205, 0.21187527050952135, 0.26339769367992805, 0.3064013987705285, 0.15051296781710172, 0.05913009449957568, 0.22039398858932754, 0.9762238649492644, 0.8720692837338845, 0.514084582401176, 0.11863490363104062, 0.13511197357979626, 0.17795235544656093, 0.05272662383601806, 0.036252713643524996, 0.9425705547316499, 0.06779458482444436, 0.8813296027177767, 0.882305720063538, 0.29300066955162385, 0.07813351188043303, 0.08790020086548715, 0.5469345831630312, 0.8720706278370379, 0.7022173926491412, 0.036958810139428484, 0.032852275679491984, 0.2299659297564439, 0.004106534459936498, 0.5800373778358079, 0.1373772736979545, 0.11448106141496209, 0.08395277837097219, 0.08395277837097219, 0.897958719138601, 0.8222294925521217, 0.08777332102597218, 0.00516313653093954, 0.00516313653093954, 0.03356038745110701, 0.045177444645720974, 0.07278030848811565, 0.7035429820517846, 0.2183409254643469, 0.7036621020732384, 0.13807081435479618, 0.023289053023700563, 0.13141679920516747, 0.003327007574814366, 0.23319673866320434, 0.10269214179664043, 0.08450707502015203, 0.21822080131786092, 0.21287225226595258, 0.14761995383267063, 0.9433434306215044, 0.21416068828545054, 0.21697859207868014, 0.09017292138334759, 0.23670391863128745, 0.18598165035315442, 0.05917597965782186, 0.04994313579652438, 0.07491470369478657, 0.48070268204154715, 0.19977254318609752, 0.08115759566935211, 0.11237205554217986, 0.9582164435287096, 0.8902044820774547, 0.13919564217023161, 0.016061035635026723, 0.2034397847103385, 0.5139531403208552, 0.12313460653520487, 0.0053536785450089075, 0.12433232383928484, 0.23403731546218323, 0.5631522903308784, 0.08045032719012549, 0.16328631747385675, 0.04969583575291293, 0.03194732298401545, 0.08164315873692837, 0.3194732298401545, 0.35497025537794946, 0.07948023379447647, 0.02751238862116493, 0.05502477724232986, 0.07642330172545814, 0.48299526690489547, 0.27818081828066765, 0.11172069036248981, 0.040019351771638144, 0.0033349459809698455, 0.15507498811509782, 0.301812611277771, 0.38685373379250204, 0.12877785850420911, 0.06239751906904977, 0.04381102402720516, 0.12081221777198999, 0.0398282036610956, 0.6053886956486532, 0.10696221695093436, 0.8824382898452086, 0.953535800490615, 0.8902027359613728, 0.8547379513947412, 0.12821069270921118, 0.08461722536462195, 0.7897607700698048, 0.11282296715282926, 0.014102870894103657, 0.9236161812510354, 0.9301543340487064, 0.06621815708763383, 0.9270541992268736, 0.1564794635791434, 0.8606370496852889, 0.9321834445351241, 0.10546069470284143, 0.6327641682170486, 0.18215938175945337, 0.08628602293868844, 0.7637662686647024, 0.14601413959766368, 0.0898548551370238, 0.8661586569224885, 0.039111317563949116, 0.8213376688429315, 0.07822263512789823, 0.039111317563949116, 0.937781521510725, 0.9739280328911312, 0.9153292369285808, 0.0398363657117216, 0.24300183084150173, 0.4939709348253478, 0.05577091199641023, 0.059754548567582395, 0.10755818742164831, 0.1344597125530306, 0.05315849100933768, 0.03126970059372804, 0.1375866826124034, 0.45653762866842945, 0.18605471853268188, 0.5832854455320323, 0.27081109971130074, 0.025460872622429985, 0.053236370028717235, 0.009258499135429085, 0.05786561959643178, 0.1196127313193861, 0.7475795707461631, 0.1196127313193861, 0.9236169483963077, 0.8423018177446895, 0.8324166671132109, 0.14689705890233135, 0.05703218421177621, 0.9125149473884193, 0.023133733966191693, 0.13880240379715017, 0.7865469548505176, 0.046267467932383385, 0.8840472159778769, 0.3021442308886619, 0.023241863914512453, 0.09296745565804981, 0.5732993098913072, 0.9124902612977569, 0.6383948628995472, 0.002464845030500182, 0.13310163164700983, 0.10598833631150782, 0.11831256146400873, 0.002464845030500182, 0.9582164356839622, 0.842300563055462, 0.9124319683759411, 0.08778719387429969, 0.12937060149896798, 0.12475022287400482, 0.07854643662437341, 0.004620378624963142, 0.5683065708704664, 0.19035017584198216, 0.005287504884499504, 0.2220752051489792, 0.05816255372949455, 0.10046259280549058, 0.4230003907599604, 0.9538225520842057, 0.9512015925397552, 0.31989731102637525, 0.07656955505172462, 0.22395838236472818, 0.29447500816335204, 0.023909070549748005, 0.06113458545631769, 0.02796976755668449, 0.004661627926114082, 0.5687186069859179, 0.19112674497067736, 0.0512779071872549, 0.1538337215617647, 0.8790142267292986, 0.10719685691820714, 0.6143319987806024, 0.02925390470383821, 0.014626952351919105, 0.21940428527878658, 0.05119433323171687, 0.06947802367161575, 0.6793937964243398, 0.015097639920540886, 0.27175751856973596, 0.015097639920540886, 0.007548819960270443, 0.007548819960270443, 0.07272907921514536, 0.07272907921514536, 0.10182071090120351, 0.6400158970932792, 0.07272907921514536, 0.029091631686058144, 0.25476792072852145, 0.07076886686903373, 0.022241643873124887, 0.3336246580968733, 0.2972292408499417, 0.020219676248295352, 0.559623409660449, 0.06732311695163297, 0.13043853909378886, 0.1809308768075136, 0.0631154221421559, 0.06347955425181949, 0.8887137595254728, 0.842294197760337, 0.15469402460418333, 0.055247865930065476, 0.06629743911607858, 0.1906051374587259, 0.5331419062251318, 0.002762393296503274, 0.0984303738906316, 0.09464459027945346, 0.007571567222356277, 0.4694371677860892, 0.12493085916887857, 0.20443231500361947, 0.0025526328392557686, 0.053605289624371145, 0.07657898517767306, 0.056157922463626914, 0.617737147099896, 0.19400009578343844, 0.9235795470597158, 0.11877545642748517, 0.006598636468193621, 0.521292280987296, 0.13197272936387242, 0.2309522763867767, 0.014805561056567726, 0.20727785479194819, 0.14236116400545892, 0.07630558390692598, 0.3485001294853634, 0.21069452272807918, 0.9301543273175186, 0.039509523708559216, 0.9482285690054213, 0.06199772480637896, 0.4738397538773249, 0.053140906976896246, 0.18599317441913688, 0.22584885465180907, 0.9091245683712522, 0.017605260454321883, 0.028168416726915012, 0.757026199535841, 0.19365786499754073, 0.9854697918526056, 0.039879705288618617, 0.11238826035883427, 0.16676967666149603, 0.1740205321685176, 0.15226796564745287, 0.3552919198440567, 0.9377814448986561, 0.9763375001825996, 0.02712048611618332, 0.06624189574924738, 0.9273865404894635, 0.1028871687508177, 0.8230973500065416, 0.02530645053322349, 0.005061290106644698, 0.05567419117309168, 0.07338870654634812, 0.4023725634782535, 0.4378015942247664, 0.10776764215870314, 0.09579345969662502, 0.6226574880280626, 0.1676385544690938, 0.05983183815467003, 0.8974775723200504, 0.8720688056428219, 0.8422980821484696, 0.747100132462153, 0.18677503311553825, 0.9444204073175863, 0.04292820033261756, 0.9509219065868896, 0.5878682181258649, 0.39720825549044925, 0.007944165109808986, 0.39886496671966754, 0.08547106429707162, 0.05341941518566976, 0.2599744872369262, 0.035612943457113175, 0.16738083424843192, 0.9880329370799903, 0.9239830162496856, 0.8699967006506413, 0.9093454858429029, 0.05349091093193547, 0.8720742156004284, 0.47485625736014186, 0.2754891264074105, 0.2138665586583845, 0.028998855411306375, 0.16031353217127886, 0.053437844057092954, 0.7748487388278478, 0.8631136242459899, 0.099590033566845, 0.9837059155476185, 0.8097876911695528, 0.13496461519492547, 0.03374115379873137, 0.9072548982374575, 0.07356120796519926, 0.9947130478890296, 0.22115906176825065, 0.09631120431843174, 0.05350622462135096, 0.34600691921806953, 0.060640387904197755, 0.22472614340967403, 0.9153333592749142, 0.9224997661350763, 0.15653949628999253, 0.01783361350139155, 0.03368571439151738, 0.12087226928720941, 0.32893109347011085, 0.3447831943602367, 0.5682503153087003, 0.398513208138569, 0.022139622674364947, 0.8436736351921242, 0.14764288615862176, 0.16188167961260977, 0.018823451117745322, 0.007529380447098129, 0.1581169893890607, 0.45552751704943684, 0.19952858184810043, 0.02164943975639953, 0.04871123945189894, 0.07577303914739834, 0.8551528703777813, 0.013566185673440917, 0.027132371346881835, 0.9496329971408641, 0.1337725349977114, 0.05350901399908456, 0.02675450699954228, 0.7758807029867262, 0.2050065474607844, 0.06008812597988508, 0.08129569985513864, 0.06008812597988508, 0.2615600777947939, 0.33225199071230577, 0.022341699237116718, 0.007447233079038906, 0.07447233079038906, 0.5659897140069569, 0.32767825547771184, 0.8013018376708659, 0.1912197567169112, 0.28139454761677757, 0.4596110944407367, 0.009379818253892586, 0.009379818253892586, 0.14069727380838878, 0.10317800079281844, 0.02333678382332073, 0.7234402985229427, 0.14002070293992439, 0.11668391911660365, 0.044035943775679466, 0.5174223393642338, 0.20917073293447747, 0.20917073293447747, 0.022017971887839733, 0.7986030953509049, 0.07098694180896933, 0.03549347090448467, 0.07098694180896933, 0.9268930907600357, 0.009816075123069581, 0.34356262930743536, 0.6478609581225924, 0.8981323608580454, 0.021817526077152535, 0.021817526077152535, 0.8072484648546437, 0.1309051564629152, 0.11738027467165643, 0.0027947684445632486, 0.05030583200213847, 0.33816698179215304, 0.19283902267486414, 0.3018349920128308, 0.41186941541214805, 0.040451460442264546, 0.2758054121063492, 0.09193513736878306, 0.11032216484253966, 0.06987070440027512, 0.9437235275104949, 0.04389411755862767, 0.898122831348396, 0.2269012660973375, 0.02160964439022262, 0.005402411097555655, 0.7455327314626803, 0.005402411097555655, 0.9153345986090248, 0.9155948725941598, 0.847880242932207, 0.9020849330389848, 0.9144065856958591, 0.9751718805264626, 0.21768369073244442, 0.03424237831746317, 0.12718597660772035, 0.2959519840295031, 0.3253025940159001, 0.39607190202706866, 0.10872562016429335, 0.050479752219136205, 0.13202396734235622, 0.21356818246557624, 0.09707644657526193, 0.1957880804747976, 0.14632582856537504, 0.1669351001943011, 0.3668450349948839, 0.08243708651570425, 0.04327947042074473, 0.06350004428163189, 0.4050273094720304, 0.0034324348260341563, 0.39644622240694505, 0.132148740802315, 0.9225067338253384, 0.05505690550228709, 0.7830315449214165, 0.08564407522577992, 0.012234867889397132, 0.06729177339168423, 0.9225018531406115, 0.8276645726959206, 0.07524223388144732, 0.07524223388144732, 0.22703070088897817, 0.4231026698385502, 0.2167111235758428, 0.06191746387881222, 0.0722370411919476, 0.9148829049809535, 0.07378087943394786, 0.007378087943394786, 0.8785514549275797, 0.11495065765407585, 0.22107301103553817, 0.7516482375208298, 0.07596258252789403, 0.05064172168526269, 0.8609092686494657, 0.9722451714345159, 0.897959248074373, 0.013478826098030125, 0.5661106961172653, 0.38414654379385854, 0.03369706524507531, 0.8823079498028359, 0.9224997667635008, 0.09993965113310942, 0.010163354352519601, 0.0728373728597238, 0.8181500253778279, 0.09283865417099864, 0.013810708884941946, 0.05984640516808176, 0.4741676717163401, 0.14501244329189042, 0.21483324932131914, 0.0695328836826766, 0.05214966276200745, 0.05214966276200745, 0.7996281623507808, 0.8478828813475612, 0.09904567068460098, 0.08861981061253771, 0.2606465018015815, 0.19287841133317032, 0.22154952653134427, 0.13553618093682238, 0.9477549679937507, 0.9478547788933964, 0.016380720560557137, 0.950081792512314, 0.016380720560557137, 0.9481565893056203, 0.8710754536003052, 0.03484301814401221, 0.06968603628802442, 0.017421509072006104, 0.15747965747946094, 0.006056909903056191, 0.09085364854584285, 0.7449999180759114, 0.5589722614721532, 0.06097879216059853, 0.21342577256209486, 0.16261011242826276, 0.056476813719659, 0.056476813719659, 0.7906753920752261, 0.18465192644757142, 0.09232596322378571, 0.030775321074595234, 0.053856811880541665, 0.6462817425665, 0.8806415848114659, 0.11008019810143324, 0.06878794369488307, 0.01025785125274572, 0.23412036976854939, 0.11343976679507033, 0.3783336903218569, 0.1942957707873013, 0.878242119341349, 0.0878242119341349, 0.8902038568794112, 0.054041827416232445, 0.09347775553078044, 0.3885169214248062, 0.18549492113139246, 0.10370188504195955, 0.17234961175987645, 0.013387722969011728, 0.08478891213707428, 0.687236445742602, 0.10263920942908991, 0.044625743230039094, 0.07140118916806254, 0.007980211367946029, 0.37107982860949035, 0.4907829991286808, 0.003990105683973014, 0.023940634103838086, 0.10374274778329838, 0.09215269161033489, 0.08663928271057125, 0.18273012353502302, 0.13783522249409064, 0.30717563870111625, 0.19296931149172689, 0.8078686492046441, 0.14688520894629892, 0.9144085996398512, 0.8890819253449076, 0.09395611508367582, 0.4071431653625952, 0.08351654674104517, 0.177472661824721, 0.22967050353787422, 0.9686888820848801, 0.023626558099631222, 0.9377822635517639], \"Term\": [\"10\", \"10\", \"10\", \"10\", \"10\", \"10\", \"12\", \"12\", \"12\", \"12\", \"12\", \"15w\", \"15w\", \"1a\", \"2022\", \"24\", \"5g\", \"5v\", \"60\", \"60\", \"absolutely\", \"absolutely\", \"absolutely\", \"absolutely\", \"absolutely\", \"absolutely\", \"ac\", \"ac\", \"ac\", \"accent\", \"accept\", \"adapter\", \"adapter\", \"adapter\", \"adapter\", \"adaptor\", \"ago\", \"ago\", \"ago\", \"alignment\", \"aluminum\", \"aluminum\", \"aluminum\", \"amazing\", \"amazing\", \"amazing\", \"amazing\", \"angle\", \"angle\", \"appear\", \"apple\", \"apple\", \"apple\", \"apple\", \"apple\", \"appreciate\", \"appreciate\", \"appreciate\", \"aren\", \"aren\", \"assumed\", \"automatically\", \"average\", \"awesome\", \"awesome\", \"awesome\", \"bed\", \"bed\", \"bed\", \"bed\", \"bed\", \"bed\", \"bien\", \"bit\", \"bit\", \"bit\", \"bit\", \"bit\", \"blink\", \"blink\", \"blue\", \"blue\", \"body\", \"bonus\", \"bonus\", \"boom\", \"bothered\", \"bothersome\", \"bought\", \"bought\", \"bought\", \"bought\", \"bought\", \"brick\", \"brick\", \"brick\", \"brick\", \"bright\", \"bright\", \"bright\", \"buds\", \"build\", \"build\", \"build\", \"built\", \"built\", \"built\", \"bulky\", \"bulky\", \"burned\", \"cable\", \"cable\", \"cable\", \"cable\", \"cable\", \"calls\", \"carga\", \"cargador\", \"cargar\", \"carrying\", \"case\", \"case\", \"case\", \"case\", \"case\", \"case\", \"certain\", \"certain\", \"certain\", \"certain\", \"change\", \"change\", \"change\", \"change\", \"change\", \"changer\", \"changes\", \"changes\", \"changes\", \"changes\", \"charge\", \"charge\", \"charge\", \"charge\", \"charge\", \"charge\", \"charged\", \"charged\", \"charged\", \"charged\", \"charged\", \"charged\", \"charger\", \"charger\", \"charger\", \"charger\", \"charger\", \"charger\", \"chargers\", \"chargers\", \"chargers\", \"chargers\", \"chargers\", \"chargers\", \"charges\", \"charges\", \"charges\", \"charges\", \"charges\", \"charges\", \"charging\", \"charging\", \"charging\", \"charging\", \"charging\", \"charging\", \"checked\", \"close\", \"close\", \"coffee\", \"color\", \"color\", \"color\", \"color\", \"color\", \"color\", \"come\", \"come\", \"come\", \"come\", \"come\", \"comes\", \"comes\", \"comes\", \"comes\", \"comes\", \"comes\", \"company\", \"company\", \"company\", \"con\", \"con\", \"con\", \"consistently\", \"constant\", \"constant\", \"constructed\", \"construction\", \"contacted\", \"convenient\", \"convenient\", \"convenient\", \"convenient\", \"convenient\", \"convenient\", \"cord\", \"cord\", \"cord\", \"cord\", \"cord\", \"cord\", \"correctly\", \"correctly\", \"correctly\", \"correctly\", \"cracked\", \"customer\", \"dad\", \"damage\", \"damage\", \"dark\", \"dark\", \"dark\", \"daylight\", \"de\", \"decided\", \"decided\", \"decided\", \"decided\", \"decor\", \"definitely\", \"definitely\", \"definitely\", \"definitely\", \"definitely\", \"del\", \"description\", \"description\", \"description\", \"design\", \"design\", \"design\", \"design\", \"design\", \"design\", \"desk\", \"desk\", \"desk\", \"desk\", \"desk\", \"desk\", \"device\", \"device\", \"device\", \"device\", \"device\", \"device\", \"devices\", \"devices\", \"devices\", \"devices\", \"devices\", \"didn\", \"didn\", \"didn\", \"didn\", \"didn\", \"different\", \"different\", \"different\", \"different\", \"different\", \"different\", \"disappointed\", \"disappointed\", \"disappointed\", \"disappointed\", \"disconnecting\", \"dislike\", \"doesn\", \"doesn\", \"doesn\", \"doesn\", \"doesn\", \"doesn\", \"don\", \"don\", \"don\", \"don\", \"don\", \"don\", \"durability\", \"ear\", \"earbuds\", \"earbuds\", \"earbuds\", \"earbuds\", \"earbuds\", \"earbuds\", \"easy\", \"easy\", \"easy\", \"easy\", \"easy\", \"easy\", \"edit\", \"edit\", \"effectively\", \"el\", \"electricity\", \"email\", \"email\", \"emailed\", \"en\", \"ended\", \"entirely\", \"es\", \"family\", \"family\", \"family\", \"family\", \"far\", \"far\", \"far\", \"far\", \"far\", \"far\", \"fast\", \"fast\", \"fast\", \"fast\", \"fast\", \"fast\", \"faster\", \"faster\", \"faster\", \"faster\", \"faster\", \"faster\", \"fe\", \"feels\", \"feels\", \"feels\", \"fiddle\", \"figure\", \"finish\", \"finish\", \"fit\", \"fit\", \"fit\", \"fix\", \"fix\", \"fix\", \"flashing\", \"flashing\", \"flawless\", \"foot\", \"forever\", \"forever\", \"forgiving\", \"forgot\", \"free\", \"free\", \"free\", \"friend\", \"friend\", \"friend\", \"friends\", \"friends\", \"friends\", \"fully\", \"fully\", \"fully\", \"fumble\", \"fumble\", \"fumbling\", \"funciona\", \"furniture\", \"f\\u00e1cil\", \"game\", \"general\", \"gets\", \"gets\", \"gets\", \"gold\", \"good\", \"good\", \"good\", \"good\", \"good\", \"good\", \"got\", \"got\", \"got\", \"got\", \"got\", \"got\", \"great\", \"great\", \"great\", \"great\", \"great\", \"great\", \"green\", \"green\", \"green\", \"grips\", \"grips\", \"grips\", \"guide\", \"habit\", \"happening\", \"held\", \"highly\", \"highly\", \"highly\", \"home\", \"home\", \"home\", \"home\", \"home\", \"home\", \"hot\", \"hot\", \"hot\", \"hot\", \"hot\", \"hunt\", \"ideal\", \"idk\", \"included\", \"included\", \"included\", \"indicate\", \"indicate\", \"indicate\", \"indicated\", \"indication\", \"indication\", \"indicator\", \"indicator\", \"indicator\", \"indicator\", \"initial\", \"initially\", \"instructions\", \"instructions\", \"instructions\", \"iphone\", \"iphone\", \"iphone\", \"iphone\", \"iphone\", \"iphone\", \"issue\", \"issue\", \"issue\", \"issue\", \"issue\", \"kinda\", \"kindle\", \"know\", \"know\", \"know\", \"know\", \"know\", \"la\", \"la\", \"lasted\", \"lasted\", \"latest\", \"lay\", \"lay\", \"lay\", \"lay\", \"leaves\", \"led\", \"led\", \"led\", \"led\", \"led\", \"let\", \"let\", \"let\", \"let\", \"let\", \"license\", \"light\", \"light\", \"light\", \"light\", \"light\", \"light\", \"lightning\", \"lightning\", \"lightning\", \"lights\", \"lights\", \"lights\", \"lights\", \"lights\", \"like\", \"like\", \"like\", \"like\", \"like\", \"like\", \"lined\", \"little\", \"little\", \"little\", \"little\", \"little\", \"little\", \"ll\", \"ll\", \"ll\", \"ll\", \"ll\", \"ll\", \"lo\", \"locate\", \"long\", \"long\", \"long\", \"long\", \"long\", \"long\", \"longer\", \"longer\", \"longer\", \"longer\", \"look\", \"look\", \"look\", \"look\", \"look\", \"look\", \"looking\", \"looking\", \"looking\", \"looking\", \"looking\", \"looking\", \"looks\", \"looks\", \"looks\", \"looks\", \"looks\", \"looks\", \"love\", \"love\", \"love\", \"love\", \"love\", \"love\", \"loves\", \"loves\", \"lying\", \"magnetically\", \"materials\", \"materials\", \"maybe\", \"maybe\", \"maybe\", \"maybe\", \"mentioned\", \"mi\", \"micro\", \"micro\", \"mins\", \"mins\", \"miss\", \"months\", \"months\", \"months\", \"months\", \"morning\", \"morning\", \"morning\", \"mornings\", \"mount\", \"mount\", \"mount\", \"mount\", \"music\", \"muy\", \"neon\", \"new\", \"new\", \"new\", \"new\", \"new\", \"new\", \"nice\", \"nice\", \"nice\", \"nice\", \"nice\", \"nice\", \"night\", \"night\", \"night\", \"night\", \"night\", \"night\", \"normal\", \"normal\", \"normal\", \"number\", \"occasion\", \"offered\", \"offered\", \"older\", \"older\", \"otter\", \"otter\", \"otter\", \"otter\", \"overcharge\", \"overnight\", \"overnight\", \"overnight\", \"overnight\", \"packs\", \"pad\", \"pad\", \"pad\", \"pad\", \"pad\", \"pad\", \"para\", \"pc\", \"pd\", \"perfect\", \"perfect\", \"perfect\", \"perfect\", \"perfect\", \"perfect\", \"perfectly\", \"perfectly\", \"perfectly\", \"perfectly\", \"perfectly\", \"perfectly\", \"performance\", \"pero\", \"phone\", \"phone\", \"phone\", \"phone\", \"phone\", \"phone\", \"phones\", \"phones\", \"phones\", \"phones\", \"phones\", \"phones\", \"pink\", \"pink\", \"place\", \"place\", \"place\", \"place\", \"place\", \"place\", \"placed\", \"placed\", \"placed\", \"placed\", \"placed\", \"placed\", \"plate\", \"plate\", \"plate\", \"plate\", \"plate\", \"plate\", \"plug\", \"plug\", \"plug\", \"plug\", \"plug\", \"plug\", \"plugged\", \"plugged\", \"plugged\", \"plugged\", \"plugged\", \"pods\", \"pods\", \"points\", \"power\", \"power\", \"power\", \"power\", \"power\", \"power\", \"pretty\", \"pretty\", \"pretty\", \"pretty\", \"pretty\", \"pretty\", \"price\", \"price\", \"price\", \"price\", \"price\", \"price\", \"print\", \"pro\", \"pro\", \"pro\", \"pro\", \"pro\", \"product\", \"product\", \"product\", \"product\", \"product\", \"product\", \"producto\", \"provide\", \"provide\", \"purchased\", \"purchased\", \"purchased\", \"purchased\", \"purchased\", \"purple\", \"quality\", \"quality\", \"quality\", \"quality\", \"que\", \"quickly\", \"quickly\", \"quickly\", \"quickly\", \"quickly\", \"quickly\", \"quit\", \"reached\", \"reached\", \"reasonable\", \"reasonable\", \"receive\", \"receive\", \"recommend\", \"recommend\", \"recommend\", \"recommend\", \"recommend\", \"recommend\", \"regular\", \"regular\", \"regular\", \"regular\", \"relatively\", \"relatively\", \"rely\", \"remains\", \"replaced\", \"replaced\", \"replacement\", \"replacement\", \"response\", \"review\", \"review\", \"review\", \"right\", \"right\", \"right\", \"right\", \"right\", \"right\", \"rose\", \"rubberized\", \"r\\u00e1pida\", \"s22\", \"s22\", \"sad\", \"samsung\", \"samsung\", \"samsung\", \"samsung\", \"se\", \"se\", \"se\", \"send\", \"send\", \"sending\", \"sensitive\", \"sensitive\", \"sensitive\", \"sent\", \"sent\", \"service\", \"set\", \"set\", \"set\", \"set\", \"set\", \"set\", \"shipped\", \"si\", \"sleek\", \"sleek\", \"sleek\", \"sleek\", \"sleek\", \"sleek\", \"sleep\", \"sleep\", \"sleep\", \"sleeping\", \"sleeping\", \"slim\", \"slim\", \"slim\", \"slim\", \"slim\", \"slim\", \"slow\", \"slow\", \"slow\", \"slow\", \"slower\", \"slower\", \"slower\", \"slowly\", \"slowly\", \"slowly\", \"slowly\", \"small\", \"small\", \"small\", \"small\", \"small\", \"small\", \"speed\", \"speed\", \"speed\", \"speed\", \"speed\", \"spot\", \"spot\", \"stand\", \"stand\", \"stand\", \"stand\", \"stand\", \"stand\", \"star\", \"star\", \"star\", \"star\", \"stars\", \"stars\", \"stars\", \"stars\", \"stars\", \"stays\", \"stays\", \"stays\", \"stays\", \"sticker\", \"stopped\", \"stopped\", \"stopped\", \"strength\", \"sturdy\", \"sturdy\", \"sturdy\", \"sturdy\", \"super\", \"super\", \"super\", \"super\", \"super\", \"super\", \"sure\", \"sure\", \"sure\", \"sure\", \"sure\", \"sure\", \"sweet\", \"sweet\", \"switches\", \"takes\", \"takes\", \"takes\", \"takes\", \"takes\", \"team\", \"tear\", \"technically\", \"tel\\u00e9fono\", \"term\", \"test\", \"thin\", \"thin\", \"thin\", \"thin\", \"thin\", \"thing\", \"thing\", \"thing\", \"thing\", \"thing\", \"thing\", \"time\", \"time\", \"time\", \"time\", \"time\", \"time\", \"tozo\", \"tozo\", \"tozo\", \"tozo\", \"tozo\", \"transport\", \"tried\", \"tried\", \"tried\", \"tried\", \"tried\", \"trim\", \"trouble\", \"trouble\", \"trouble\", \"trying\", \"trying\", \"trying\", \"trying\", \"trying\", \"turn\", \"turn\", \"turn\", \"turns\", \"turns\", \"twice\", \"twice\", \"type\", \"type\", \"type\", \"un\", \"uncharged\", \"update\", \"update\", \"update\", \"update\", \"ur\", \"usar\", \"usb\", \"usb\", \"usb\", \"usb\", \"use\", \"use\", \"use\", \"use\", \"use\", \"use\", \"value\", \"value\", \"value\", \"value\", \"vary\", \"ve\", \"ve\", \"ve\", \"ve\", \"ve\", \"ve\", \"visible\", \"vs\", \"w1\", \"w1\", \"w1\", \"w6\", \"wake\", \"wake\", \"wake\", \"wake\", \"wall\", \"wall\", \"wall\", \"wall\", \"warranty\", \"warranty\", \"warranty\", \"warranty\", \"wear\", \"wear\", \"wear\", \"white\", \"white\", \"white\", \"white\", \"white\", \"wired\", \"wired\", \"wireless\", \"wireless\", \"wireless\", \"wireless\", \"wireless\", \"wireless\", \"woke\", \"woke\", \"wood\", \"work\", \"work\", \"work\", \"work\", \"work\", \"work\", \"worked\", \"worked\", \"worked\", \"worked\", \"worked\", \"worked\", \"working\", \"working\", \"working\", \"working\", \"working\", \"working\", \"works\", \"works\", \"works\", \"works\", \"works\", \"works\", \"write\", \"write\", \"writing\", \"xl\", \"year\", \"year\", \"year\", \"year\", \"year\", \"years\", \"years\", \"yootech\"]}, \"R\": 30, \"lambda.step\": 0.01, \"plot.opts\": {\"xlab\": \"PC1\", \"ylab\": \"PC2\"}, \"topic.order\": [1, 2, 3, 4, 5, 6]};\n",
       "\n",
       "function LDAvis_load_lib(url, callback){\n",
       "  var s = document.createElement('script');\n",
       "  s.src = url;\n",
       "  s.async = true;\n",
       "  s.onreadystatechange = s.onload = callback;\n",
       "  s.onerror = function(){console.warn(\"failed to load library \" + url);};\n",
       "  document.getElementsByTagName(\"head\")[0].appendChild(s);\n",
       "}\n",
       "\n",
       "if(typeof(LDAvis) !== \"undefined\"){\n",
       "   // already loaded: just create the visualization\n",
       "   !function(LDAvis){\n",
       "       new LDAvis(\"#\" + \"ldavis_el204321785877135024729189173\", ldavis_el204321785877135024729189173_data);\n",
       "   }(LDAvis);\n",
       "}else if(typeof define === \"function\" && define.amd){\n",
       "   // require.js is available: use it to load d3/LDAvis\n",
       "   require.config({paths: {d3: \"https://d3js.org/d3.v5\"}});\n",
       "   require([\"d3\"], function(d3){\n",
       "      window.d3 = d3;\n",
       "      LDAvis_load_lib(\"https://cdn.jsdelivr.net/gh/bmabey/pyLDAvis@3.4.0/pyLDAvis/js/ldavis.v3.0.0.js\", function(){\n",
       "        new LDAvis(\"#\" + \"ldavis_el204321785877135024729189173\", ldavis_el204321785877135024729189173_data);\n",
       "      });\n",
       "    });\n",
       "}else{\n",
       "    // require.js not available: dynamically load d3 & LDAvis\n",
       "    LDAvis_load_lib(\"https://d3js.org/d3.v5.js\", function(){\n",
       "         LDAvis_load_lib(\"https://cdn.jsdelivr.net/gh/bmabey/pyLDAvis@3.4.0/pyLDAvis/js/ldavis.v3.0.0.js\", function(){\n",
       "                 new LDAvis(\"#\" + \"ldavis_el204321785877135024729189173\", ldavis_el204321785877135024729189173_data);\n",
       "            })\n",
       "         });\n",
       "}\n",
       "</script>"
      ],
      "text/plain": [
       "<IPython.core.display.HTML object>"
      ]
     },
     "execution_count": 32,
     "metadata": {},
     "output_type": "execute_result"
    }
   ],
   "source": [
    "pyLDAvis.display(lda_display)"
   ]
  },
  {
   "cell_type": "markdown",
   "id": "e6058f41",
   "metadata": {},
   "source": [
    "## Results"
   ]
  },
  {
   "cell_type": "markdown",
   "id": "64056ff8",
   "metadata": {},
   "source": [
    "Based on the review texts and classification of star rating, logistic regression had slightly better performance than support vector machines.\n",
    "Topic modeling turned out to be useful for this project - we can see that words like 'great' are repeated in multiple topics, and there are mentions of customer service and 'love'. Customers liked the 'sleek' look and left reviews for their respective Samsung or iPhone devices as the product works for both brand phones. General sentiment for the product were 'great', 'nice' and customers would 'recommend' this product. While there are more mentions of charger being 'fast' there is also a mention of 'slow'."
   ]
  },
  {
   "cell_type": "markdown",
   "id": "2bf3c4aa",
   "metadata": {},
   "source": [
    "## Next Steps"
   ]
  },
  {
   "cell_type": "markdown",
   "id": "e012d954",
   "metadata": {},
   "source": [
    "An obvious enhancement to classification models would be tuning hyperparameters and exploring other models that might yield better results.\n",
    "\n",
    "We explored LDA option, which gave us some findings about customer sentiments but also explroing NMF and SVD might help further the research. \n",
    "\n",
    "This product is a popular product on Amazon with generally high star reviews so as we gather more reviews and re-scrape the data, the model performance may improve."
   ]
  }
 ],
 "metadata": {
  "kernelspec": {
   "display_name": "Python 3 (ipykernel)",
   "language": "python",
   "name": "python3"
  },
  "language_info": {
   "codemirror_mode": {
    "name": "ipython",
    "version": 3
   },
   "file_extension": ".py",
   "mimetype": "text/x-python",
   "name": "python",
   "nbconvert_exporter": "python",
   "pygments_lexer": "ipython3",
   "version": "3.9.5"
  }
 },
 "nbformat": 4,
 "nbformat_minor": 5
}
