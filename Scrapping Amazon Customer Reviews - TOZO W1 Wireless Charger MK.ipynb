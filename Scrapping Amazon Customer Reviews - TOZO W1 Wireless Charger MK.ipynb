{
 "cells": [
  {
   "cell_type": "markdown",
   "id": "205e4289",
   "metadata": {},
   "source": [
    "# Team 6 - Web Scraping Amazon Reviews on TOZO W1 Wireless Charger\n",
    "\n",
    "Team 6: Lai Leng Chan, Minsu Kim, Christopher Garcia\n",
    "\n",
    "Objective:"
   ]
  },
  {
   "cell_type": "markdown",
   "id": "d6f5623f",
   "metadata": {},
   "source": [
    "## API Scraping & Data Ingestion"
   ]
  },
  {
   "cell_type": "code",
   "execution_count": 1,
   "id": "4651f31d",
   "metadata": {},
   "outputs": [],
   "source": [
    "# Importing necessary libraries\n",
    "import os\n",
    "import pandas as pd\n",
    "import datetime\n",
    "import re\n",
    "import requests\n",
    "import time\n",
    "import emoji\n",
    "\n",
    "from bs4 import BeautifulSoup\n",
    "from collections import defaultdict, Counter\n",
    "import random\n",
    "from urllib.parse import urlencode\n",
    "\n",
    "from collections import Counter, defaultdict\n",
    "from nltk.corpus import stopwords\n",
    "from nltk.tokenize import word_tokenize\n",
    "from string import punctuation\n",
    "from wordcloud import WordCloud \n",
    "\n",
    "from sklearn.feature_extraction.text import TfidfTransformer, CountVectorizer"
   ]
  },
  {
   "cell_type": "code",
   "execution_count": 36,
   "id": "447ee001",
   "metadata": {},
   "outputs": [],
   "source": [
    "from matplotlib import pyplot as plt\n",
    "import numpy as np\n",
    "import seaborn as sns\n",
    "from sklearn.model_selection import train_test_split\n",
    "from sklearn.linear_model import LogisticRegression\n",
    "from sklearn.pipeline import Pipeline\n",
    "from sklearn import preprocessing\n",
    "from sklearn.metrics import classification_report, roc_auc_score, roc_curve"
   ]
  },
  {
   "cell_type": "code",
   "execution_count": null,
   "id": "d766a0b6",
   "metadata": {},
   "outputs": [],
   "source": [
    "# After inspecting the HTML of the review page, we can see that the HTML line which we are trying \n",
    "# to scrape and extract follows the below format:\n",
    "# <span class=\"a-profile-name\">Nick</span>\n",
    "# where span is the tag for the HTML line and the class is \"a-profile-name\"\n",
    "\n",
    "# Define the list of URL that will be scraped\n",
    "\n",
    "# Define the base URL\n",
    "base_url = 'https://www.amazon.com/TOZO-Wireless-Upgraded-Sleep-Friendly-FastCharging/product-reviews/B07FM8R7J1/ref=cm_cr_getr_d_paging_btm_next_{}?ie=UTF8&reviewerType=all_reviews&pageNumber={}'\n",
    "\n",
    "# Set the desired maximum number of pages\n",
    "max_pages = 500  \n",
    "\n",
    "# Generate the list of URLs\n",
    "list_of_urls = [base_url.format(page_number, page_number) for page_number in range(1, max_pages + 1)]"
   ]
  },
  {
   "cell_type": "code",
   "execution_count": null,
   "id": "f4c14d06",
   "metadata": {},
   "outputs": [],
   "source": [
    "# Retrieve each of the url's HTML data and convert the data into a beautiful soup object\n",
    "# Find, extract and store reviewer names and review text into a list\n",
    "\n",
    "# We will extract the data from the webpage via ScrapeAPI\n",
    "\n",
    "reviews = []\n",
    "star_ratings = []\n",
    "data_string = \"\"\n",
    "\n",
    "for url in list_of_urls: \n",
    "    params = {'api_key': \"1327eb1bf20892837140fb2ade3f0714\", 'url': url}\n",
    "    response = requests.get('http://api.scraperapi.com/',   params=urlencode(params))\n",
    "    soup = BeautifulSoup(response.text, 'html.parser')\n",
    "\n",
    "    for item in soup.find_all(\"span\", {\"data-hook\": \"review-body\"}):\n",
    "      data_string = data_string + item.get_text()\n",
    "      reviews.append(data_string)\n",
    "      data_string = \"\"\n",
    "    \n",
    "    for item in soup.find_all(\"i\", {\"data-hook\": \"review-star-rating\"}):\n",
    "      star_ratings.append(item.get_text())"
   ]
  },
  {
   "cell_type": "code",
   "execution_count": null,
   "id": "567d8bae",
   "metadata": {},
   "outputs": [],
   "source": [
    "# Let's set up a dictionary to hold our customer names and reviews\n",
    "reviews_dict = {'Reviews': reviews, 'Star Ratings': star_ratings}\n",
    "\n",
    "# Print the lengths of each list.  \n",
    "print(len(star_ratings), len(reviews))"
   ]
  },
  {
   "cell_type": "code",
   "execution_count": null,
   "id": "f1c5f43e",
   "metadata": {},
   "outputs": [],
   "source": [
    "# Convert the dictionary to a DataFrame\n",
    "reviews_df = pd.DataFrame.from_dict(reviews_dict, orient='index')\n",
    "\n",
    "# Convert dataframe to CSV file for easier assess in the future\n",
    "reviews_df.to_csv('reviews.csv', index=False, header=True)"
   ]
  },
  {
   "cell_type": "code",
   "execution_count": null,
   "id": "2487684c",
   "metadata": {},
   "outputs": [],
   "source": [
    "reviews_df"
   ]
  },
  {
   "cell_type": "markdown",
   "id": "3712a055",
   "metadata": {},
   "source": [
    "## Data Proprocessing"
   ]
  },
  {
   "cell_type": "code",
   "execution_count": 3,
   "id": "17842fe8",
   "metadata": {},
   "outputs": [
    {
     "data": {
      "text/html": [
       "<div>\n",
       "<style scoped>\n",
       "    .dataframe tbody tr th:only-of-type {\n",
       "        vertical-align: middle;\n",
       "    }\n",
       "\n",
       "    .dataframe tbody tr th {\n",
       "        vertical-align: top;\n",
       "    }\n",
       "\n",
       "    .dataframe thead th {\n",
       "        text-align: right;\n",
       "    }\n",
       "</style>\n",
       "<table border=\"1\" class=\"dataframe\">\n",
       "  <thead>\n",
       "    <tr style=\"text-align: right;\">\n",
       "      <th></th>\n",
       "      <th>0</th>\n",
       "      <th>1</th>\n",
       "      <th>2</th>\n",
       "      <th>3</th>\n",
       "      <th>4</th>\n",
       "      <th>5</th>\n",
       "      <th>6</th>\n",
       "      <th>7</th>\n",
       "      <th>8</th>\n",
       "      <th>9</th>\n",
       "      <th>...</th>\n",
       "      <th>4790</th>\n",
       "      <th>4791</th>\n",
       "      <th>4792</th>\n",
       "      <th>4793</th>\n",
       "      <th>4794</th>\n",
       "      <th>4795</th>\n",
       "      <th>4796</th>\n",
       "      <th>4797</th>\n",
       "      <th>4798</th>\n",
       "      <th>4799</th>\n",
       "    </tr>\n",
       "  </thead>\n",
       "  <tbody>\n",
       "    <tr>\n",
       "      <th>0</th>\n",
       "      <td>\\nFirst, this charger looks fantastic. I got t...</td>\n",
       "      <td>\\nUPDATE:  Well...I was wrong about this wirel...</td>\n",
       "      <td>\\nThis works perfectly on the side table while...</td>\n",
       "      <td>\\nI purchased this charger for use in our camp...</td>\n",
       "      <td>\\nGot this for my Samsung Galaxy S23 phone, an...</td>\n",
       "      <td>\\nI ordered this charger after using one at my...</td>\n",
       "      <td>\\nCame here to see if there was any tips on ho...</td>\n",
       "      <td>\\nDevice must be placed carefully or it will f...</td>\n",
       "      <td>\\nCharges like advertised. I did have to take ...</td>\n",
       "      <td>\\nI wanted something to use instead of the typ...</td>\n",
       "      <td>...</td>\n",
       "      <td>\\nEven with Magsafe case on, charging is super...</td>\n",
       "      <td>\\nGreat charger! Able to charge my phone easil...</td>\n",
       "      <td>\\nBought two of these and one was giving me pr...</td>\n",
       "      <td>\\nI saw this on one of my colleagues desk at w...</td>\n",
       "      <td>\\nAn excellent product. It’s in our kitchen as...</td>\n",
       "      <td>\\nIt’s PERFECT for traveling. No more differen...</td>\n",
       "      <td>\\n\\n\\n\\n\\n                    The media could ...</td>\n",
       "      <td>\\nImpressed taking it out of the box.  All met...</td>\n",
       "      <td>\\nI love the design of this charger. Color on ...</td>\n",
       "      <td>\\nkinda finnicky cuz ur phone has to be in the...</td>\n",
       "    </tr>\n",
       "    <tr>\n",
       "      <th>1</th>\n",
       "      <td>4.0 out of 5 stars</td>\n",
       "      <td>5.0 out of 5 stars</td>\n",
       "      <td>5.0 out of 5 stars</td>\n",
       "      <td>5.0 out of 5 stars</td>\n",
       "      <td>5.0 out of 5 stars</td>\n",
       "      <td>4.0 out of 5 stars</td>\n",
       "      <td>5.0 out of 5 stars</td>\n",
       "      <td>4.0 out of 5 stars</td>\n",
       "      <td>5.0 out of 5 stars</td>\n",
       "      <td>5.0 out of 5 stars</td>\n",
       "      <td>...</td>\n",
       "      <td>5.0 out of 5 stars</td>\n",
       "      <td>5.0 out of 5 stars</td>\n",
       "      <td>5.0 out of 5 stars</td>\n",
       "      <td>5.0 out of 5 stars</td>\n",
       "      <td>5.0 out of 5 stars</td>\n",
       "      <td>5.0 out of 5 stars</td>\n",
       "      <td>5.0 out of 5 stars</td>\n",
       "      <td>5.0 out of 5 stars</td>\n",
       "      <td>3.0 out of 5 stars</td>\n",
       "      <td>4.0 out of 5 stars</td>\n",
       "    </tr>\n",
       "  </tbody>\n",
       "</table>\n",
       "<p>2 rows × 4800 columns</p>\n",
       "</div>"
      ],
      "text/plain": [
       "                                                   0  \\\n",
       "0  \\nFirst, this charger looks fantastic. I got t...   \n",
       "1                                 4.0 out of 5 stars   \n",
       "\n",
       "                                                   1  \\\n",
       "0  \\nUPDATE:  Well...I was wrong about this wirel...   \n",
       "1                                 5.0 out of 5 stars   \n",
       "\n",
       "                                                   2  \\\n",
       "0  \\nThis works perfectly on the side table while...   \n",
       "1                                 5.0 out of 5 stars   \n",
       "\n",
       "                                                   3  \\\n",
       "0  \\nI purchased this charger for use in our camp...   \n",
       "1                                 5.0 out of 5 stars   \n",
       "\n",
       "                                                   4  \\\n",
       "0  \\nGot this for my Samsung Galaxy S23 phone, an...   \n",
       "1                                 5.0 out of 5 stars   \n",
       "\n",
       "                                                   5  \\\n",
       "0  \\nI ordered this charger after using one at my...   \n",
       "1                                 4.0 out of 5 stars   \n",
       "\n",
       "                                                   6  \\\n",
       "0  \\nCame here to see if there was any tips on ho...   \n",
       "1                                 5.0 out of 5 stars   \n",
       "\n",
       "                                                   7  \\\n",
       "0  \\nDevice must be placed carefully or it will f...   \n",
       "1                                 4.0 out of 5 stars   \n",
       "\n",
       "                                                   8  \\\n",
       "0  \\nCharges like advertised. I did have to take ...   \n",
       "1                                 5.0 out of 5 stars   \n",
       "\n",
       "                                                   9  ...  \\\n",
       "0  \\nI wanted something to use instead of the typ...  ...   \n",
       "1                                 5.0 out of 5 stars  ...   \n",
       "\n",
       "                                                4790  \\\n",
       "0  \\nEven with Magsafe case on, charging is super...   \n",
       "1                                 5.0 out of 5 stars   \n",
       "\n",
       "                                                4791  \\\n",
       "0  \\nGreat charger! Able to charge my phone easil...   \n",
       "1                                 5.0 out of 5 stars   \n",
       "\n",
       "                                                4792  \\\n",
       "0  \\nBought two of these and one was giving me pr...   \n",
       "1                                 5.0 out of 5 stars   \n",
       "\n",
       "                                                4793  \\\n",
       "0  \\nI saw this on one of my colleagues desk at w...   \n",
       "1                                 5.0 out of 5 stars   \n",
       "\n",
       "                                                4794  \\\n",
       "0  \\nAn excellent product. It’s in our kitchen as...   \n",
       "1                                 5.0 out of 5 stars   \n",
       "\n",
       "                                                4795  \\\n",
       "0  \\nIt’s PERFECT for traveling. No more differen...   \n",
       "1                                 5.0 out of 5 stars   \n",
       "\n",
       "                                                4796  \\\n",
       "0  \\n\\n\\n\\n\\n                    The media could ...   \n",
       "1                                 5.0 out of 5 stars   \n",
       "\n",
       "                                                4797  \\\n",
       "0  \\nImpressed taking it out of the box.  All met...   \n",
       "1                                 5.0 out of 5 stars   \n",
       "\n",
       "                                                4798  \\\n",
       "0  \\nI love the design of this charger. Color on ...   \n",
       "1                                 3.0 out of 5 stars   \n",
       "\n",
       "                                                4799  \n",
       "0  \\nkinda finnicky cuz ur phone has to be in the...  \n",
       "1                                 4.0 out of 5 stars  \n",
       "\n",
       "[2 rows x 4800 columns]"
      ]
     },
     "execution_count": 3,
     "metadata": {},
     "output_type": "execute_result"
    }
   ],
   "source": [
    "# Reading the downloaded raw data into a dataframe\n",
    "reviews_df = pd.read_csv('reviews.csv')\n",
    "reviews_df"
   ]
  },
  {
   "cell_type": "code",
   "execution_count": 4,
   "id": "b4dea219",
   "metadata": {},
   "outputs": [
    {
     "data": {
      "text/html": [
       "<div>\n",
       "<style scoped>\n",
       "    .dataframe tbody tr th:only-of-type {\n",
       "        vertical-align: middle;\n",
       "    }\n",
       "\n",
       "    .dataframe tbody tr th {\n",
       "        vertical-align: top;\n",
       "    }\n",
       "\n",
       "    .dataframe thead th {\n",
       "        text-align: right;\n",
       "    }\n",
       "</style>\n",
       "<table border=\"1\" class=\"dataframe\">\n",
       "  <thead>\n",
       "    <tr style=\"text-align: right;\">\n",
       "      <th></th>\n",
       "      <th>Review</th>\n",
       "      <th>Star Rating</th>\n",
       "    </tr>\n",
       "  </thead>\n",
       "  <tbody>\n",
       "    <tr>\n",
       "      <th>0</th>\n",
       "      <td>\\nFirst, this charger looks fantastic. I got t...</td>\n",
       "      <td>4.0 out of 5 stars</td>\n",
       "    </tr>\n",
       "    <tr>\n",
       "      <th>1</th>\n",
       "      <td>\\nUPDATE:  Well...I was wrong about this wirel...</td>\n",
       "      <td>5.0 out of 5 stars</td>\n",
       "    </tr>\n",
       "    <tr>\n",
       "      <th>2</th>\n",
       "      <td>\\nThis works perfectly on the side table while...</td>\n",
       "      <td>5.0 out of 5 stars</td>\n",
       "    </tr>\n",
       "    <tr>\n",
       "      <th>3</th>\n",
       "      <td>\\nI purchased this charger for use in our camp...</td>\n",
       "      <td>5.0 out of 5 stars</td>\n",
       "    </tr>\n",
       "    <tr>\n",
       "      <th>4</th>\n",
       "      <td>\\nGot this for my Samsung Galaxy S23 phone, an...</td>\n",
       "      <td>5.0 out of 5 stars</td>\n",
       "    </tr>\n",
       "    <tr>\n",
       "      <th>...</th>\n",
       "      <td>...</td>\n",
       "      <td>...</td>\n",
       "    </tr>\n",
       "    <tr>\n",
       "      <th>4795</th>\n",
       "      <td>\\nIt’s PERFECT for traveling. No more differen...</td>\n",
       "      <td>5.0 out of 5 stars</td>\n",
       "    </tr>\n",
       "    <tr>\n",
       "      <th>4796</th>\n",
       "      <td>\\n\\n\\n\\n\\n                    The media could ...</td>\n",
       "      <td>5.0 out of 5 stars</td>\n",
       "    </tr>\n",
       "    <tr>\n",
       "      <th>4797</th>\n",
       "      <td>\\nImpressed taking it out of the box.  All met...</td>\n",
       "      <td>5.0 out of 5 stars</td>\n",
       "    </tr>\n",
       "    <tr>\n",
       "      <th>4798</th>\n",
       "      <td>\\nI love the design of this charger. Color on ...</td>\n",
       "      <td>3.0 out of 5 stars</td>\n",
       "    </tr>\n",
       "    <tr>\n",
       "      <th>4799</th>\n",
       "      <td>\\nkinda finnicky cuz ur phone has to be in the...</td>\n",
       "      <td>4.0 out of 5 stars</td>\n",
       "    </tr>\n",
       "  </tbody>\n",
       "</table>\n",
       "<p>4800 rows × 2 columns</p>\n",
       "</div>"
      ],
      "text/plain": [
       "                                                 Review         Star Rating\n",
       "0     \\nFirst, this charger looks fantastic. I got t...  4.0 out of 5 stars\n",
       "1     \\nUPDATE:  Well...I was wrong about this wirel...  5.0 out of 5 stars\n",
       "2     \\nThis works perfectly on the side table while...  5.0 out of 5 stars\n",
       "3     \\nI purchased this charger for use in our camp...  5.0 out of 5 stars\n",
       "4     \\nGot this for my Samsung Galaxy S23 phone, an...  5.0 out of 5 stars\n",
       "...                                                 ...                 ...\n",
       "4795  \\nIt’s PERFECT for traveling. No more differen...  5.0 out of 5 stars\n",
       "4796  \\n\\n\\n\\n\\n                    The media could ...  5.0 out of 5 stars\n",
       "4797  \\nImpressed taking it out of the box.  All met...  5.0 out of 5 stars\n",
       "4798  \\nI love the design of this charger. Color on ...  3.0 out of 5 stars\n",
       "4799  \\nkinda finnicky cuz ur phone has to be in the...  4.0 out of 5 stars\n",
       "\n",
       "[4800 rows x 2 columns]"
      ]
     },
     "execution_count": 4,
     "metadata": {},
     "output_type": "execute_result"
    }
   ],
   "source": [
    "# Transposing the dataframe for easier visualization\n",
    "reviews_df = reviews_df.transpose()\n",
    "reviews_df = reviews_df.reset_index(drop=True)\n",
    "reviews_df.columns = ['Review', 'Star Rating']\n",
    "reviews_df"
   ]
  },
  {
   "cell_type": "code",
   "execution_count": 5,
   "id": "623f7d21",
   "metadata": {},
   "outputs": [],
   "source": [
    "# Place any addtional functions or constants you need here. \n",
    "\n",
    "# Some punctuation variations\n",
    "punctuation = set(punctuation) # speeds up comparison\n",
    "tw_punct = punctuation - {\"#\"}\n",
    "\n",
    "# Stopwords\n",
    "sw = stopwords.words(\"english\")\n",
    "\n",
    "# Two useful regex\n",
    "whitespace_pattern = re.compile(r\"\\s+\")\n",
    "hashtag_pattern = re.compile(r\"^#[0-9a-zA-Z]+\")\n",
    "\n",
    "# It's handy to have a full set of emojis\n",
    "all_language_emojis = set()\n",
    "\n",
    "for country in emoji.EMOJI_DATA : \n",
    "    for em in emoji.EMOJI_DATA[country] : \n",
    "        all_language_emojis.add(em)"
   ]
  },
  {
   "cell_type": "code",
   "execution_count": 6,
   "id": "101c78a6",
   "metadata": {},
   "outputs": [],
   "source": [
    "# Descriptive Statistics Function\n",
    "\n",
    "def descriptive_stats(tokens, num_tokens = 5, verbose=True) :\n",
    "    \"\"\"\n",
    "        Given a list of tokens, print number of tokens, number of unique tokens, \n",
    "        number of characters, lexical diversity, and num_tokens most common\n",
    "        tokens. Return a list of \n",
    "    \"\"\"\n",
    "    \n",
    "    if verbose :        \n",
    "        print(f\"There are {len(tokens)} tokens in the data.\")\n",
    "        print(f\"There are {len(set(tokens))} unique tokens in the data.\")\n",
    "        print(f\"There are {len(''.join(tokens))} characters in the data.\")\n",
    "        print(f\"The lexical diversity is {len(set(tokens))/len(tokens):.3f} in the data.\")\n",
    "    \n",
    "        # print the five most common tokens\n",
    "        counts = Counter(tokens)\n",
    "        \n",
    "        if num_tokens > 0:\n",
    "            print(counts.most_common(num_tokens))\n",
    "        \n",
    "    return([len(tokens), \n",
    "            len(set(tokens)),\n",
    "            len(\"\".join(tokens)),\n",
    "            len(set(tokens))/len(tokens)])    \n",
    "    \n",
    "    return(0)"
   ]
  },
  {
   "cell_type": "code",
   "execution_count": 7,
   "id": "7ab0d20b",
   "metadata": {},
   "outputs": [],
   "source": [
    "# Data cleaning functions\n",
    "def contains_emoji(s):\n",
    "    \n",
    "    s = str(s)\n",
    "    emojis = [ch for ch in s if emoji.is_emoji(ch)]\n",
    "\n",
    "    return(len(emojis) > 0)\n",
    "\n",
    "\n",
    "def remove_stop(tokens) :\n",
    "    # modify this function to remove stopwords\n",
    "    return(tokens)\n",
    " \n",
    "def remove_punctuation(text, punct_set=tw_punct) : \n",
    "    return(\"\".join([ch for ch in text if ch not in punct_set]))\n",
    "\n",
    "def tokenize(text) : \n",
    "    \"\"\" Splitting on whitespace rather than the book's tokenize function. That \n",
    "        function will drop tokens like '#hashtag' or '2A', which we need for Twitter. \"\"\"\n",
    "    \n",
    "    # modify this function to return tokens\n",
    "    tokens = text.split()\n",
    "    tokens = [token.strip() for token in tokens]\n",
    "    return tokens\n",
    "\n",
    "def prepare(text, pipeline) : \n",
    "    tokens = str(text)\n",
    "    \n",
    "    for transform in pipeline : \n",
    "        tokens = transform(tokens)\n",
    "        \n",
    "    return(tokens)"
   ]
  },
  {
   "cell_type": "code",
   "execution_count": 8,
   "id": "85238e40",
   "metadata": {},
   "outputs": [],
   "source": [
    "# Apply the `pipeline` to the dataframe\n",
    "my_pipeline = [str.lower, remove_punctuation, tokenize, remove_stop]\n",
    "\n",
    "reviews_df[\"tokens\"] = reviews_df[\"Review\"].apply(prepare,pipeline=my_pipeline)\n",
    "reviews_df[\"num_tokens\"] = reviews_df[\"tokens\"].map(len) "
   ]
  },
  {
   "cell_type": "code",
   "execution_count": 9,
   "id": "8496045c",
   "metadata": {},
   "outputs": [
    {
     "data": {
      "text/html": [
       "<div>\n",
       "<style scoped>\n",
       "    .dataframe tbody tr th:only-of-type {\n",
       "        vertical-align: middle;\n",
       "    }\n",
       "\n",
       "    .dataframe tbody tr th {\n",
       "        vertical-align: top;\n",
       "    }\n",
       "\n",
       "    .dataframe thead th {\n",
       "        text-align: right;\n",
       "    }\n",
       "</style>\n",
       "<table border=\"1\" class=\"dataframe\">\n",
       "  <thead>\n",
       "    <tr style=\"text-align: right;\">\n",
       "      <th></th>\n",
       "      <th>Review</th>\n",
       "      <th>Star Rating</th>\n",
       "      <th>tokens</th>\n",
       "      <th>num_tokens</th>\n",
       "    </tr>\n",
       "  </thead>\n",
       "  <tbody>\n",
       "    <tr>\n",
       "      <th>0</th>\n",
       "      <td>\\nFirst, this charger looks fantastic. I got t...</td>\n",
       "      <td>4.0 out of 5 stars</td>\n",
       "      <td>[first, this, charger, looks, fantastic, i, go...</td>\n",
       "      <td>354</td>\n",
       "    </tr>\n",
       "    <tr>\n",
       "      <th>1</th>\n",
       "      <td>\\nUPDATE:  Well...I was wrong about this wirel...</td>\n",
       "      <td>5.0 out of 5 stars</td>\n",
       "      <td>[update, welli, was, wrong, about, this, wirel...</td>\n",
       "      <td>822</td>\n",
       "    </tr>\n",
       "    <tr>\n",
       "      <th>2</th>\n",
       "      <td>\\nThis works perfectly on the side table while...</td>\n",
       "      <td>5.0 out of 5 stars</td>\n",
       "      <td>[this, works, perfectly, on, the, side, table,...</td>\n",
       "      <td>65</td>\n",
       "    </tr>\n",
       "    <tr>\n",
       "      <th>3</th>\n",
       "      <td>\\nI purchased this charger for use in our camp...</td>\n",
       "      <td>5.0 out of 5 stars</td>\n",
       "      <td>[i, purchased, this, charger, for, use, in, ou...</td>\n",
       "      <td>49</td>\n",
       "    </tr>\n",
       "    <tr>\n",
       "      <th>4</th>\n",
       "      <td>\\nGot this for my Samsung Galaxy S23 phone, an...</td>\n",
       "      <td>5.0 out of 5 stars</td>\n",
       "      <td>[got, this, for, my, samsung, galaxy, s23, pho...</td>\n",
       "      <td>154</td>\n",
       "    </tr>\n",
       "    <tr>\n",
       "      <th>...</th>\n",
       "      <td>...</td>\n",
       "      <td>...</td>\n",
       "      <td>...</td>\n",
       "      <td>...</td>\n",
       "    </tr>\n",
       "    <tr>\n",
       "      <th>4795</th>\n",
       "      <td>\\nIt’s PERFECT for traveling. No more differen...</td>\n",
       "      <td>5.0 out of 5 stars</td>\n",
       "      <td>[it’s, perfect, for, traveling, no, more, diff...</td>\n",
       "      <td>22</td>\n",
       "    </tr>\n",
       "    <tr>\n",
       "      <th>4796</th>\n",
       "      <td>\\n\\n\\n\\n\\n                    The media could ...</td>\n",
       "      <td>5.0 out of 5 stars</td>\n",
       "      <td>[the, media, could, not, be, loaded, this, is,...</td>\n",
       "      <td>48</td>\n",
       "    </tr>\n",
       "    <tr>\n",
       "      <th>4797</th>\n",
       "      <td>\\nImpressed taking it out of the box.  All met...</td>\n",
       "      <td>5.0 out of 5 stars</td>\n",
       "      <td>[impressed, taking, it, out, of, the, box, all...</td>\n",
       "      <td>47</td>\n",
       "    </tr>\n",
       "    <tr>\n",
       "      <th>4798</th>\n",
       "      <td>\\nI love the design of this charger. Color on ...</td>\n",
       "      <td>3.0 out of 5 stars</td>\n",
       "      <td>[i, love, the, design, of, this, charger, colo...</td>\n",
       "      <td>47</td>\n",
       "    </tr>\n",
       "    <tr>\n",
       "      <th>4799</th>\n",
       "      <td>\\nkinda finnicky cuz ur phone has to be in the...</td>\n",
       "      <td>4.0 out of 5 stars</td>\n",
       "      <td>[kinda, finnicky, cuz, ur, phone, has, to, be,...</td>\n",
       "      <td>25</td>\n",
       "    </tr>\n",
       "  </tbody>\n",
       "</table>\n",
       "<p>4800 rows × 4 columns</p>\n",
       "</div>"
      ],
      "text/plain": [
       "                                                 Review         Star Rating  \\\n",
       "0     \\nFirst, this charger looks fantastic. I got t...  4.0 out of 5 stars   \n",
       "1     \\nUPDATE:  Well...I was wrong about this wirel...  5.0 out of 5 stars   \n",
       "2     \\nThis works perfectly on the side table while...  5.0 out of 5 stars   \n",
       "3     \\nI purchased this charger for use in our camp...  5.0 out of 5 stars   \n",
       "4     \\nGot this for my Samsung Galaxy S23 phone, an...  5.0 out of 5 stars   \n",
       "...                                                 ...                 ...   \n",
       "4795  \\nIt’s PERFECT for traveling. No more differen...  5.0 out of 5 stars   \n",
       "4796  \\n\\n\\n\\n\\n                    The media could ...  5.0 out of 5 stars   \n",
       "4797  \\nImpressed taking it out of the box.  All met...  5.0 out of 5 stars   \n",
       "4798  \\nI love the design of this charger. Color on ...  3.0 out of 5 stars   \n",
       "4799  \\nkinda finnicky cuz ur phone has to be in the...  4.0 out of 5 stars   \n",
       "\n",
       "                                                 tokens  num_tokens  \n",
       "0     [first, this, charger, looks, fantastic, i, go...         354  \n",
       "1     [update, welli, was, wrong, about, this, wirel...         822  \n",
       "2     [this, works, perfectly, on, the, side, table,...          65  \n",
       "3     [i, purchased, this, charger, for, use, in, ou...          49  \n",
       "4     [got, this, for, my, samsung, galaxy, s23, pho...         154  \n",
       "...                                                 ...         ...  \n",
       "4795  [it’s, perfect, for, traveling, no, more, diff...          22  \n",
       "4796  [the, media, could, not, be, loaded, this, is,...          48  \n",
       "4797  [impressed, taking, it, out, of, the, box, all...          47  \n",
       "4798  [i, love, the, design, of, this, charger, colo...          47  \n",
       "4799  [kinda, finnicky, cuz, ur, phone, has, to, be,...          25  \n",
       "\n",
       "[4800 rows x 4 columns]"
      ]
     },
     "execution_count": 9,
     "metadata": {},
     "output_type": "execute_result"
    }
   ],
   "source": [
    "reviews_df"
   ]
  },
  {
   "cell_type": "code",
   "execution_count": 10,
   "id": "f5ebd4d0",
   "metadata": {},
   "outputs": [
    {
     "name": "stdout",
     "output_type": "stream",
     "text": [
      "There are 4800 tokens in the data.\n",
      "There are 4 unique tokens in the data.\n",
      "There are 33 characters in the data.\n",
      "The lexical diversity is 0.001 in the data.\n",
      "[('Review', 1), ('Star Rating', 1), ('tokens', 1), ('num_tokens', 1)]\n"
     ]
    },
    {
     "data": {
      "text/plain": [
       "[4800, 4, 33, 0.0008333333333333334]"
      ]
     },
     "execution_count": 10,
     "metadata": {},
     "output_type": "execute_result"
    }
   ],
   "source": [
    "# Calls to descriptive_stats\n",
    "descriptive_stats(reviews_df, num_tokens=10)"
   ]
  },
  {
   "cell_type": "code",
   "execution_count": 11,
   "id": "440a476f",
   "metadata": {},
   "outputs": [],
   "source": [
    "# transform data into list of tokens\n",
    "reviews_descs = reviews_df.tokens.to_list()\n",
    "reviews_descs = [item for sublist in reviews_descs for item in sublist]"
   ]
  },
  {
   "cell_type": "code",
   "execution_count": 12,
   "id": "6e400fd0",
   "metadata": {},
   "outputs": [
    {
     "name": "stdout",
     "output_type": "stream",
     "text": [
      "There are 246944 tokens in the data.\n",
      "There are 8290 unique tokens in the data.\n",
      "There are 1027117 characters in the data.\n",
      "The lexical diversity is 0.034 in the data.\n",
      "[('the', 10379), ('it', 9292), ('i', 7803), ('and', 7527), ('to', 7009), ('a', 5860), ('my', 5121), ('is', 4464), ('this', 3721), ('charger', 3544)]\n"
     ]
    },
    {
     "data": {
      "text/plain": [
       "[246944, 8290, 1027117, 0.03357036413113904]"
      ]
     },
     "execution_count": 12,
     "metadata": {},
     "output_type": "execute_result"
    }
   ],
   "source": [
    "descriptive_stats(reviews_descs,num_tokens=10)"
   ]
  },
  {
   "cell_type": "code",
   "execution_count": null,
   "id": "d9049641",
   "metadata": {},
   "outputs": [],
   "source": [
    "## reviews_ct = Counter(reviews_df)\n",
    "## reviews_descs_ct = Counter(reviews_descs)\n",
    "\n",
    "## consideration_tokens = {w for w, c in reviews_df.items() if c >= 5}\n",
    "\n",
    "##for ct in [reviews_desc_ct] :\n",
    "##    consideration_tokens = consideration_tokens.intersection({w for w, c in ct.items if c >= 5})"
   ]
  },
  {
   "cell_type": "code",
   "execution_count": 13,
   "id": "20d34b79",
   "metadata": {},
   "outputs": [],
   "source": [
    "def get_top_tokens(counter,reference_counters,allowed_tokens,top_n=10) :\n",
    "    \"\"\"\n",
    "        Given a counter and a set of allowable tokens, get the top_n tokens\n",
    "        for the counter and print them. \"Top\" here is defined as having the \n",
    "        maximum ratio of presence in a given counter compared to the sum of the\n",
    "        other counters. \n",
    "    \"\"\"\n",
    "    \n",
    "    comparison = Counter()\n",
    "    results = defaultdict(float)\n",
    "    \n",
    "    for ct in reference_counters :\n",
    "        comparison += ct\n",
    "        \n",
    "    for token, count in counter.items() : \n",
    "        if token in allowed_tokens : \n",
    "            results[token] = count/comparison[token]\n",
    "    \n",
    "    # found this nifty trick here: https://stackoverflow.com/questions/11902665/top-values-from-dictionary\n",
    "    results = sorted([(k,v) for k, v in results.items()],key=lambda x: x[1])[-top_n:]\n",
    "    \n",
    "    return(results)"
   ]
  },
  {
   "cell_type": "code",
   "execution_count": null,
   "id": "8eef5d0b",
   "metadata": {},
   "outputs": [],
   "source": []
  },
  {
   "cell_type": "code",
   "execution_count": 14,
   "id": "ddb5cc8b",
   "metadata": {},
   "outputs": [],
   "source": [
    "# wordclouds\n",
    "\n",
    "def wordcloud(word_freq, title=None, max_words=200, stopwords=None):\n",
    "\n",
    "    wc = WordCloud(width=800, height=400, \n",
    "                   background_color= \"black\", colormap=\"Paired\", \n",
    "                   max_font_size=150, max_words=max_words)\n",
    "    \n",
    "    # convert data frame into dict\n",
    "    if type(word_freq) == pd.Series:\n",
    "        counter = Counter(word_freq.fillna(0).to_dict())\n",
    "    else:\n",
    "        counter = word_freq\n",
    "\n",
    "    # filter stop words in frequency counter\n",
    "    if stopwords is not None:\n",
    "        counter = {token:freq for (token, freq) in counter.items() \n",
    "                              if token not in stopwords}\n",
    "    wc.generate_from_frequencies(counter)\n",
    " \n",
    "    plt.title(title) \n",
    "\n",
    "    plt.imshow(wc, interpolation='bilinear')\n",
    "    plt.axis(\"off\")\n",
    "    \n",
    "    \n",
    "def count_words(df, column='tokens', preprocess=None, min_freq=2):\n",
    "\n",
    "    # process tokens and update counter\n",
    "    def update(doc):\n",
    "        tokens = doc if preprocess is None else preprocess(doc)\n",
    "        counter.update(tokens)\n",
    "\n",
    "    # create counter and run through all data\n",
    "    counter = Counter()\n",
    "    df[column].map(update)\n",
    "\n",
    "    # transform counter into data frame\n",
    "    freq_df = pd.DataFrame.from_dict(counter, orient='index', columns=['freq'])\n",
    "    freq_df = freq_df.query('freq >= @min_freq')\n",
    "    freq_df.index.name = 'token'\n",
    "    \n",
    "    return freq_df.sort_values('freq', ascending=False)"
   ]
  },
  {
   "cell_type": "code",
   "execution_count": 15,
   "id": "34186334",
   "metadata": {},
   "outputs": [
    {
     "data": {
      "image/png": "[encoded data removed]",
      "text/plain": [
       "<Figure size 432x288 with 1 Axes>"
      ]
     },
     "metadata": {
      "needs_background": "light"
     },
     "output_type": "display_data"
    }
   ],
   "source": [
    "word_count = count_words(reviews_df)\n",
    "wordcloud(word_count['freq'], max_words=100, stopwords=None)"
   ]
  },
  {
   "cell_type": "code",
   "execution_count": 16,
   "id": "f36b4c96",
   "metadata": {},
   "outputs": [
    {
     "data": {
      "text/html": [
       "<div>\n",
       "<style scoped>\n",
       "    .dataframe tbody tr th:only-of-type {\n",
       "        vertical-align: middle;\n",
       "    }\n",
       "\n",
       "    .dataframe tbody tr th {\n",
       "        vertical-align: top;\n",
       "    }\n",
       "\n",
       "    .dataframe thead th {\n",
       "        text-align: right;\n",
       "    }\n",
       "</style>\n",
       "<table border=\"1\" class=\"dataframe\">\n",
       "  <thead>\n",
       "    <tr style=\"text-align: right;\">\n",
       "      <th></th>\n",
       "      <th>Review</th>\n",
       "      <th>Star Rating</th>\n",
       "      <th>tokens</th>\n",
       "      <th>num_tokens</th>\n",
       "    </tr>\n",
       "  </thead>\n",
       "  <tbody>\n",
       "    <tr>\n",
       "      <th>0</th>\n",
       "      <td>\\nFirst, this charger looks fantastic. I got t...</td>\n",
       "      <td>3.0</td>\n",
       "      <td>[first, this, charger, looks, fantastic, i, go...</td>\n",
       "      <td>354</td>\n",
       "    </tr>\n",
       "    <tr>\n",
       "      <th>1</th>\n",
       "      <td>\\nUPDATE:  Well...I was wrong about this wirel...</td>\n",
       "      <td>4.0</td>\n",
       "      <td>[update, welli, was, wrong, about, this, wirel...</td>\n",
       "      <td>822</td>\n",
       "    </tr>\n",
       "    <tr>\n",
       "      <th>2</th>\n",
       "      <td>\\nThis works perfectly on the side table while...</td>\n",
       "      <td>4.0</td>\n",
       "      <td>[this, works, perfectly, on, the, side, table,...</td>\n",
       "      <td>65</td>\n",
       "    </tr>\n",
       "    <tr>\n",
       "      <th>3</th>\n",
       "      <td>\\nI purchased this charger for use in our camp...</td>\n",
       "      <td>4.0</td>\n",
       "      <td>[i, purchased, this, charger, for, use, in, ou...</td>\n",
       "      <td>49</td>\n",
       "    </tr>\n",
       "    <tr>\n",
       "      <th>4</th>\n",
       "      <td>\\nGot this for my Samsung Galaxy S23 phone, an...</td>\n",
       "      <td>4.0</td>\n",
       "      <td>[got, this, for, my, samsung, galaxy, s23, pho...</td>\n",
       "      <td>154</td>\n",
       "    </tr>\n",
       "    <tr>\n",
       "      <th>...</th>\n",
       "      <td>...</td>\n",
       "      <td>...</td>\n",
       "      <td>...</td>\n",
       "      <td>...</td>\n",
       "    </tr>\n",
       "    <tr>\n",
       "      <th>4795</th>\n",
       "      <td>\\nIt’s PERFECT for traveling. No more differen...</td>\n",
       "      <td>4.0</td>\n",
       "      <td>[it’s, perfect, for, traveling, no, more, diff...</td>\n",
       "      <td>22</td>\n",
       "    </tr>\n",
       "    <tr>\n",
       "      <th>4796</th>\n",
       "      <td>\\n\\n\\n\\n\\n                    The media could ...</td>\n",
       "      <td>4.0</td>\n",
       "      <td>[the, media, could, not, be, loaded, this, is,...</td>\n",
       "      <td>48</td>\n",
       "    </tr>\n",
       "    <tr>\n",
       "      <th>4797</th>\n",
       "      <td>\\nImpressed taking it out of the box.  All met...</td>\n",
       "      <td>4.0</td>\n",
       "      <td>[impressed, taking, it, out, of, the, box, all...</td>\n",
       "      <td>47</td>\n",
       "    </tr>\n",
       "    <tr>\n",
       "      <th>4798</th>\n",
       "      <td>\\nI love the design of this charger. Color on ...</td>\n",
       "      <td>2.0</td>\n",
       "      <td>[i, love, the, design, of, this, charger, colo...</td>\n",
       "      <td>47</td>\n",
       "    </tr>\n",
       "    <tr>\n",
       "      <th>4799</th>\n",
       "      <td>\\nkinda finnicky cuz ur phone has to be in the...</td>\n",
       "      <td>3.0</td>\n",
       "      <td>[kinda, finnicky, cuz, ur, phone, has, to, be,...</td>\n",
       "      <td>25</td>\n",
       "    </tr>\n",
       "  </tbody>\n",
       "</table>\n",
       "<p>4800 rows × 4 columns</p>\n",
       "</div>"
      ],
      "text/plain": [
       "                                                 Review  Star Rating  \\\n",
       "0     \\nFirst, this charger looks fantastic. I got t...          3.0   \n",
       "1     \\nUPDATE:  Well...I was wrong about this wirel...          4.0   \n",
       "2     \\nThis works perfectly on the side table while...          4.0   \n",
       "3     \\nI purchased this charger for use in our camp...          4.0   \n",
       "4     \\nGot this for my Samsung Galaxy S23 phone, an...          4.0   \n",
       "...                                                 ...          ...   \n",
       "4795  \\nIt’s PERFECT for traveling. No more differen...          4.0   \n",
       "4796  \\n\\n\\n\\n\\n                    The media could ...          4.0   \n",
       "4797  \\nImpressed taking it out of the box.  All met...          4.0   \n",
       "4798  \\nI love the design of this charger. Color on ...          2.0   \n",
       "4799  \\nkinda finnicky cuz ur phone has to be in the...          3.0   \n",
       "\n",
       "                                                 tokens  num_tokens  \n",
       "0     [first, this, charger, looks, fantastic, i, go...         354  \n",
       "1     [update, welli, was, wrong, about, this, wirel...         822  \n",
       "2     [this, works, perfectly, on, the, side, table,...          65  \n",
       "3     [i, purchased, this, charger, for, use, in, ou...          49  \n",
       "4     [got, this, for, my, samsung, galaxy, s23, pho...         154  \n",
       "...                                                 ...         ...  \n",
       "4795  [it’s, perfect, for, traveling, no, more, diff...          22  \n",
       "4796  [the, media, could, not, be, loaded, this, is,...          48  \n",
       "4797  [impressed, taking, it, out, of, the, box, all...          47  \n",
       "4798  [i, love, the, design, of, this, charger, colo...          47  \n",
       "4799  [kinda, finnicky, cuz, ur, phone, has, to, be,...          25  \n",
       "\n",
       "[4800 rows x 4 columns]"
      ]
     },
     "execution_count": 16,
     "metadata": {},
     "output_type": "execute_result"
    }
   ],
   "source": [
    "# converting 'Star Ratings' column to numerical values\n",
    "\n",
    "from sklearn.preprocessing import OrdinalEncoder\n",
    "\n",
    "encoder = OrdinalEncoder()\n",
    "reviews_df[['Star Rating']] = encoder.fit_transform(reviews_df[['Star Rating']])\n",
    "reviews_df"
   ]
  },
  {
   "cell_type": "code",
   "execution_count": 17,
   "id": "7d0efbb3",
   "metadata": {},
   "outputs": [
    {
     "name": "stdout",
     "output_type": "stream",
     "text": [
      "0.0\n",
      "4.0\n"
     ]
    }
   ],
   "source": [
    "# after the ordinal encoding, star ratings are now from 0 to 4 (0 being 1 star, 4 being 5 stars)\n",
    "print(min(reviews_df['Star Rating']))\n",
    "print(max(reviews_df['Star Rating']))"
   ]
  },
  {
   "cell_type": "code",
   "execution_count": 18,
   "id": "b9755272",
   "metadata": {},
   "outputs": [
    {
     "name": "stderr",
     "output_type": "stream",
     "text": [
      "C:\\Users\\suemi\\miniconda3\\lib\\site-packages\\seaborn\\_decorators.py:36: FutureWarning: Pass the following variable as a keyword arg: x. From version 0.12, the only valid positional argument will be `data`, and passing other arguments without an explicit keyword will result in an error or misinterpretation.\n",
      "  warnings.warn(\n"
     ]
    },
    {
     "data": {
      "image/png": "[encoded data removed]",
      "text/plain": [
       "<Figure size 432x288 with 1 Axes>"
      ]
     },
     "metadata": {
      "needs_background": "light"
     },
     "output_type": "display_data"
    }
   ],
   "source": [
    "sns.countplot(reviews_df['Star Rating'])\n",
    "reviews_df['Star Rating'].value_counts()\n",
    "plt.title(\"Star Rating Counts\")\n",
    "plt.show()"
   ]
  },
  {
   "cell_type": "code",
   "execution_count": 19,
   "id": "3fd87e33",
   "metadata": {},
   "outputs": [
    {
     "name": "stderr",
     "output_type": "stream",
     "text": [
      "C:\\Users\\suemi\\miniconda3\\lib\\site-packages\\sklearn\\utils\\deprecation.py:87: FutureWarning: Function get_feature_names is deprecated; get_feature_names is deprecated in 1.0 and will be removed in 1.2. Please use get_feature_names_out instead.\n",
      "  warnings.warn(msg, category=FutureWarning)\n"
     ]
    },
    {
     "data": {
      "text/html": [
       "<div>\n",
       "<style scoped>\n",
       "    .dataframe tbody tr th:only-of-type {\n",
       "        vertical-align: middle;\n",
       "    }\n",
       "\n",
       "    .dataframe tbody tr th {\n",
       "        vertical-align: top;\n",
       "    }\n",
       "\n",
       "    .dataframe thead th {\n",
       "        text-align: right;\n",
       "    }\n",
       "</style>\n",
       "<table border=\"1\" class=\"dataframe\">\n",
       "  <thead>\n",
       "    <tr style=\"text-align: right;\">\n",
       "      <th></th>\n",
       "      <th>negative</th>\n",
       "      <th>positive</th>\n",
       "      <th>total</th>\n",
       "    </tr>\n",
       "  </thead>\n",
       "  <tbody>\n",
       "    <tr>\n",
       "      <th>the</th>\n",
       "      <td>6838</td>\n",
       "      <td>346</td>\n",
       "      <td>7184</td>\n",
       "    </tr>\n",
       "    <tr>\n",
       "      <th>it</th>\n",
       "      <td>6855</td>\n",
       "      <td>319</td>\n",
       "      <td>7174</td>\n",
       "    </tr>\n",
       "    <tr>\n",
       "      <th>and</th>\n",
       "      <td>5353</td>\n",
       "      <td>200</td>\n",
       "      <td>5553</td>\n",
       "    </tr>\n",
       "    <tr>\n",
       "      <th>to</th>\n",
       "      <td>4409</td>\n",
       "      <td>209</td>\n",
       "      <td>4618</td>\n",
       "    </tr>\n",
       "    <tr>\n",
       "      <th>my</th>\n",
       "      <td>3562</td>\n",
       "      <td>151</td>\n",
       "      <td>3713</td>\n",
       "    </tr>\n",
       "    <tr>\n",
       "      <th>is</th>\n",
       "      <td>3023</td>\n",
       "      <td>103</td>\n",
       "      <td>3126</td>\n",
       "    </tr>\n",
       "    <tr>\n",
       "      <th>this</th>\n",
       "      <td>2677</td>\n",
       "      <td>111</td>\n",
       "      <td>2788</td>\n",
       "    </tr>\n",
       "    <tr>\n",
       "      <th>charger</th>\n",
       "      <td>2503</td>\n",
       "      <td>120</td>\n",
       "      <td>2623</td>\n",
       "    </tr>\n",
       "    <tr>\n",
       "      <th>for</th>\n",
       "      <td>2044</td>\n",
       "      <td>91</td>\n",
       "      <td>2135</td>\n",
       "    </tr>\n",
       "    <tr>\n",
       "      <th>phone</th>\n",
       "      <td>1976</td>\n",
       "      <td>146</td>\n",
       "      <td>2122</td>\n",
       "    </tr>\n",
       "  </tbody>\n",
       "</table>\n",
       "</div>"
      ],
      "text/plain": [
       "         negative  positive  total\n",
       "the          6838       346   7184\n",
       "it           6855       319   7174\n",
       "and          5353       200   5553\n",
       "to           4409       209   4618\n",
       "my           3562       151   3713\n",
       "is           3023       103   3126\n",
       "this         2677       111   2788\n",
       "charger      2503       120   2623\n",
       "for          2044        91   2135\n",
       "phone        1976       146   2122"
      ]
     },
     "execution_count": 19,
     "metadata": {},
     "output_type": "execute_result"
    }
   ],
   "source": [
    "#Identify positive and negative reviews based on star rating\n",
    "#Count frequency of tokens used in each dataset\n",
    "cv = CountVectorizer()\n",
    "cv.fit(reviews_df['Review'].values.astype('U'))\n",
    "neg_doc_matrix = cv.transform(reviews_df[reviews_df['Star Rating'] == 4.0].Review)\n",
    "pos_doc_matrix = cv.transform(reviews_df[reviews_df['Star Rating'] == 0.0].Review)\n",
    "neg_tf = np.sum(neg_doc_matrix,axis=0)\n",
    "pos_tf = np.sum(pos_doc_matrix,axis=0)\n",
    "neg = np.squeeze(np.asarray(neg_tf))\n",
    "pos = np.squeeze(np.asarray(pos_tf))\n",
    "term_freq_df = pd.DataFrame([neg,pos],\n",
    "                            columns=cv.get_feature_names()\n",
    "                           ).transpose()\n",
    "term_freq_df.columns = ['negative', 'positive']\n",
    "term_freq_df['total'] = term_freq_df['negative'] + term_freq_df['positive']\n",
    "term_freq_df.sort_values(by='total', \n",
    "                         ascending=False\n",
    "                        ).iloc[:10]"
   ]
  },
  {
   "cell_type": "markdown",
   "id": "22c83841",
   "metadata": {},
   "source": [
    "## Train Test Split"
   ]
  },
  {
   "cell_type": "code",
   "execution_count": 32,
   "id": "d946fe94",
   "metadata": {},
   "outputs": [],
   "source": [
    "X_train, X_test, Y_train, Y_test = train_test_split(reviews_df['Review'].values.astype('U'),\n",
    "                                                    reviews_df[['Star Rating']],\n",
    "                                                    test_size=0.2, random_state=42)"
   ]
  },
  {
   "cell_type": "markdown",
   "id": "42813b76",
   "metadata": {},
   "source": [
    "## Classification Model - Logistic Regression"
   ]
  },
  {
   "cell_type": "code",
   "execution_count": null,
   "id": "df427ab9",
   "metadata": {},
   "outputs": [],
   "source": [
    "#LR = LogisticRegression(random_state=42).fit(X_train, Y_train)\n",
    "\n",
    "#LR"
   ]
  },
  {
   "cell_type": "code",
   "execution_count": 34,
   "id": "7325c66f",
   "metadata": {},
   "outputs": [
    {
     "name": "stderr",
     "output_type": "stream",
     "text": [
      "C:\\Users\\suemi\\miniconda3\\lib\\site-packages\\sklearn\\utils\\validation.py:985: DataConversionWarning: A column-vector y was passed when a 1d array was expected. Please change the shape of y to (n_samples, ), for example using ravel().\n",
      "  y = column_or_1d(y, warn=True)\n",
      "C:\\Users\\suemi\\miniconda3\\lib\\site-packages\\sklearn\\linear_model\\_logistic.py:814: ConvergenceWarning: lbfgs failed to converge (status=1):\n",
      "STOP: TOTAL NO. of ITERATIONS REACHED LIMIT.\n",
      "\n",
      "Increase the number of iterations (max_iter) or scale the data as shown in:\n",
      "    https://scikit-learn.org/stable/modules/preprocessing.html\n",
      "Please also refer to the documentation for alternative solver options:\n",
      "    https://scikit-learn.org/stable/modules/linear_model.html#logistic-regression\n",
      "  n_iter_i = _check_optimize_result(\n"
     ]
    },
    {
     "data": {
      "text/plain": [
       "Pipeline(steps=[('cvect', CountVectorizer(min_df=50)),\n",
       "                ('scaler', StandardScaler(with_mean=False)),\n",
       "                ('lr', LogisticRegression())])"
      ]
     },
     "execution_count": 34,
     "metadata": {},
     "output_type": "execute_result"
    }
   ],
   "source": [
    "#logic regression model\n",
    "LR = Pipeline([('cvect', CountVectorizer(min_df = 50)),\n",
    "               (\"scaler\", preprocessing.StandardScaler(with_mean=False)),\n",
    "               ('lr', LogisticRegression())])\n",
    "\n",
    "LR.fit(X_train, Y_train)"
   ]
  },
  {
   "cell_type": "code",
   "execution_count": 37,
   "id": "05e6f71f",
   "metadata": {},
   "outputs": [
    {
     "name": "stdout",
     "output_type": "stream",
     "text": [
      "              precision    recall  f1-score   support\n",
      "\n",
      "         0.0       0.14      0.11      0.12        19\n",
      "         1.0       0.11      0.16      0.13        38\n",
      "         2.0       0.22      0.23      0.23        77\n",
      "         3.0       0.46      0.33      0.38       224\n",
      "         4.0       0.79      0.85      0.82       602\n",
      "\n",
      "    accuracy                           0.64       960\n",
      "   macro avg       0.34      0.34      0.34       960\n",
      "weighted avg       0.63      0.64      0.63       960\n",
      "\n"
     ]
    }
   ],
   "source": [
    "#apply model on test\n",
    "\n",
    "print(classification_report(Y_test, LR.predict(X_test), labels=np.unique(LR.predict(X_test))))"
   ]
  },
  {
   "cell_type": "markdown",
   "id": "85b87e05",
   "metadata": {},
   "source": [
    "## Topic Modeling - LDA (Latent Dirichlet Allocation)"
   ]
  },
  {
   "cell_type": "code",
   "execution_count": 44,
   "id": "90acf356",
   "metadata": {},
   "outputs": [],
   "source": [
    "import pyLDAvis.lda_model\n",
    "from tqdm.auto import tqdm\n",
    "\n",
    "import spacy\n",
    "from sklearn.feature_extraction.text import TfidfVectorizer, CountVectorizer\n",
    "from sklearn.decomposition import NMF, TruncatedSVD, LatentDirichletAllocation\n",
    "\n",
    "from spacy.lang.en.stop_words import STOP_WORDS as stopwords"
   ]
  },
  {
   "cell_type": "code",
   "execution_count": 42,
   "id": "9ce02516",
   "metadata": {},
   "outputs": [
    {
     "data": {
      "text/plain": [
       "(4800, 1846)"
      ]
     },
     "execution_count": 42,
     "metadata": {},
     "output_type": "execute_result"
    }
   ],
   "source": [
    "# Count Vectorization\n",
    "count_text_vectorizer = CountVectorizer(stop_words=list(stopwords), min_df=5, max_df=0.7)\n",
    "count_text_vectors = count_text_vectorizer.fit_transform(reviews_df['Review'].values.astype('U'))\n",
    "count_text_vectors.shape"
   ]
  },
  {
   "cell_type": "code",
   "execution_count": 45,
   "id": "4f9acd04",
   "metadata": {},
   "outputs": [
    {
     "data": {
      "text/plain": [
       "(4800, 1846)"
      ]
     },
     "execution_count": 45,
     "metadata": {},
     "output_type": "execute_result"
    }
   ],
   "source": [
    "# TF-IDF\n",
    "tfidf_text_vectorizer = TfidfVectorizer(stop_words=list(stopwords), min_df=5, max_df=0.7)\n",
    "tfidf_text_vectors = tfidf_text_vectorizer.fit_transform(reviews_df['Review'].values.astype('U'))\n",
    "tfidf_text_vectors.shape"
   ]
  },
  {
   "cell_type": "code",
   "execution_count": 46,
   "id": "6474b9a4",
   "metadata": {},
   "outputs": [],
   "source": [
    "lda_model = LatentDirichletAllocation(n_components = 6, random_state=314)\n",
    "W_lda_matrix = lda_model.fit_transform(count_text_vectors)\n",
    "H_lda_matrix = lda_model.components_"
   ]
  },
  {
   "cell_type": "code",
   "execution_count": 48,
   "id": "4099f170",
   "metadata": {},
   "outputs": [],
   "source": [
    "# This function comes from the BTAP repo.\n",
    "\n",
    "def display_topics(model, features, no_top_words=5):\n",
    "    for topic, words in enumerate(model.components_):\n",
    "        total = words.sum()\n",
    "        largest = words.argsort()[::-1] # invert sort order\n",
    "        print(\"\\nTopic %02d\" % topic)\n",
    "        for i in range(0, no_top_words):\n",
    "            print(\"  %s (%2.2f)\" % (features[largest[i]], abs(words[largest[i]]*100.0/total)))"
   ]
  },
  {
   "cell_type": "code",
   "execution_count": 50,
   "id": "2326fe0b",
   "metadata": {},
   "outputs": [
    {
     "name": "stdout",
     "output_type": "stream",
     "text": [
      "\n",
      "Topic 00\n",
      "  phone (5.64)\n",
      "  charging (5.63)\n",
      "  light (3.40)\n",
      "  charger (2.73)\n",
      "  green (2.54)\n",
      "\n",
      "Topic 01\n",
      "  phone (2.72)\n",
      "  great (2.17)\n",
      "  product (1.96)\n",
      "  customer (1.69)\n",
      "  service (1.48)\n",
      "\n",
      "Topic 02\n",
      "  phone (3.87)\n",
      "  charger (3.85)\n",
      "  charge (3.29)\n",
      "  charging (2.77)\n",
      "  case (2.08)\n",
      "\n",
      "Topic 03\n",
      "  phone (5.29)\n",
      "  charge (5.01)\n",
      "  charger (3.74)\n",
      "  use (3.36)\n",
      "  charging (2.98)\n",
      "\n",
      "Topic 04\n",
      "  charger (4.52)\n",
      "  wireless (3.00)\n",
      "  charging (2.84)\n",
      "  great (2.71)\n",
      "  usb (2.31)\n",
      "\n",
      "Topic 05\n",
      "  charger (3.99)\n",
      "  love (3.29)\n",
      "  great (2.53)\n",
      "  wireless (2.33)\n",
      "  use (2.02)\n"
     ]
    }
   ],
   "source": [
    "display_topics(lda_model, count_text_vectorizer.get_feature_names_out())"
   ]
  },
  {
   "cell_type": "code",
   "execution_count": 51,
   "id": "d3beed6a",
   "metadata": {},
   "outputs": [],
   "source": [
    "lda_display = pyLDAvis.lda_model.prepare(lda_model, count_text_vectors, count_text_vectorizer,sort_topics=False)"
   ]
  },
  {
   "cell_type": "code",
   "execution_count": 52,
   "id": "39542ad4",
   "metadata": {},
   "outputs": [
    {
     "data": {
      "text/plain": [
       "PreparedData(topic_coordinates=              x         y  topics  cluster       Freq\n",
       "topic                                                \n",
       "0     -0.135794  0.115571       1        1  18.702032\n",
       "1     -0.120739 -0.140785       2        1   9.259926\n",
       "2     -0.021576 -0.053952       3        1  19.044718\n",
       "3      0.005425  0.084710       4        1  18.346979\n",
       "4      0.111725  0.041346       5        1  20.838188\n",
       "5      0.160960 -0.046890       6        1  13.808158, topic_info=        Term         Freq        Total Category  logprob  loglift\n",
       "193     blue   472.000000   472.000000  Default  30.0000  30.0000\n",
       "910    light   774.000000   774.000000  Default  29.0000  29.0000\n",
       "710    green   484.000000   484.000000  Default  28.0000  28.0000\n",
       "1174   phone  3304.000000  3304.000000  Default  27.0000  27.0000\n",
       "286   charge  2201.000000  2201.000000  Default  26.0000  26.0000\n",
       "...      ...          ...          ...      ...      ...      ...\n",
       "700     good   132.138623   688.476320   Topic6  -4.6515   0.3293\n",
       "917     like   137.751884   934.832971   Topic6  -4.6099   0.0650\n",
       "1174   phone   202.341074  3304.185323   Topic6  -4.2254  -0.8131\n",
       "1066    nice   118.579848   639.596786   Topic6  -4.7598   0.2947\n",
       "1819    work   118.070764   684.654864   Topic6  -4.7641   0.2223\n",
       "\n",
       "[475 rows x 6 columns], token_table=      Topic      Freq     Term\n",
       "term                          \n",
       "1         1  0.033036       10\n",
       "1         2  0.046251       10\n",
       "1         3  0.237860       10\n",
       "1         4  0.502149       10\n",
       "1         5  0.066072       10\n",
       "...     ...       ...      ...\n",
       "1839      5  0.177473     year\n",
       "1839      6  0.229671     year\n",
       "1840      3  0.968689    years\n",
       "1840      5  0.023627    years\n",
       "1844      3  0.937782  yootech\n",
       "\n",
       "[1063 rows x 3 columns], R=30, lambda_step=0.01, plot_opts={'xlab': 'PC1', 'ylab': 'PC2'}, topic_order=[1, 2, 3, 4, 5, 6])"
      ]
     },
     "execution_count": 52,
     "metadata": {},
     "output_type": "execute_result"
    }
   ],
   "source": [
    "lda_display"
   ]
  },
  {
   "cell_type": "code",
   "execution_count": null,
   "id": "6888656a",
   "metadata": {},
   "outputs": [],
   "source": []
  }
 ],
 "metadata": {
  "kernelspec": {
   "display_name": "Python 3 (ipykernel)",
   "language": "python",
   "name": "python3"
  },
  "language_info": {
   "codemirror_mode": {
    "name": "ipython",
    "version": 3
   },
   "file_extension": ".py",
   "mimetype": "text/x-python",
   "name": "python",
   "nbconvert_exporter": "python",
   "pygments_lexer": "ipython3",
   "version": "3.9.5"
  }
 },
 "nbformat": 4,
 "nbformat_minor": 5
}
